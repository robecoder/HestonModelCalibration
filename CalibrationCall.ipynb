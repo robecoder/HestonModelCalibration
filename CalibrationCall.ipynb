{
  "nbformat": 4,
  "nbformat_minor": 0,
  "metadata": {
    "colab": {
      "provenance": []
    },
    "kernelspec": {
      "name": "python3",
      "display_name": "Python 3"
    },
    "language_info": {
      "name": "python"
    }
  },
  "cells": [
    {
      "cell_type": "code",
      "execution_count": null,
      "metadata": {
        "id": "pmehHoJ1FXNJ"
      },
      "outputs": [],
      "source": [
        "import os\n",
        "import numpy as np\n",
        "import pandas as pd\n",
        "import matplotlib.pyplot as plt\n",
        "from scipy.integrate import quadrature\n",
        "from scipy.optimize import least_squares \n",
        "from datetime import datetime as dt\n",
        "from eod import EodHistoricalData\n",
        "from nelson_siegel_svensson import NelsonSiegelSvenssonCurve\n",
        "from nelson_siegel_svensson.calibrate import calibrate_nss_ols\n",
        "import py_vollib_vectorized"
      ]
    },
    {
      "cell_type": "code",
      "source": [
        "S0=15922"
      ],
      "metadata": {
        "id": "IdzzZBpiBjox"
      },
      "execution_count": null,
      "outputs": []
    },
    {
      "cell_type": "code",
      "source": [
        "df1= pd.read_csv('/content/dyh23-volatility-greeks-exp-03_18_23-show-all-02-04-2023.csv')\n",
        "df2= pd.read_csv('/content/dym23-volatility-greeks-exp-04_22_23-%moneyness%-02-04-2023.csv')\n",
        "df3= pd.read_csv('/content/dym23-volatility-greeks-exp-06_17_23-%moneyness%-02-04-2023.csv')\n",
        "df4= pd.read_csv('/content/dyu23-volatility-greeks-exp-09_16_23-%moneyness%-02-04-2023.csv')\n",
        "df5= pd.read_csv('/content/dyz23-volatility-greeks-exp-12_16_23-%moneyness%-02-04-2023.csv')"
      ],
      "metadata": {
        "id": "P9J2LxDH2BfQ"
      },
      "execution_count": null,
      "outputs": []
    },
    {
      "cell_type": "code",
      "source": [
        "df1['exp']=dt(2023, 3, 18)\n",
        "df2['exp']=dt(2023, 4, 22)\n",
        "df3['exp']=dt(2023, 6, 17)\n",
        "df4['exp']=dt(2023, 9, 23)\n",
        "df5['exp']=dt(2023, 12, 23)"
      ],
      "metadata": {
        "id": "4TDpboe-3cXG"
      },
      "execution_count": null,
      "outputs": []
    },
    {
      "cell_type": "code",
      "source": [
        "df_call = pd.concat([df1[df1['Type']=='Call'], df2[df2['Type']=='Call'], df3[df3['Type']=='Call'], df4[df4['Type']=='Call'], df5[df5['Type']=='Call']], ignore_index=True)\n",
        "df_put = pd.concat([df1[df1['Type']=='Put'], df2[df2['Type']=='Put'], df3[df3['Type']=='Put'], df4[df4['Type']=='Put'], df5[df5['Type']=='Put']], ignore_index=True)"
      ],
      "metadata": {
        "id": "HqD1Qgml2w_l"
      },
      "execution_count": null,
      "outputs": []
    },
    {
      "cell_type": "code",
      "source": [
        "df_call['Time']=dt(2023, 2, 4)\n",
        "df_put['Time']=dt(2023, 2, 4)"
      ],
      "metadata": {
        "id": "uM0m8dKm7CE_"
      },
      "execution_count": null,
      "outputs": []
    },
    {
      "cell_type": "code",
      "source": [
        "df_call['tau']=(df_call['exp']-df_call['Time']).dt.days/365\n",
        "df_put['tau']=(df_put['exp']-df_put['Time']).dt.days/365"
      ],
      "metadata": {
        "id": "dmzFcpKP7ZTT"
      },
      "execution_count": null,
      "outputs": []
    },
    {
      "cell_type": "code",
      "source": [
        "df_call['IV']=df_call['IV'].str.strip('%').to_numpy('float')\n",
        "df_put['IV']=df_put['IV'].str.strip('%').to_numpy('float')"
      ],
      "metadata": {
        "id": "h8K8WB9eiOPv"
      },
      "execution_count": null,
      "outputs": []
    },
    {
      "cell_type": "code",
      "source": [
        "df_call.head()"
      ],
      "metadata": {
        "colab": {
          "base_uri": "https://localhost:8080/",
          "height": 266
        },
        "id": "1fMQT2ACAKNM",
        "outputId": "96935a6b-f6d4-4bbb-c482-4860feb02216"
      },
      "execution_count": null,
      "outputs": [
        {
          "output_type": "execute_result",
          "data": {
            "text/plain": [
              "  Strike  Type     Last      IV     Delta          Gamma          Theta  \\\n",
              "0   4500  Call  10979.5  172.50  0.994668  4.243346e-115 -4.015857e-112   \n",
              "1   5000  Call  10480.9  157.50  0.994668   5.154146e-97  -5.884828e-94   \n",
              "2   5500  Call   9982.2  143.94  0.994668   4.872158e-82  -6.592205e-79   \n",
              "3   6000  Call   9483.6  131.69  0.994668   1.627567e-69  -2.571346e-66   \n",
              "4   6500  Call   8984.9  120.41  0.994668   5.819387e-59  -1.060279e-55   \n",
              "\n",
              "            Vega   IV Skew       Time        exp Last Trade       tau  \n",
              "0  1.896728e-110  +158.26% 2023-02-04 2023-03-18        NaN  0.115068  \n",
              "1   2.303845e-92  +143.26% 2023-02-04 2023-03-18        NaN  0.115068  \n",
              "2   2.177800e-77  +129.69% 2023-02-04 2023-03-18        NaN  0.115068  \n",
              "3   7.275042e-65  +117.45% 2023-02-04 2023-03-18        NaN  0.115068  \n",
              "4   2.601200e-54  +106.16% 2023-02-04 2023-03-18        NaN  0.115068  "
            ],
            "text/html": [
              "\n",
              "  <div id=\"df-813d686e-ff8e-4732-9631-597b84a23579\">\n",
              "    <div class=\"colab-df-container\">\n",
              "      <div>\n",
              "<style scoped>\n",
              "    .dataframe tbody tr th:only-of-type {\n",
              "        vertical-align: middle;\n",
              "    }\n",
              "\n",
              "    .dataframe tbody tr th {\n",
              "        vertical-align: top;\n",
              "    }\n",
              "\n",
              "    .dataframe thead th {\n",
              "        text-align: right;\n",
              "    }\n",
              "</style>\n",
              "<table border=\"1\" class=\"dataframe\">\n",
              "  <thead>\n",
              "    <tr style=\"text-align: right;\">\n",
              "      <th></th>\n",
              "      <th>Strike</th>\n",
              "      <th>Type</th>\n",
              "      <th>Last</th>\n",
              "      <th>IV</th>\n",
              "      <th>Delta</th>\n",
              "      <th>Gamma</th>\n",
              "      <th>Theta</th>\n",
              "      <th>Vega</th>\n",
              "      <th>IV Skew</th>\n",
              "      <th>Time</th>\n",
              "      <th>exp</th>\n",
              "      <th>Last Trade</th>\n",
              "      <th>tau</th>\n",
              "    </tr>\n",
              "  </thead>\n",
              "  <tbody>\n",
              "    <tr>\n",
              "      <th>0</th>\n",
              "      <td>4500</td>\n",
              "      <td>Call</td>\n",
              "      <td>10979.5</td>\n",
              "      <td>172.50</td>\n",
              "      <td>0.994668</td>\n",
              "      <td>4.243346e-115</td>\n",
              "      <td>-4.015857e-112</td>\n",
              "      <td>1.896728e-110</td>\n",
              "      <td>+158.26%</td>\n",
              "      <td>2023-02-04</td>\n",
              "      <td>2023-03-18</td>\n",
              "      <td>NaN</td>\n",
              "      <td>0.115068</td>\n",
              "    </tr>\n",
              "    <tr>\n",
              "      <th>1</th>\n",
              "      <td>5000</td>\n",
              "      <td>Call</td>\n",
              "      <td>10480.9</td>\n",
              "      <td>157.50</td>\n",
              "      <td>0.994668</td>\n",
              "      <td>5.154146e-97</td>\n",
              "      <td>-5.884828e-94</td>\n",
              "      <td>2.303845e-92</td>\n",
              "      <td>+143.26%</td>\n",
              "      <td>2023-02-04</td>\n",
              "      <td>2023-03-18</td>\n",
              "      <td>NaN</td>\n",
              "      <td>0.115068</td>\n",
              "    </tr>\n",
              "    <tr>\n",
              "      <th>2</th>\n",
              "      <td>5500</td>\n",
              "      <td>Call</td>\n",
              "      <td>9982.2</td>\n",
              "      <td>143.94</td>\n",
              "      <td>0.994668</td>\n",
              "      <td>4.872158e-82</td>\n",
              "      <td>-6.592205e-79</td>\n",
              "      <td>2.177800e-77</td>\n",
              "      <td>+129.69%</td>\n",
              "      <td>2023-02-04</td>\n",
              "      <td>2023-03-18</td>\n",
              "      <td>NaN</td>\n",
              "      <td>0.115068</td>\n",
              "    </tr>\n",
              "    <tr>\n",
              "      <th>3</th>\n",
              "      <td>6000</td>\n",
              "      <td>Call</td>\n",
              "      <td>9483.6</td>\n",
              "      <td>131.69</td>\n",
              "      <td>0.994668</td>\n",
              "      <td>1.627567e-69</td>\n",
              "      <td>-2.571346e-66</td>\n",
              "      <td>7.275042e-65</td>\n",
              "      <td>+117.45%</td>\n",
              "      <td>2023-02-04</td>\n",
              "      <td>2023-03-18</td>\n",
              "      <td>NaN</td>\n",
              "      <td>0.115068</td>\n",
              "    </tr>\n",
              "    <tr>\n",
              "      <th>4</th>\n",
              "      <td>6500</td>\n",
              "      <td>Call</td>\n",
              "      <td>8984.9</td>\n",
              "      <td>120.41</td>\n",
              "      <td>0.994668</td>\n",
              "      <td>5.819387e-59</td>\n",
              "      <td>-1.060279e-55</td>\n",
              "      <td>2.601200e-54</td>\n",
              "      <td>+106.16%</td>\n",
              "      <td>2023-02-04</td>\n",
              "      <td>2023-03-18</td>\n",
              "      <td>NaN</td>\n",
              "      <td>0.115068</td>\n",
              "    </tr>\n",
              "  </tbody>\n",
              "</table>\n",
              "</div>\n",
              "      <button class=\"colab-df-convert\" onclick=\"convertToInteractive('df-813d686e-ff8e-4732-9631-597b84a23579')\"\n",
              "              title=\"Convert this dataframe to an interactive table.\"\n",
              "              style=\"display:none;\">\n",
              "        \n",
              "  <svg xmlns=\"http://www.w3.org/2000/svg\" height=\"24px\"viewBox=\"0 0 24 24\"\n",
              "       width=\"24px\">\n",
              "    <path d=\"M0 0h24v24H0V0z\" fill=\"none\"/>\n",
              "    <path d=\"M18.56 5.44l.94 2.06.94-2.06 2.06-.94-2.06-.94-.94-2.06-.94 2.06-2.06.94zm-11 1L8.5 8.5l.94-2.06 2.06-.94-2.06-.94L8.5 2.5l-.94 2.06-2.06.94zm10 10l.94 2.06.94-2.06 2.06-.94-2.06-.94-.94-2.06-.94 2.06-2.06.94z\"/><path d=\"M17.41 7.96l-1.37-1.37c-.4-.4-.92-.59-1.43-.59-.52 0-1.04.2-1.43.59L10.3 9.45l-7.72 7.72c-.78.78-.78 2.05 0 2.83L4 21.41c.39.39.9.59 1.41.59.51 0 1.02-.2 1.41-.59l7.78-7.78 2.81-2.81c.8-.78.8-2.07 0-2.86zM5.41 20L4 18.59l7.72-7.72 1.47 1.35L5.41 20z\"/>\n",
              "  </svg>\n",
              "      </button>\n",
              "      \n",
              "  <style>\n",
              "    .colab-df-container {\n",
              "      display:flex;\n",
              "      flex-wrap:wrap;\n",
              "      gap: 12px;\n",
              "    }\n",
              "\n",
              "    .colab-df-convert {\n",
              "      background-color: #E8F0FE;\n",
              "      border: none;\n",
              "      border-radius: 50%;\n",
              "      cursor: pointer;\n",
              "      display: none;\n",
              "      fill: #1967D2;\n",
              "      height: 32px;\n",
              "      padding: 0 0 0 0;\n",
              "      width: 32px;\n",
              "    }\n",
              "\n",
              "    .colab-df-convert:hover {\n",
              "      background-color: #E2EBFA;\n",
              "      box-shadow: 0px 1px 2px rgba(60, 64, 67, 0.3), 0px 1px 3px 1px rgba(60, 64, 67, 0.15);\n",
              "      fill: #174EA6;\n",
              "    }\n",
              "\n",
              "    [theme=dark] .colab-df-convert {\n",
              "      background-color: #3B4455;\n",
              "      fill: #D2E3FC;\n",
              "    }\n",
              "\n",
              "    [theme=dark] .colab-df-convert:hover {\n",
              "      background-color: #434B5C;\n",
              "      box-shadow: 0px 1px 3px 1px rgba(0, 0, 0, 0.15);\n",
              "      filter: drop-shadow(0px 1px 2px rgba(0, 0, 0, 0.3));\n",
              "      fill: #FFFFFF;\n",
              "    }\n",
              "  </style>\n",
              "\n",
              "      <script>\n",
              "        const buttonEl =\n",
              "          document.querySelector('#df-813d686e-ff8e-4732-9631-597b84a23579 button.colab-df-convert');\n",
              "        buttonEl.style.display =\n",
              "          google.colab.kernel.accessAllowed ? 'block' : 'none';\n",
              "\n",
              "        async function convertToInteractive(key) {\n",
              "          const element = document.querySelector('#df-813d686e-ff8e-4732-9631-597b84a23579');\n",
              "          const dataTable =\n",
              "            await google.colab.kernel.invokeFunction('convertToInteractive',\n",
              "                                                     [key], {});\n",
              "          if (!dataTable) return;\n",
              "\n",
              "          const docLinkHtml = 'Like what you see? Visit the ' +\n",
              "            '<a target=\"_blank\" href=https://colab.research.google.com/notebooks/data_table.ipynb>data table notebook</a>'\n",
              "            + ' to learn more about interactive tables.';\n",
              "          element.innerHTML = '';\n",
              "          dataTable['output_type'] = 'display_data';\n",
              "          await google.colab.output.renderOutput(dataTable, element);\n",
              "          const docLink = document.createElement('div');\n",
              "          docLink.innerHTML = docLinkHtml;\n",
              "          element.appendChild(docLink);\n",
              "        }\n",
              "      </script>\n",
              "    </div>\n",
              "  </div>\n",
              "  "
            ]
          },
          "metadata": {},
          "execution_count": 44
        }
      ]
    },
    {
      "cell_type": "code",
      "source": [
        "def heston_charfunc(phi, S0, v0, kappa, theta, sigma, rho, lambd, tau, r):\n",
        "    \n",
        "    # constants\n",
        "    a = kappa*theta\n",
        "    b = kappa+lambd\n",
        "    \n",
        "    # common terms w.r.t phi\n",
        "    rspi = rho*sigma*phi*1j\n",
        "    \n",
        "    # define d parameter given phi and b\n",
        "    d = np.sqrt( (rho*sigma*phi*1j - b)**2 + (phi*1j+phi**2)*sigma**2 )\n",
        "    \n",
        "    # define g parameter given phi, b and d\n",
        "    g = (b-rspi+d)/(b-rspi-d)\n",
        "    \n",
        "    # calculate characteristic function by components\n",
        "    exp1 = np.exp(r*phi*1j*tau)\n",
        "    term2 = S0**(phi*1j) * ( (1-g*np.exp(d*tau))/(1-g) )**(-2*a/sigma**2)\n",
        "    exp2 = np.exp(a*tau*(b-rspi+d)/sigma**2 + v0*(b-rspi+d)*( (1-np.exp(d*tau))/(1-g*np.exp(d*tau)) )/sigma**2)\n",
        "    return exp1*term2*exp2"
      ],
      "metadata": {
        "id": "oN0UtUsPFsfs"
      },
      "execution_count": null,
      "outputs": []
    },
    {
      "cell_type": "code",
      "source": [
        "(10-1j)*1j"
      ],
      "metadata": {
        "colab": {
          "base_uri": "https://localhost:8080/"
        },
        "id": "nc5_6i7KuzKP",
        "outputId": "8fbe9308-780c-488b-fd28-e6c51443cf93"
      },
      "execution_count": null,
      "outputs": [
        {
          "output_type": "execute_result",
          "data": {
            "text/plain": [
              "(1+10j)"
            ]
          },
          "metadata": {},
          "execution_count": 46
        }
      ]
    },
    {
      "cell_type": "code",
      "source": [
        "#v0, kappa, theta, sigma, rho, lambd\n",
        "def integrand(phi, S0,  v0, kappa, theta, sigma, rho, lambd, tau, r, K):\n",
        "\n",
        "  args = (S0, v0, kappa, theta, sigma, rho, lambd, tau, r)\n",
        "  \n",
        "  \n",
        "  numerator = np.exp(r*tau) * heston_charfunc(phi-1j,*args) - K*heston_charfunc(phi,*args)\n",
        "  \n",
        "  denominator = 1j*phi*K**(1j*phi)\n",
        "  return numerator/denominator"
      ],
      "metadata": {
        "id": "o5vUCEIEHxGd"
      },
      "execution_count": null,
      "outputs": []
    },
    {
      "cell_type": "code",
      "source": [
        "def vectorized_quad(integrand, S0, K, v0, kappa, theta, sigma, rho, lambd, tau, r):\n",
        "    result = np.zeros(len(K))\n",
        "    for i in range(len(K)):\n",
        "        t = tau[i]\n",
        "        result[i], _ = quadrature(integrand, 0, 100, maxiter = 25, args=(S0, v0, kappa, theta, sigma, rho, lambd, t, r[i], K[i]))\n",
        "    return result"
      ],
      "metadata": {
        "id": "DiqkLkqiervh"
      },
      "execution_count": null,
      "outputs": []
    },
    {
      "cell_type": "code",
      "source": [
        "def heston_price(S0, K, v0, kappa, theta, sigma, rho, lambd, tau, r):\n",
        "\n",
        "  \n",
        "  \n",
        "  real_integral = np.real(vectorized_quad(integrand, S0, K, v0, kappa, theta, sigma, rho, lambd, tau, r) )\n",
        "    \n",
        "  return (S0 - K*np.exp(-r*tau))/2 + real_integral/np.pi"
      ],
      "metadata": {
        "id": "_7QRDQZaFtJm"
      },
      "execution_count": null,
      "outputs": []
    },
    {
      "cell_type": "markdown",
      "source": [
        "Where I found the rates for the Germany Governments bonds\n",
        "http://www.worldgovernmentbonds.com/country/germany/"
      ],
      "metadata": {
        "id": "iPqTK4lgBIUF"
      }
    },
    {
      "cell_type": "code",
      "source": [
        "rates = {1/12:\t2.440,\t\n",
        "3/12:\t2.5782,\t\n",
        "6/12:\t2.725,\t\n",
        "9/12:\t2.940,\t\n",
        "1:\t2.919,\t\n",
        "2:\t2.765,\t\n",
        "3:  2.516,\t\n",
        "4:\t2.409,\t\n",
        "5:\t2.399,\t\n",
        "6:\t2.319,\t\n",
        "7:\t2.303,\t\n",
        "8:\t2.303,\t\n",
        "9:\t2.313,\t\n",
        "10:\t2.362,\t\n",
        "15:\t2.439,\t\n",
        "20:\t2.410,\t\n",
        "25:\t2.328,\t\n",
        "30:\t2.320}\t"
      ],
      "metadata": {
        "id": "aSVWecDMYwg_"
      },
      "execution_count": null,
      "outputs": []
    },
    {
      "cell_type": "code",
      "source": [
        "mat = []\n",
        "rate = []\n",
        "for i, j in rates.items():\n",
        "  mat.append(i)\n",
        "  rate.append(j/100)\n",
        "mat = np.array(mat)\n",
        "rate = np.array(rate)"
      ],
      "metadata": {
        "id": "nBTWHdfwDhRd"
      },
      "execution_count": null,
      "outputs": []
    },
    {
      "cell_type": "code",
      "source": [
        "curve_fit, status = calibrate_nss_ols(mat, rate) \n",
        "curve_fit"
      ],
      "metadata": {
        "colab": {
          "base_uri": "https://localhost:8080/"
        },
        "id": "l-Va0kZ5CX0E",
        "outputId": "6e1a413e-d2a4-4efe-958d-f919c4fc9295"
      },
      "execution_count": null,
      "outputs": [
        {
          "output_type": "execute_result",
          "data": {
            "text/plain": [
              "NelsonSiegelSvenssonCurve(beta0=0.027281114404616363, beta1=-0.0008170676412227167, beta2=0.014071560272008411, beta3=-0.023836160555950073, tau1=2.0, tau2=5.0)"
            ]
          },
          "metadata": {},
          "execution_count": 52
        }
      ]
    },
    {
      "cell_type": "code",
      "source": [
        "df_call['r']= df_call['tau'].apply(curve_fit)\n",
        "df_put['r']= df_put['tau'].apply(curve_fit)\n",
        "K = df_call['Strike'].to_numpy('float') # strike\n",
        "tau = df_call['tau']#df_call['tau'] # time to maturity\n",
        "r = df_call['r']"
      ],
      "metadata": {
        "id": "RBiKgRkMETWT"
      },
      "execution_count": null,
      "outputs": []
    },
    {
      "cell_type": "code",
      "source": [
        "iv=df_call['IV']/100"
      ],
      "metadata": {
        "id": "ezRNLhqjmX7i"
      },
      "execution_count": null,
      "outputs": []
    },
    {
      "cell_type": "code",
      "source": [
        "def heston_ivol(x):\n",
        "  v0, kappa, theta, sigma, rho, lambd = [param for param in x]\n",
        "  P = heston_price(S0, K, v0, kappa, theta, sigma, rho, lambd, tau, r)\n",
        "  impl = py_vollib_vectorized.vectorized_implied_volatility(P, S0, K, tau, r, flag = ['c'], q=0, model='black_scholes',return_as='numpy', on_error='ignore')\n",
        "  diff = iv - impl\n",
        "  return diff\n"
      ],
      "metadata": {
        "id": "mYAumKwOI1tH"
      },
      "execution_count": null,
      "outputs": []
    },
    {
      "cell_type": "code",
      "source": [
        "def calibrate_heston(df, S0, x, r):\n",
        "    \n",
        "  K=df['Strike']\n",
        "  tau=df['tau']\n",
        "  iv = df['IV']/100\n",
        "  r=df['r']\n",
        "  S0=S0\n",
        "\n",
        "  #market_ivol = heston_ivol(S0, K, v0, kappa, theta, sigma, rho, lambd, tau, r, iv)\n",
        "  res = least_squares(heston_ivol, x0=np.array(x), verbose=0, max_nfev=100, method='lm')\n",
        "  return res.x"
      ],
      "metadata": {
        "id": "-KkkryRBzniW"
      },
      "execution_count": null,
      "outputs": []
    },
    {
      "cell_type": "code",
      "source": [
        "#v0, kappa, theta, sigma, rho, lambd\n",
        "v0_dict = {'a': 0.1838, 'b': 0.0400, 'c':0.1500, 'd': 0.0231, 'e':0.0654}\n",
        "kappa_dict = {'a': 6.5482, 'b': 1.1500, 'c': 3.0000, 'd': 1.3784, 'e': 0.6067}\n",
        "theta_dict = {'a': 0.0731, 'b': 0.0400, 'c': 0.0500, 'd': 0.2319, 'e': 0.0707}\n",
        "sigma_dict = {'a': 2.3012, 'b': 0.2000, 'c': 0.5000, 'd':1.0359, 'e': 0.2928}\n",
        "rho_dict = {'a': -0.4176, 'b': -0.4000, 'c': -0.5000, 'd': -0.2051, 'e': -0.7571}\n",
        "lambd_dict = {'a':0, 'b':0, 'c':0, 'd':0, 'e':0}\n"
      ],
      "metadata": {
        "id": "fQnlIzseRAJs"
      },
      "execution_count": null,
      "outputs": []
    },
    {
      "cell_type": "code",
      "source": [
        "params={}\n",
        "for i in v0_dict.keys():\n",
        "  \n",
        "  params[i]=calibrate_heston(df_call, S0, [v0_dict[i], kappa_dict[i], theta_dict[i], sigma_dict[i], rho_dict[i], lambd_dict[i]], r)"
      ],
      "metadata": {
        "id": "ZTgKJKRN_H5V"
      },
      "execution_count": null,
      "outputs": []
    },
    {
      "cell_type": "code",
      "source": [
        "params['a']"
      ],
      "metadata": {
        "colab": {
          "base_uri": "https://localhost:8080/"
        },
        "id": "OPQCl_ZnABfS",
        "outputId": "b2565c39-94a6-471a-e0b3-f26cc2de6c32"
      },
      "execution_count": null,
      "outputs": [
        {
          "output_type": "execute_result",
          "data": {
            "text/plain": [
              "array([1.81399184e-01, 1.14899794e+01, 5.55634143e-03, 1.45734313e-01,\n",
              "       2.56457237e+00, 4.94233382e+00])"
            ]
          },
          "metadata": {},
          "execution_count": 63
        }
      ]
    },
    {
      "cell_type": "code",
      "source": [
        "params['b']"
      ],
      "metadata": {
        "colab": {
          "base_uri": "https://localhost:8080/"
        },
        "id": "RJH_SCwsACIx",
        "outputId": "2c479193-ba0d-4b65-aadc-014c08dd42a6"
      },
      "execution_count": null,
      "outputs": [
        {
          "output_type": "execute_result",
          "data": {
            "text/plain": [
              "array([ 0.09494881,  1.49211037, -0.0603517 , -0.16333182, -0.91476436,\n",
              "        0.79519401])"
            ]
          },
          "metadata": {},
          "execution_count": 64
        }
      ]
    },
    {
      "cell_type": "code",
      "source": [
        "params['c']"
      ],
      "metadata": {
        "colab": {
          "base_uri": "https://localhost:8080/"
        },
        "id": "lNzia0fcCsvu",
        "outputId": "dce62a8b-503d-40bb-b9eb-510e7a5e8e2a"
      },
      "execution_count": null,
      "outputs": [
        {
          "output_type": "execute_result",
          "data": {
            "text/plain": [
              "array([ 2.36907886e-01,  4.44876140e+00,  1.03543590e-05, -1.50083126e-01,\n",
              "       -2.96345669e+00,  1.84431438e+01])"
            ]
          },
          "metadata": {},
          "execution_count": 65
        }
      ]
    },
    {
      "cell_type": "code",
      "source": [
        "params['d']"
      ],
      "metadata": {
        "colab": {
          "base_uri": "https://localhost:8080/"
        },
        "id": "8-4b8Nl2Cwgq",
        "outputId": "f2d04a3a-8b59-4adb-8f9f-3371fe668ebe"
      },
      "execution_count": null,
      "outputs": [
        {
          "output_type": "execute_result",
          "data": {
            "text/plain": [
              "array([ 0.10013477,  1.92964872, -0.0381771 , -0.25970608, -0.96594959,\n",
              "        0.69050026])"
            ]
          },
          "metadata": {},
          "execution_count": 66
        }
      ]
    },
    {
      "cell_type": "code",
      "source": [
        "params['e']"
      ],
      "metadata": {
        "colab": {
          "base_uri": "https://localhost:8080/"
        },
        "id": "S15m6Y2qCyS5",
        "outputId": "59640365-b402-40d5-818a-c1bcd88cc69e"
      },
      "execution_count": null,
      "outputs": [
        {
          "output_type": "execute_result",
          "data": {
            "text/plain": [
              "array([ 0.08310475,  0.62106296, -0.1412369 ,  0.01705458, -0.67061454,\n",
              "        0.0242637 ])"
            ]
          },
          "metadata": {},
          "execution_count": 67
        }
      ]
    },
    {
      "cell_type": "code",
      "source": [
        "err = {}\n",
        "for i in params.keys():\n",
        "  err[i]=(heston_ivol(params[i].tolist())**2).sum()/K.shape[0]"
      ],
      "metadata": {
        "id": "hqVlPD4GC1Ax",
        "colab": {
          "base_uri": "https://localhost:8080/"
        },
        "outputId": "ff116fb3-770f-4f92-990a-ddb95e7ec335"
      },
      "execution_count": null,
      "outputs": [
        {
          "output_type": "stream",
          "name": "stderr",
          "text": [
            "<ipython-input-48-7b73f4590402>:5: ComplexWarning: Casting complex values to real discards the imaginary part\n",
            "  result[i], _ = quadrature(integrand, 0, 100, maxiter = 25, args=(S0, v0, kappa, theta, sigma, rho, lambd, t, r[i], K[i]))\n"
          ]
        }
      ]
    },
    {
      "cell_type": "code",
      "source": [
        "err"
      ],
      "metadata": {
        "colab": {
          "base_uri": "https://localhost:8080/"
        },
        "id": "TwwvgYVNDsC1",
        "outputId": "9b6e8556-6d4b-4d4c-f883-0effdf249e67"
      },
      "execution_count": null,
      "outputs": [
        {
          "output_type": "execute_result",
          "data": {
            "text/plain": [
              "{'a': 0.01645735594931018,\n",
              " 'b': 0.029056788511846728,\n",
              " 'c': 0.01648968797869574,\n",
              " 'd': 0.017711037300199548,\n",
              " 'e': 0.030530149798396026}"
            ]
          },
          "metadata": {},
          "execution_count": 69
        }
      ]
    },
    {
      "cell_type": "code",
      "source": [
        "def calcImpl(x):\n",
        "  v0, kappa, theta, sigma, rho, lambd = [param for param in x]\n",
        "  P = heston_price(S0, K, v0, kappa, theta, sigma, rho, lambd, tau, r)\n",
        "  impl = py_vollib_vectorized.vectorized_implied_volatility(P, S0, K, tau, r, flag = ['c'], q=0, model='black_scholes',return_as='numpy', on_error='ignore')\n",
        "  return impl"
      ],
      "metadata": {
        "id": "4m40d2wCFWIn"
      },
      "execution_count": null,
      "outputs": []
    },
    {
      "cell_type": "code",
      "source": [
        "df_call['predIV']=calcImpl(params['d'].tolist())"
      ],
      "metadata": {
        "id": "wjx5QWbmF0Oi",
        "colab": {
          "base_uri": "https://localhost:8080/"
        },
        "outputId": "1655cdd1-1b88-49a7-8c52-aa162358e32d"
      },
      "execution_count": null,
      "outputs": [
        {
          "output_type": "stream",
          "name": "stderr",
          "text": [
            "<ipython-input-48-7b73f4590402>:5: ComplexWarning: Casting complex values to real discards the imaginary part\n",
            "  result[i], _ = quadrature(integrand, 0, 100, maxiter = 25, args=(S0, v0, kappa, theta, sigma, rho, lambd, t, r[i], K[i]))\n"
          ]
        }
      ]
    },
    {
      "cell_type": "code",
      "source": [
        "import plotly.graph_objects as go\n",
        "from plotly.graph_objs import Surface\n",
        "\n",
        "fig = go.Figure(data=[go.Mesh3d(x=df_call['tau'], y=df_call['Strike'], z=df_call['IV']/100, color='mediumblue', opacity=0.55)])\n",
        "fig.add_scatter3d(x=df_call['tau'], y=df_call['Strike'], z=df_call['predIV'], mode='markers')\n",
        "fig.update_layout(\n",
        "    title_text='Market Prices (Mesh) vs Calibrated Heston Prices (Markers)',\n",
        "    scene = dict(xaxis_title='TIME (Years)',\n",
        "                    yaxis_title='STRIKES (Pts)',\n",
        "                    zaxis_title='INDEX OPTION PRICE (Pts)'),\n",
        "    height=800,\n",
        "    width=800\n",
        ")\n",
        "fig.show()"
      ],
      "metadata": {
        "colab": {
          "base_uri": "https://localhost:8080/",
          "height": 838
        },
        "id": "JSzPam9BDvnf",
        "outputId": "7dffb141-d7c1-4156-9bca-cd45202b7a7d"
      },
      "execution_count": null,
      "outputs": [
        {
          "output_type": "display_data",
          "data": {
            "text/html": [
              "<html>\n",
              "<head><meta charset=\"utf-8\" /></head>\n",
              "<body>\n",
              "    <div>            <script src=\"https://cdnjs.cloudflare.com/ajax/libs/mathjax/2.7.5/MathJax.js?config=TeX-AMS-MML_SVG\"></script><script type=\"text/javascript\">if (window.MathJax) {MathJax.Hub.Config({SVG: {font: \"STIX-Web\"}});}</script>                <script type=\"text/javascript\">window.PlotlyConfig = {MathJaxConfig: 'local'};</script>\n",
              "        <script src=\"https://cdn.plot.ly/plotly-2.8.3.min.js\"></script>                <div id=\"5d2a2ddc-f69e-4889-b6ff-7956e3cb422c\" class=\"plotly-graph-div\" style=\"height:800px; width:800px;\"></div>            <script type=\"text/javascript\">                                    window.PLOTLYENV=window.PLOTLYENV || {};                                    if (document.getElementById(\"5d2a2ddc-f69e-4889-b6ff-7956e3cb422c\")) {                    Plotly.newPlot(                        \"5d2a2ddc-f69e-4889-b6ff-7956e3cb422c\",                        [{\"color\":\"mediumblue\",\"opacity\":0.55,\"x\":[0.11506849315068493,0.11506849315068493,0.11506849315068493,0.11506849315068493,0.11506849315068493,0.11506849315068493,0.11506849315068493,0.11506849315068493,0.11506849315068493,0.11506849315068493,0.11506849315068493,0.11506849315068493,0.11506849315068493,0.11506849315068493,0.11506849315068493,0.11506849315068493,0.11506849315068493,0.11506849315068493,0.11506849315068493,0.11506849315068493,0.11506849315068493,0.11506849315068493,0.11506849315068493,0.11506849315068493,0.11506849315068493,0.11506849315068493,0.11506849315068493,0.11506849315068493,0.11506849315068493,0.11506849315068493,0.11506849315068493,0.11506849315068493,0.11506849315068493,0.11506849315068493,0.11506849315068493,0.11506849315068493,0.11506849315068493,0.11506849315068493,0.11506849315068493,0.11506849315068493,0.11506849315068493,0.11506849315068493,0.11506849315068493,0.11506849315068493,0.11506849315068493,0.11506849315068493,0.11506849315068493,0.11506849315068493,0.11506849315068493,0.11506849315068493,0.11506849315068493,0.11506849315068493,0.11506849315068493,0.11506849315068493,0.11506849315068493,0.11506849315068493,0.11506849315068493,0.11506849315068493,0.11506849315068493,0.11506849315068493,0.11506849315068493,0.11506849315068493,0.11506849315068493,0.11506849315068493,0.11506849315068493,0.11506849315068493,0.11506849315068493,0.11506849315068493,0.11506849315068493,0.11506849315068493,0.11506849315068493,0.11506849315068493,0.11506849315068493,0.11506849315068493,0.11506849315068493,0.11506849315068493,0.11506849315068493,0.11506849315068493,0.11506849315068493,0.11506849315068493,0.11506849315068493,0.11506849315068493,0.11506849315068493,0.11506849315068493,0.11506849315068493,0.11506849315068493,0.11506849315068493,0.11506849315068493,0.11506849315068493,0.11506849315068493,0.11506849315068493,0.11506849315068493,0.11506849315068493,0.11506849315068493,0.11506849315068493,0.11506849315068493,0.11506849315068493,0.11506849315068493,0.11506849315068493,0.11506849315068493,0.11506849315068493,0.11506849315068493,0.11506849315068493,0.11506849315068493,0.11506849315068493,0.11506849315068493,0.11506849315068493,0.11506849315068493,0.11506849315068493,0.11506849315068493,0.11506849315068493,0.11506849315068493,0.11506849315068493,0.11506849315068493,0.11506849315068493,0.11506849315068493,0.11506849315068493,0.11506849315068493,0.11506849315068493,0.11506849315068493,0.11506849315068493,0.11506849315068493,0.11506849315068493,0.11506849315068493,0.11506849315068493,0.11506849315068493,0.11506849315068493,0.11506849315068493,0.11506849315068493,0.11506849315068493,0.11506849315068493,0.11506849315068493,0.11506849315068493,0.11506849315068493,0.11506849315068493,0.11506849315068493,0.11506849315068493,0.11506849315068493,0.11506849315068493,0.11506849315068493,0.11506849315068493,0.11506849315068493,0.21095890410958903,0.21095890410958903,0.21095890410958903,0.21095890410958903,0.21095890410958903,0.21095890410958903,0.21095890410958903,0.21095890410958903,0.21095890410958903,0.21095890410958903,0.3643835616438356,0.3643835616438356,0.3643835616438356,0.3643835616438356,0.3643835616438356,0.3643835616438356,0.3643835616438356,0.3643835616438356,0.3643835616438356,0.3643835616438356,0.6328767123287671,0.6328767123287671,0.6328767123287671,0.6328767123287671,0.6328767123287671,0.6328767123287671,0.6328767123287671,0.6328767123287671,0.6328767123287671,0.6328767123287671,0.8821917808219178,0.8821917808219178,0.8821917808219178,0.8821917808219178,0.8821917808219178,0.8821917808219178,0.8821917808219178,0.8821917808219178,0.8821917808219178,0.8821917808219178],\"y\":[\"4500\",\"5000\",\"5500\",\"6000\",\"6500\",\"7000\",\"7200\",\"7400\",\"7600\",\"7800\",\"8000\",\"8200\",\"8400\",\"8600\",\"8800\",\"9000\",\"9200\",\"9400\",\"9600\",\"9800\",\"10000\",\"10200\",\"10400\",\"10600\",\"10800\",\"10900\",\"11000\",\"11100\",\"11200\",\"11300\",\"11400\",\"11500\",\"11600\",\"11700\",\"11800\",\"11900\",\"12000\",\"12100\",\"12200\",\"12300\",\"12400\",\"12500\",\"12600\",\"12650\",\"12700\",\"12750\",\"12800\",\"12850\",\"12900\",\"12950\",\"13000\",\"13050\",\"13100\",\"13150\",\"13200\",\"13250\",\"13300\",\"13350\",\"13400\",\"13450\",\"13500\",\"13550\",\"13600\",\"13650\",\"13700\",\"13750\",\"13800\",\"13850\",\"13900\",\"13950\",\"14000\",\"14050\",\"14100\",\"14150\",\"14200\",\"14250\",\"14300\",\"14350\",\"14400\",\"14450\",\"14500\",\"14550\",\"14600\",\"14650\",\"14700\",\"14750\",\"14800\",\"14850\",\"14900\",\"14950\",\"15000\",\"15050\",\"15100\",\"15150\",\"15200\",\"15250\",\"15300\",\"15350\",\"15400\",\"15450\",\"15500\",\"15550\",\"15600\",\"15650\",\"15700\",\"15750\",\"15800\",\"15850\",\"15900\",\"15950\",\"16000\",\"16050\",\"16100\",\"16150\",\"16200\",\"16250\",\"16300\",\"16350\",\"16400\",\"16450\",\"16500\",\"16600\",\"16700\",\"16800\",\"16900\",\"17000\",\"17100\",\"17200\",\"17400\",\"17500\",\"17600\",\"17800\",\"18000\",\"18200\",\"18400\",\"18500\",\"18600\",\"19000\",\"19500\",\"20000\",\"21000\",\"22000\",\"15450\",\"15500\",\"15550\",\"15600\",\"15650\",\"15700\",\"15750\",\"15800\",\"15850\",\"15900\",\"15200\",\"15300\",\"15400\",\"15500\",\"15600\",\"15700\",\"15800\",\"15900\",\"16000\",\"16100\",\"15300\",\"15400\",\"15500\",\"15600\",\"15700\",\"15800\",\"15900\",\"16000\",\"16100\",\"16200\",\"15500\",\"15600\",\"15700\",\"15800\",\"15900\",\"16000\",\"16100\",\"16200\",\"16400\",\"16500\"],\"z\":[1.725,1.575,1.4394,1.3169,1.2041,1.0998999999999999,1.061,1.0225,0.9856999999999999,0.95,0.9145,0.8806,0.8475,0.8158,0.7843000000000001,0.7541,0.7245999999999999,0.6957,0.6681,0.6409999999999999,0.615,0.5893999999999999,0.5644,0.5403,0.5166,0.5053,0.49420000000000003,0.4826,0.47200000000000003,0.4611,0.4506,0.44020000000000004,0.42979999999999996,0.41950000000000004,0.40950000000000003,0.4,0.3901,0.38049999999999995,0.3709,0.3617,0.35229999999999995,0.3433,0.3342,0.3298,0.32530000000000003,0.3211,0.3166,0.3123,0.30829999999999996,0.3039,0.2998,0.2957,0.2917,0.2876,0.28350000000000003,0.2798,0.2758,0.2722,0.26839999999999997,0.2648,0.2611,0.2576,0.254,0.2507,0.24719999999999998,0.2438,0.24050000000000002,0.2371,0.23379999999999998,0.2306,0.2274,0.2242,0.22089999999999999,0.2177,0.2146,0.2114,0.20829999999999999,0.2052,0.2021,0.1991,0.196,0.193,0.19,0.18710000000000002,0.18420000000000003,0.1813,0.17850000000000002,0.1757,0.1729,0.17010000000000003,0.1673,0.16469999999999999,0.162,0.1594,0.1568,0.15439999999999998,0.1519,0.1495,0.1471,0.1447,0.1424,0.1401,0.1379,0.1359,0.1341,0.1322,0.1304,0.1288,0.1273,0.1259,0.1247,0.12369999999999999,0.12279999999999999,0.12210000000000001,0.1215,0.1211,0.1209,0.1207,0.1209,0.1211,0.1215,0.12240000000000001,0.1235,0.1247,0.126,0.1273,0.12869999999999998,0.1301,0.1334,0.1354,0.136,0.1393,0.1458,0.15039999999999998,0.1516,0.156,0.1604,0.1776,0.1984,0.2186,0.257,0.29309999999999997,0.1253,0.1244,0.1235,0.12269999999999999,0.12179999999999999,0.1209,0.1201,0.1193,0.1185,0.1176,0.1727,0.1691,0.1656,0.16210000000000002,0.15869999999999998,0.1555,0.1524,0.1494,0.1464,0.1435,0.1778,0.175,0.1723,0.1696,0.16699999999999998,0.16440000000000002,0.1618,0.1591,0.1566,0.15410000000000001,0.1804,0.17800000000000002,0.1757,0.17329999999999998,0.171,0.16870000000000002,0.16649999999999998,0.1643,0.16010000000000002,0.15810000000000002],\"type\":\"mesh3d\"},{\"mode\":\"markers\",\"x\":[0.11506849315068493,0.11506849315068493,0.11506849315068493,0.11506849315068493,0.11506849315068493,0.11506849315068493,0.11506849315068493,0.11506849315068493,0.11506849315068493,0.11506849315068493,0.11506849315068493,0.11506849315068493,0.11506849315068493,0.11506849315068493,0.11506849315068493,0.11506849315068493,0.11506849315068493,0.11506849315068493,0.11506849315068493,0.11506849315068493,0.11506849315068493,0.11506849315068493,0.11506849315068493,0.11506849315068493,0.11506849315068493,0.11506849315068493,0.11506849315068493,0.11506849315068493,0.11506849315068493,0.11506849315068493,0.11506849315068493,0.11506849315068493,0.11506849315068493,0.11506849315068493,0.11506849315068493,0.11506849315068493,0.11506849315068493,0.11506849315068493,0.11506849315068493,0.11506849315068493,0.11506849315068493,0.11506849315068493,0.11506849315068493,0.11506849315068493,0.11506849315068493,0.11506849315068493,0.11506849315068493,0.11506849315068493,0.11506849315068493,0.11506849315068493,0.11506849315068493,0.11506849315068493,0.11506849315068493,0.11506849315068493,0.11506849315068493,0.11506849315068493,0.11506849315068493,0.11506849315068493,0.11506849315068493,0.11506849315068493,0.11506849315068493,0.11506849315068493,0.11506849315068493,0.11506849315068493,0.11506849315068493,0.11506849315068493,0.11506849315068493,0.11506849315068493,0.11506849315068493,0.11506849315068493,0.11506849315068493,0.11506849315068493,0.11506849315068493,0.11506849315068493,0.11506849315068493,0.11506849315068493,0.11506849315068493,0.11506849315068493,0.11506849315068493,0.11506849315068493,0.11506849315068493,0.11506849315068493,0.11506849315068493,0.11506849315068493,0.11506849315068493,0.11506849315068493,0.11506849315068493,0.11506849315068493,0.11506849315068493,0.11506849315068493,0.11506849315068493,0.11506849315068493,0.11506849315068493,0.11506849315068493,0.11506849315068493,0.11506849315068493,0.11506849315068493,0.11506849315068493,0.11506849315068493,0.11506849315068493,0.11506849315068493,0.11506849315068493,0.11506849315068493,0.11506849315068493,0.11506849315068493,0.11506849315068493,0.11506849315068493,0.11506849315068493,0.11506849315068493,0.11506849315068493,0.11506849315068493,0.11506849315068493,0.11506849315068493,0.11506849315068493,0.11506849315068493,0.11506849315068493,0.11506849315068493,0.11506849315068493,0.11506849315068493,0.11506849315068493,0.11506849315068493,0.11506849315068493,0.11506849315068493,0.11506849315068493,0.11506849315068493,0.11506849315068493,0.11506849315068493,0.11506849315068493,0.11506849315068493,0.11506849315068493,0.11506849315068493,0.11506849315068493,0.11506849315068493,0.11506849315068493,0.11506849315068493,0.11506849315068493,0.11506849315068493,0.11506849315068493,0.11506849315068493,0.11506849315068493,0.11506849315068493,0.11506849315068493,0.21095890410958903,0.21095890410958903,0.21095890410958903,0.21095890410958903,0.21095890410958903,0.21095890410958903,0.21095890410958903,0.21095890410958903,0.21095890410958903,0.21095890410958903,0.3643835616438356,0.3643835616438356,0.3643835616438356,0.3643835616438356,0.3643835616438356,0.3643835616438356,0.3643835616438356,0.3643835616438356,0.3643835616438356,0.3643835616438356,0.6328767123287671,0.6328767123287671,0.6328767123287671,0.6328767123287671,0.6328767123287671,0.6328767123287671,0.6328767123287671,0.6328767123287671,0.6328767123287671,0.6328767123287671,0.8821917808219178,0.8821917808219178,0.8821917808219178,0.8821917808219178,0.8821917808219178,0.8821917808219178,0.8821917808219178,0.8821917808219178,0.8821917808219178,0.8821917808219178],\"y\":[\"4500\",\"5000\",\"5500\",\"6000\",\"6500\",\"7000\",\"7200\",\"7400\",\"7600\",\"7800\",\"8000\",\"8200\",\"8400\",\"8600\",\"8800\",\"9000\",\"9200\",\"9400\",\"9600\",\"9800\",\"10000\",\"10200\",\"10400\",\"10600\",\"10800\",\"10900\",\"11000\",\"11100\",\"11200\",\"11300\",\"11400\",\"11500\",\"11600\",\"11700\",\"11800\",\"11900\",\"12000\",\"12100\",\"12200\",\"12300\",\"12400\",\"12500\",\"12600\",\"12650\",\"12700\",\"12750\",\"12800\",\"12850\",\"12900\",\"12950\",\"13000\",\"13050\",\"13100\",\"13150\",\"13200\",\"13250\",\"13300\",\"13350\",\"13400\",\"13450\",\"13500\",\"13550\",\"13600\",\"13650\",\"13700\",\"13750\",\"13800\",\"13850\",\"13900\",\"13950\",\"14000\",\"14050\",\"14100\",\"14150\",\"14200\",\"14250\",\"14300\",\"14350\",\"14400\",\"14450\",\"14500\",\"14550\",\"14600\",\"14650\",\"14700\",\"14750\",\"14800\",\"14850\",\"14900\",\"14950\",\"15000\",\"15050\",\"15100\",\"15150\",\"15200\",\"15250\",\"15300\",\"15350\",\"15400\",\"15450\",\"15500\",\"15550\",\"15600\",\"15650\",\"15700\",\"15750\",\"15800\",\"15850\",\"15900\",\"15950\",\"16000\",\"16050\",\"16100\",\"16150\",\"16200\",\"16250\",\"16300\",\"16350\",\"16400\",\"16450\",\"16500\",\"16600\",\"16700\",\"16800\",\"16900\",\"17000\",\"17100\",\"17200\",\"17400\",\"17500\",\"17600\",\"17800\",\"18000\",\"18200\",\"18400\",\"18500\",\"18600\",\"19000\",\"19500\",\"20000\",\"21000\",\"22000\",\"15450\",\"15500\",\"15550\",\"15600\",\"15650\",\"15700\",\"15750\",\"15800\",\"15850\",\"15900\",\"15200\",\"15300\",\"15400\",\"15500\",\"15600\",\"15700\",\"15800\",\"15900\",\"16000\",\"16100\",\"15300\",\"15400\",\"15500\",\"15600\",\"15700\",\"15800\",\"15900\",\"16000\",\"16100\",\"16200\",\"15500\",\"15600\",\"15700\",\"15800\",\"15900\",\"16000\",\"16100\",\"16200\",\"16400\",\"16500\"],\"z\":[2.537563825311198,2.115232247194722,1.3455470031914893,1.4129609150514533,1.3350042322786044,1.2273903524135468,1.1867721138890326,1.147723566348359,1.1100074302315175,1.0734278257914285,1.0378505021467168,1.0031860611963594,0.9693716475295399,0.9363582504699208,0.9041041719434494,0.8725718582702239,0.8417263053425731,0.811534706517193,0.781966091490234,0.7529910734901857,0.7245819088440653,0.6967122769308934,0.6693570793862565,0.6424924609781183,0.6160956427810615,0.6030657774184344,0.5901447092807875,0.5773298308794497,0.5646185829019914,0.5520084463792188,0.5394969362074441,0.5270816020328655,0.51476004627653,0.5025299780701263,0.4903893367060551,0.47833653547772637,0.46637088995678516,0.4544932966928866,0.4427072140267346,0.43101996474479165,0.41944433244567847,0.40800036305905163,0.3967172131225647,0.391147965266559,0.3856348098343841,0.38018461178895846,0.37480500879747075,0.36950439228704135,0.36429186458836976,0.3591771691156432,0.354170591137609,0.3492828276536304,0.3445248262414922,0.3399075944935471,0.33544198375284606,0.3311384531796442,0.3270068225200102,0.3230560240436867,0.31929386565504986,0.3157268178543341,0.3123598367957616,0.30919623404821034,0.3062376008772061,0.30348379119239816,0.30093296315501505,0.29858167532046104,0.2964250296002321,0.29445685066819144,0.29266988994503423,0.2910560420166246,0.2896065621448737,0.2883122751555126,0.28716376811566174,0.2861515615279926,0.28526625599929406,0.2844986532981874,0.28383985228999353,0.28328132138989737,0.2828149499275133,0.2824330812203057,0.28212853028093304,0.2818945890080982,0.28172502149972145,0.2816140518373409,0.28155634636588417,0.28154699216433793,0.2815814730915732,0.28165564450989067,0.281765707542653,0.2819081835133075,0.28207988903978926,0.2822779121175618,0.2824995894125955,0.2827424848982894,0.2830043699033595,0.28328320458779094,0.28357712082733455,0.28388440646125274,0.284203490840504,0.2845329316025322,0.2848714025925818,0.28521768284888854,0.285570646569106,0.28592925397723956,0.2862925430135153,0.2866596217736619,0.28702966162854227,0.28740189095989394,0.2877755894527297,0.28815008288971705,0.28852473839746495,0.28889896009901184,0.2892721851308913,0.28964387998698127,0.2900135371547919,0.2903806720130341,0.2907448199621549,0.29110553376207,0.2914623810535842,0.2918149420419557,0.29216280732281236,0.29284285290292666,0.29349937501179024,0.29412927566770486,0.2947294473844861,0.2952967211158045,0.29582781481282117,0.2963192809901946,0.29716837886665903,0.2975177688656551,0.2978109075746485,0.29820694129535574,0.298306669683475,0.2980459835851685,0.29733970096276285,0.2967844978865884,0.29607050190014483,0.291079826395697,0.27548758013738217,0.0,0.0,0.0,0.2622670141557463,0.2626286431085385,0.26299598335921687,0.26336823714110114,0.2637446661459839,0.2641245864606226,0.26450736368578254,0.26489240826694443,0.2652791710770869,0.26566713929671126,0.2273050873728851,0.22802115316552163,0.2287717664125961,0.22955150477053596,0.23035518846732259,0.23117720975386336,0.2320114387391959,0.23285163721401914,0.23369214521390885,0.23452853588725842,0.17509807652147782,0.175581380986318,0.17603335007511012,0.17649902548921295,0.17702748044201186,0.17766175407511256,0.17843102639456168,0.17934696692443455,0.18040471766621546,0.18158748537984104,0.12441124801247279,0.12715296854035782,0.1301470848942836,0.13333949905538753,0.13664089282878597,0.13992752339312536,0.14306026587954632,0.14591358731295603,0.15050005515321965,0.15223086325222923],\"type\":\"scatter3d\"}],                        {\"template\":{\"data\":{\"bar\":[{\"error_x\":{\"color\":\"#2a3f5f\"},\"error_y\":{\"color\":\"#2a3f5f\"},\"marker\":{\"line\":{\"color\":\"#E5ECF6\",\"width\":0.5},\"pattern\":{\"fillmode\":\"overlay\",\"size\":10,\"solidity\":0.2}},\"type\":\"bar\"}],\"barpolar\":[{\"marker\":{\"line\":{\"color\":\"#E5ECF6\",\"width\":0.5},\"pattern\":{\"fillmode\":\"overlay\",\"size\":10,\"solidity\":0.2}},\"type\":\"barpolar\"}],\"carpet\":[{\"aaxis\":{\"endlinecolor\":\"#2a3f5f\",\"gridcolor\":\"white\",\"linecolor\":\"white\",\"minorgridcolor\":\"white\",\"startlinecolor\":\"#2a3f5f\"},\"baxis\":{\"endlinecolor\":\"#2a3f5f\",\"gridcolor\":\"white\",\"linecolor\":\"white\",\"minorgridcolor\":\"white\",\"startlinecolor\":\"#2a3f5f\"},\"type\":\"carpet\"}],\"choropleth\":[{\"colorbar\":{\"outlinewidth\":0,\"ticks\":\"\"},\"type\":\"choropleth\"}],\"contour\":[{\"colorbar\":{\"outlinewidth\":0,\"ticks\":\"\"},\"colorscale\":[[0.0,\"#0d0887\"],[0.1111111111111111,\"#46039f\"],[0.2222222222222222,\"#7201a8\"],[0.3333333333333333,\"#9c179e\"],[0.4444444444444444,\"#bd3786\"],[0.5555555555555556,\"#d8576b\"],[0.6666666666666666,\"#ed7953\"],[0.7777777777777778,\"#fb9f3a\"],[0.8888888888888888,\"#fdca26\"],[1.0,\"#f0f921\"]],\"type\":\"contour\"}],\"contourcarpet\":[{\"colorbar\":{\"outlinewidth\":0,\"ticks\":\"\"},\"type\":\"contourcarpet\"}],\"heatmap\":[{\"colorbar\":{\"outlinewidth\":0,\"ticks\":\"\"},\"colorscale\":[[0.0,\"#0d0887\"],[0.1111111111111111,\"#46039f\"],[0.2222222222222222,\"#7201a8\"],[0.3333333333333333,\"#9c179e\"],[0.4444444444444444,\"#bd3786\"],[0.5555555555555556,\"#d8576b\"],[0.6666666666666666,\"#ed7953\"],[0.7777777777777778,\"#fb9f3a\"],[0.8888888888888888,\"#fdca26\"],[1.0,\"#f0f921\"]],\"type\":\"heatmap\"}],\"heatmapgl\":[{\"colorbar\":{\"outlinewidth\":0,\"ticks\":\"\"},\"colorscale\":[[0.0,\"#0d0887\"],[0.1111111111111111,\"#46039f\"],[0.2222222222222222,\"#7201a8\"],[0.3333333333333333,\"#9c179e\"],[0.4444444444444444,\"#bd3786\"],[0.5555555555555556,\"#d8576b\"],[0.6666666666666666,\"#ed7953\"],[0.7777777777777778,\"#fb9f3a\"],[0.8888888888888888,\"#fdca26\"],[1.0,\"#f0f921\"]],\"type\":\"heatmapgl\"}],\"histogram\":[{\"marker\":{\"pattern\":{\"fillmode\":\"overlay\",\"size\":10,\"solidity\":0.2}},\"type\":\"histogram\"}],\"histogram2d\":[{\"colorbar\":{\"outlinewidth\":0,\"ticks\":\"\"},\"colorscale\":[[0.0,\"#0d0887\"],[0.1111111111111111,\"#46039f\"],[0.2222222222222222,\"#7201a8\"],[0.3333333333333333,\"#9c179e\"],[0.4444444444444444,\"#bd3786\"],[0.5555555555555556,\"#d8576b\"],[0.6666666666666666,\"#ed7953\"],[0.7777777777777778,\"#fb9f3a\"],[0.8888888888888888,\"#fdca26\"],[1.0,\"#f0f921\"]],\"type\":\"histogram2d\"}],\"histogram2dcontour\":[{\"colorbar\":{\"outlinewidth\":0,\"ticks\":\"\"},\"colorscale\":[[0.0,\"#0d0887\"],[0.1111111111111111,\"#46039f\"],[0.2222222222222222,\"#7201a8\"],[0.3333333333333333,\"#9c179e\"],[0.4444444444444444,\"#bd3786\"],[0.5555555555555556,\"#d8576b\"],[0.6666666666666666,\"#ed7953\"],[0.7777777777777778,\"#fb9f3a\"],[0.8888888888888888,\"#fdca26\"],[1.0,\"#f0f921\"]],\"type\":\"histogram2dcontour\"}],\"mesh3d\":[{\"colorbar\":{\"outlinewidth\":0,\"ticks\":\"\"},\"type\":\"mesh3d\"}],\"parcoords\":[{\"line\":{\"colorbar\":{\"outlinewidth\":0,\"ticks\":\"\"}},\"type\":\"parcoords\"}],\"pie\":[{\"automargin\":true,\"type\":\"pie\"}],\"scatter\":[{\"marker\":{\"colorbar\":{\"outlinewidth\":0,\"ticks\":\"\"}},\"type\":\"scatter\"}],\"scatter3d\":[{\"line\":{\"colorbar\":{\"outlinewidth\":0,\"ticks\":\"\"}},\"marker\":{\"colorbar\":{\"outlinewidth\":0,\"ticks\":\"\"}},\"type\":\"scatter3d\"}],\"scattercarpet\":[{\"marker\":{\"colorbar\":{\"outlinewidth\":0,\"ticks\":\"\"}},\"type\":\"scattercarpet\"}],\"scattergeo\":[{\"marker\":{\"colorbar\":{\"outlinewidth\":0,\"ticks\":\"\"}},\"type\":\"scattergeo\"}],\"scattergl\":[{\"marker\":{\"colorbar\":{\"outlinewidth\":0,\"ticks\":\"\"}},\"type\":\"scattergl\"}],\"scattermapbox\":[{\"marker\":{\"colorbar\":{\"outlinewidth\":0,\"ticks\":\"\"}},\"type\":\"scattermapbox\"}],\"scatterpolar\":[{\"marker\":{\"colorbar\":{\"outlinewidth\":0,\"ticks\":\"\"}},\"type\":\"scatterpolar\"}],\"scatterpolargl\":[{\"marker\":{\"colorbar\":{\"outlinewidth\":0,\"ticks\":\"\"}},\"type\":\"scatterpolargl\"}],\"scatterternary\":[{\"marker\":{\"colorbar\":{\"outlinewidth\":0,\"ticks\":\"\"}},\"type\":\"scatterternary\"}],\"surface\":[{\"colorbar\":{\"outlinewidth\":0,\"ticks\":\"\"},\"colorscale\":[[0.0,\"#0d0887\"],[0.1111111111111111,\"#46039f\"],[0.2222222222222222,\"#7201a8\"],[0.3333333333333333,\"#9c179e\"],[0.4444444444444444,\"#bd3786\"],[0.5555555555555556,\"#d8576b\"],[0.6666666666666666,\"#ed7953\"],[0.7777777777777778,\"#fb9f3a\"],[0.8888888888888888,\"#fdca26\"],[1.0,\"#f0f921\"]],\"type\":\"surface\"}],\"table\":[{\"cells\":{\"fill\":{\"color\":\"#EBF0F8\"},\"line\":{\"color\":\"white\"}},\"header\":{\"fill\":{\"color\":\"#C8D4E3\"},\"line\":{\"color\":\"white\"}},\"type\":\"table\"}]},\"layout\":{\"annotationdefaults\":{\"arrowcolor\":\"#2a3f5f\",\"arrowhead\":0,\"arrowwidth\":1},\"autotypenumbers\":\"strict\",\"coloraxis\":{\"colorbar\":{\"outlinewidth\":0,\"ticks\":\"\"}},\"colorscale\":{\"diverging\":[[0,\"#8e0152\"],[0.1,\"#c51b7d\"],[0.2,\"#de77ae\"],[0.3,\"#f1b6da\"],[0.4,\"#fde0ef\"],[0.5,\"#f7f7f7\"],[0.6,\"#e6f5d0\"],[0.7,\"#b8e186\"],[0.8,\"#7fbc41\"],[0.9,\"#4d9221\"],[1,\"#276419\"]],\"sequential\":[[0.0,\"#0d0887\"],[0.1111111111111111,\"#46039f\"],[0.2222222222222222,\"#7201a8\"],[0.3333333333333333,\"#9c179e\"],[0.4444444444444444,\"#bd3786\"],[0.5555555555555556,\"#d8576b\"],[0.6666666666666666,\"#ed7953\"],[0.7777777777777778,\"#fb9f3a\"],[0.8888888888888888,\"#fdca26\"],[1.0,\"#f0f921\"]],\"sequentialminus\":[[0.0,\"#0d0887\"],[0.1111111111111111,\"#46039f\"],[0.2222222222222222,\"#7201a8\"],[0.3333333333333333,\"#9c179e\"],[0.4444444444444444,\"#bd3786\"],[0.5555555555555556,\"#d8576b\"],[0.6666666666666666,\"#ed7953\"],[0.7777777777777778,\"#fb9f3a\"],[0.8888888888888888,\"#fdca26\"],[1.0,\"#f0f921\"]]},\"colorway\":[\"#636efa\",\"#EF553B\",\"#00cc96\",\"#ab63fa\",\"#FFA15A\",\"#19d3f3\",\"#FF6692\",\"#B6E880\",\"#FF97FF\",\"#FECB52\"],\"font\":{\"color\":\"#2a3f5f\"},\"geo\":{\"bgcolor\":\"white\",\"lakecolor\":\"white\",\"landcolor\":\"#E5ECF6\",\"showlakes\":true,\"showland\":true,\"subunitcolor\":\"white\"},\"hoverlabel\":{\"align\":\"left\"},\"hovermode\":\"closest\",\"mapbox\":{\"style\":\"light\"},\"paper_bgcolor\":\"white\",\"plot_bgcolor\":\"#E5ECF6\",\"polar\":{\"angularaxis\":{\"gridcolor\":\"white\",\"linecolor\":\"white\",\"ticks\":\"\"},\"bgcolor\":\"#E5ECF6\",\"radialaxis\":{\"gridcolor\":\"white\",\"linecolor\":\"white\",\"ticks\":\"\"}},\"scene\":{\"xaxis\":{\"backgroundcolor\":\"#E5ECF6\",\"gridcolor\":\"white\",\"gridwidth\":2,\"linecolor\":\"white\",\"showbackground\":true,\"ticks\":\"\",\"zerolinecolor\":\"white\"},\"yaxis\":{\"backgroundcolor\":\"#E5ECF6\",\"gridcolor\":\"white\",\"gridwidth\":2,\"linecolor\":\"white\",\"showbackground\":true,\"ticks\":\"\",\"zerolinecolor\":\"white\"},\"zaxis\":{\"backgroundcolor\":\"#E5ECF6\",\"gridcolor\":\"white\",\"gridwidth\":2,\"linecolor\":\"white\",\"showbackground\":true,\"ticks\":\"\",\"zerolinecolor\":\"white\"}},\"shapedefaults\":{\"line\":{\"color\":\"#2a3f5f\"}},\"ternary\":{\"aaxis\":{\"gridcolor\":\"white\",\"linecolor\":\"white\",\"ticks\":\"\"},\"baxis\":{\"gridcolor\":\"white\",\"linecolor\":\"white\",\"ticks\":\"\"},\"bgcolor\":\"#E5ECF6\",\"caxis\":{\"gridcolor\":\"white\",\"linecolor\":\"white\",\"ticks\":\"\"}},\"title\":{\"x\":0.05},\"xaxis\":{\"automargin\":true,\"gridcolor\":\"white\",\"linecolor\":\"white\",\"ticks\":\"\",\"title\":{\"standoff\":15},\"zerolinecolor\":\"white\",\"zerolinewidth\":2},\"yaxis\":{\"automargin\":true,\"gridcolor\":\"white\",\"linecolor\":\"white\",\"ticks\":\"\",\"title\":{\"standoff\":15},\"zerolinecolor\":\"white\",\"zerolinewidth\":2}}},\"title\":{\"text\":\"Market Prices (Mesh) vs Calibrated Heston Prices (Markers)\"},\"scene\":{\"xaxis\":{\"title\":{\"text\":\"TIME (Years)\"}},\"yaxis\":{\"title\":{\"text\":\"STRIKES (Pts)\"}},\"zaxis\":{\"title\":{\"text\":\"INDEX OPTION PRICE (Pts)\"}}},\"height\":800,\"width\":800},                        {\"responsive\": true}                    ).then(function(){\n",
              "                            \n",
              "var gd = document.getElementById('5d2a2ddc-f69e-4889-b6ff-7956e3cb422c');\n",
              "var x = new MutationObserver(function (mutations, observer) {{\n",
              "        var display = window.getComputedStyle(gd).display;\n",
              "        if (!display || display === 'none') {{\n",
              "            console.log([gd, 'removed!']);\n",
              "            Plotly.purge(gd);\n",
              "            observer.disconnect();\n",
              "        }}\n",
              "}});\n",
              "\n",
              "// Listen for the removal of the full notebook cells\n",
              "var notebookContainer = gd.closest('#notebook-container');\n",
              "if (notebookContainer) {{\n",
              "    x.observe(notebookContainer, {childList: true});\n",
              "}}\n",
              "\n",
              "// Listen for the clearing of the current output cell\n",
              "var outputEl = gd.closest('.output');\n",
              "if (outputEl) {{\n",
              "    x.observe(outputEl, {childList: true});\n",
              "}}\n",
              "\n",
              "                        })                };                            </script>        </div>\n",
              "</body>\n",
              "</html>"
            ]
          },
          "metadata": {}
        }
      ]
    },
    {
      "cell_type": "code",
      "source": [
        "def calibrate_heston(df, S0, x, r):\n",
        "    \n",
        "  K=df['Strike']\n",
        "  tau=df['tau']\n",
        "  iv = df['IV']/100\n",
        "  r=df['r']\n",
        "  S0=S0\n",
        "\n",
        "  #market_ivol = heston_ivol(S0, K, v0, kappa, theta, sigma, rho, lambd, tau, r, iv)\n",
        "  res = least_squares(heston_ivol, x0=np.array(x), verbose=0, max_nfev=100, method='trf',\n",
        "                      bounds=([0, 1e-3, 1e-3, 1e-2, -1, -1], [np.inf, np.inf, np.inf, np.inf, 0, np.inf]))\n",
        "  return res.x"
      ],
      "metadata": {
        "id": "473TXHm8GIb9"
      },
      "execution_count": null,
      "outputs": []
    },
    {
      "cell_type": "code",
      "source": [
        "params_trf={}\n",
        "for i in v0_dict.keys():\n",
        "  try:\n",
        "    params_trf[i]=calibrate_heston(df_call, S0, [v0_dict[i], kappa_dict[i], theta_dict[i], sigma_dict[i], rho_dict[i], lambd_dict[i]], r)\n",
        "  except:\n",
        "    params_trf[i]='not avaible'"
      ],
      "metadata": {
        "id": "nFYvDBxCfM7_"
      },
      "execution_count": null,
      "outputs": []
    },
    {
      "cell_type": "code",
      "source": [
        "err_tfr = {}\n",
        "for i in params_trf.keys():\n",
        "  if params_trf[i]!='not avaible':\n",
        "\n",
        "    err_tfr[i]=(heston_ivol(params_trf[i].tolist())**2).sum()/K.shape[0]"
      ],
      "metadata": {
        "id": "Z3XdI6_LgYAP"
      },
      "execution_count": null,
      "outputs": []
    },
    {
      "cell_type": "code",
      "source": [
        "params_trf"
      ],
      "metadata": {
        "colab": {
          "base_uri": "https://localhost:8080/"
        },
        "id": "Hk-vwBVGhnsW",
        "outputId": "8c92287b-4fdc-41cd-e390-33ec3104dabd"
      },
      "execution_count": null,
      "outputs": [
        {
          "output_type": "execute_result",
          "data": {
            "text/plain": [
              "{'a': 'not avaible',\n",
              " 'b': array([ 9.99999909e-02,  5.32944889e-02,  1.00005676e-03,  1.00000000e-02,\n",
              "        -2.47716899e-15,  5.17471702e+00]),\n",
              " 'c': 'not avaible',\n",
              " 'd': 'not avaible',\n",
              " 'e': array([ 9.99999994e-02,  4.10996007e+00,  1.00163606e-03,  1.00000689e-02,\n",
              "        -7.45448013e-08,  1.16907789e+00])}"
            ]
          },
          "metadata": {},
          "execution_count": 91
        }
      ]
    },
    {
      "cell_type": "code",
      "source": [
        "err_tfr"
      ],
      "metadata": {
        "colab": {
          "base_uri": "https://localhost:8080/"
        },
        "id": "JCujEi9phpxy",
        "outputId": "9cfd6529-7521-4673-e1d1-c82cd0b35efc"
      },
      "execution_count": null,
      "outputs": [
        {
          "output_type": "execute_result",
          "data": {
            "text/plain": [
              "{'b': 0.029765941777227474, 'e': 0.029769106607476094}"
            ]
          },
          "metadata": {},
          "execution_count": 92
        }
      ]
    },
    {
      "cell_type": "code",
      "source": [
        "df_call['predIV']=calcImpl(params_trf['b'].tolist())"
      ],
      "metadata": {
        "id": "IAExTA63h1T8"
      },
      "execution_count": null,
      "outputs": []
    },
    {
      "cell_type": "code",
      "source": [
        "import plotly.graph_objects as go\n",
        "from plotly.graph_objs import Surface\n",
        "\n",
        "fig = go.Figure(data=[go.Mesh3d(x=df_call['tau'], y=df_call['Strike'], z=df_call['IV']/100, color='mediumblue', opacity=0.55)])\n",
        "fig.add_scatter3d(x=df_call['tau'], y=df_call['Strike'], z=df_call['predIV'], mode='markers')\n",
        "fig.update_layout(\n",
        "    title_text='Market Prices (Mesh) vs Calibrated Heston Prices (Markers)',\n",
        "    scene = dict(xaxis_title='TIME (Years)',\n",
        "                    yaxis_title='STRIKES (Pts)',\n",
        "                    zaxis_title='INDEX OPTION PRICE (Pts)'),\n",
        "    height=800,\n",
        "    width=800\n",
        ")\n",
        "fig.show()"
      ],
      "metadata": {
        "colab": {
          "base_uri": "https://localhost:8080/",
          "height": 838
        },
        "id": "5OqZDIQCmWow",
        "outputId": "a42f7f34-e906-48b8-dbdc-76e9b71f09b8"
      },
      "execution_count": null,
      "outputs": [
        {
          "output_type": "display_data",
          "data": {
            "text/html": [
              "<html>\n",
              "<head><meta charset=\"utf-8\" /></head>\n",
              "<body>\n",
              "    <div>            <script src=\"https://cdnjs.cloudflare.com/ajax/libs/mathjax/2.7.5/MathJax.js?config=TeX-AMS-MML_SVG\"></script><script type=\"text/javascript\">if (window.MathJax) {MathJax.Hub.Config({SVG: {font: \"STIX-Web\"}});}</script>                <script type=\"text/javascript\">window.PlotlyConfig = {MathJaxConfig: 'local'};</script>\n",
              "        <script src=\"https://cdn.plot.ly/plotly-2.8.3.min.js\"></script>                <div id=\"db182b41-7665-46d1-baea-04af7e26f675\" class=\"plotly-graph-div\" style=\"height:800px; width:800px;\"></div>            <script type=\"text/javascript\">                                    window.PLOTLYENV=window.PLOTLYENV || {};                                    if (document.getElementById(\"db182b41-7665-46d1-baea-04af7e26f675\")) {                    Plotly.newPlot(                        \"db182b41-7665-46d1-baea-04af7e26f675\",                        [{\"color\":\"mediumblue\",\"opacity\":0.55,\"x\":[0.11506849315068493,0.11506849315068493,0.11506849315068493,0.11506849315068493,0.11506849315068493,0.11506849315068493,0.11506849315068493,0.11506849315068493,0.11506849315068493,0.11506849315068493,0.11506849315068493,0.11506849315068493,0.11506849315068493,0.11506849315068493,0.11506849315068493,0.11506849315068493,0.11506849315068493,0.11506849315068493,0.11506849315068493,0.11506849315068493,0.11506849315068493,0.11506849315068493,0.11506849315068493,0.11506849315068493,0.11506849315068493,0.11506849315068493,0.11506849315068493,0.11506849315068493,0.11506849315068493,0.11506849315068493,0.11506849315068493,0.11506849315068493,0.11506849315068493,0.11506849315068493,0.11506849315068493,0.11506849315068493,0.11506849315068493,0.11506849315068493,0.11506849315068493,0.11506849315068493,0.11506849315068493,0.11506849315068493,0.11506849315068493,0.11506849315068493,0.11506849315068493,0.11506849315068493,0.11506849315068493,0.11506849315068493,0.11506849315068493,0.11506849315068493,0.11506849315068493,0.11506849315068493,0.11506849315068493,0.11506849315068493,0.11506849315068493,0.11506849315068493,0.11506849315068493,0.11506849315068493,0.11506849315068493,0.11506849315068493,0.11506849315068493,0.11506849315068493,0.11506849315068493,0.11506849315068493,0.11506849315068493,0.11506849315068493,0.11506849315068493,0.11506849315068493,0.11506849315068493,0.11506849315068493,0.11506849315068493,0.11506849315068493,0.11506849315068493,0.11506849315068493,0.11506849315068493,0.11506849315068493,0.11506849315068493,0.11506849315068493,0.11506849315068493,0.11506849315068493,0.11506849315068493,0.11506849315068493,0.11506849315068493,0.11506849315068493,0.11506849315068493,0.11506849315068493,0.11506849315068493,0.11506849315068493,0.11506849315068493,0.11506849315068493,0.11506849315068493,0.11506849315068493,0.11506849315068493,0.11506849315068493,0.11506849315068493,0.11506849315068493,0.11506849315068493,0.11506849315068493,0.11506849315068493,0.11506849315068493,0.11506849315068493,0.11506849315068493,0.11506849315068493,0.11506849315068493,0.11506849315068493,0.11506849315068493,0.11506849315068493,0.11506849315068493,0.11506849315068493,0.11506849315068493,0.11506849315068493,0.11506849315068493,0.11506849315068493,0.11506849315068493,0.11506849315068493,0.11506849315068493,0.11506849315068493,0.11506849315068493,0.11506849315068493,0.11506849315068493,0.11506849315068493,0.11506849315068493,0.11506849315068493,0.11506849315068493,0.11506849315068493,0.11506849315068493,0.11506849315068493,0.11506849315068493,0.11506849315068493,0.11506849315068493,0.11506849315068493,0.11506849315068493,0.11506849315068493,0.11506849315068493,0.11506849315068493,0.11506849315068493,0.11506849315068493,0.11506849315068493,0.11506849315068493,0.11506849315068493,0.11506849315068493,0.11506849315068493,0.21095890410958903,0.21095890410958903,0.21095890410958903,0.21095890410958903,0.21095890410958903,0.21095890410958903,0.21095890410958903,0.21095890410958903,0.21095890410958903,0.21095890410958903,0.3643835616438356,0.3643835616438356,0.3643835616438356,0.3643835616438356,0.3643835616438356,0.3643835616438356,0.3643835616438356,0.3643835616438356,0.3643835616438356,0.3643835616438356,0.6328767123287671,0.6328767123287671,0.6328767123287671,0.6328767123287671,0.6328767123287671,0.6328767123287671,0.6328767123287671,0.6328767123287671,0.6328767123287671,0.6328767123287671,0.8821917808219178,0.8821917808219178,0.8821917808219178,0.8821917808219178,0.8821917808219178,0.8821917808219178,0.8821917808219178,0.8821917808219178,0.8821917808219178,0.8821917808219178],\"y\":[\"4500\",\"5000\",\"5500\",\"6000\",\"6500\",\"7000\",\"7200\",\"7400\",\"7600\",\"7800\",\"8000\",\"8200\",\"8400\",\"8600\",\"8800\",\"9000\",\"9200\",\"9400\",\"9600\",\"9800\",\"10000\",\"10200\",\"10400\",\"10600\",\"10800\",\"10900\",\"11000\",\"11100\",\"11200\",\"11300\",\"11400\",\"11500\",\"11600\",\"11700\",\"11800\",\"11900\",\"12000\",\"12100\",\"12200\",\"12300\",\"12400\",\"12500\",\"12600\",\"12650\",\"12700\",\"12750\",\"12800\",\"12850\",\"12900\",\"12950\",\"13000\",\"13050\",\"13100\",\"13150\",\"13200\",\"13250\",\"13300\",\"13350\",\"13400\",\"13450\",\"13500\",\"13550\",\"13600\",\"13650\",\"13700\",\"13750\",\"13800\",\"13850\",\"13900\",\"13950\",\"14000\",\"14050\",\"14100\",\"14150\",\"14200\",\"14250\",\"14300\",\"14350\",\"14400\",\"14450\",\"14500\",\"14550\",\"14600\",\"14650\",\"14700\",\"14750\",\"14800\",\"14850\",\"14900\",\"14950\",\"15000\",\"15050\",\"15100\",\"15150\",\"15200\",\"15250\",\"15300\",\"15350\",\"15400\",\"15450\",\"15500\",\"15550\",\"15600\",\"15650\",\"15700\",\"15750\",\"15800\",\"15850\",\"15900\",\"15950\",\"16000\",\"16050\",\"16100\",\"16150\",\"16200\",\"16250\",\"16300\",\"16350\",\"16400\",\"16450\",\"16500\",\"16600\",\"16700\",\"16800\",\"16900\",\"17000\",\"17100\",\"17200\",\"17400\",\"17500\",\"17600\",\"17800\",\"18000\",\"18200\",\"18400\",\"18500\",\"18600\",\"19000\",\"19500\",\"20000\",\"21000\",\"22000\",\"15450\",\"15500\",\"15550\",\"15600\",\"15650\",\"15700\",\"15750\",\"15800\",\"15850\",\"15900\",\"15200\",\"15300\",\"15400\",\"15500\",\"15600\",\"15700\",\"15800\",\"15900\",\"16000\",\"16100\",\"15300\",\"15400\",\"15500\",\"15600\",\"15700\",\"15800\",\"15900\",\"16000\",\"16100\",\"16200\",\"15500\",\"15600\",\"15700\",\"15800\",\"15900\",\"16000\",\"16100\",\"16200\",\"16400\",\"16500\"],\"z\":[1.725,1.575,1.4394,1.3169,1.2041,1.0998999999999999,1.061,1.0225,0.9856999999999999,0.95,0.9145,0.8806,0.8475,0.8158,0.7843000000000001,0.7541,0.7245999999999999,0.6957,0.6681,0.6409999999999999,0.615,0.5893999999999999,0.5644,0.5403,0.5166,0.5053,0.49420000000000003,0.4826,0.47200000000000003,0.4611,0.4506,0.44020000000000004,0.42979999999999996,0.41950000000000004,0.40950000000000003,0.4,0.3901,0.38049999999999995,0.3709,0.3617,0.35229999999999995,0.3433,0.3342,0.3298,0.32530000000000003,0.3211,0.3166,0.3123,0.30829999999999996,0.3039,0.2998,0.2957,0.2917,0.2876,0.28350000000000003,0.2798,0.2758,0.2722,0.26839999999999997,0.2648,0.2611,0.2576,0.254,0.2507,0.24719999999999998,0.2438,0.24050000000000002,0.2371,0.23379999999999998,0.2306,0.2274,0.2242,0.22089999999999999,0.2177,0.2146,0.2114,0.20829999999999999,0.2052,0.2021,0.1991,0.196,0.193,0.19,0.18710000000000002,0.18420000000000003,0.1813,0.17850000000000002,0.1757,0.1729,0.17010000000000003,0.1673,0.16469999999999999,0.162,0.1594,0.1568,0.15439999999999998,0.1519,0.1495,0.1471,0.1447,0.1424,0.1401,0.1379,0.1359,0.1341,0.1322,0.1304,0.1288,0.1273,0.1259,0.1247,0.12369999999999999,0.12279999999999999,0.12210000000000001,0.1215,0.1211,0.1209,0.1207,0.1209,0.1211,0.1215,0.12240000000000001,0.1235,0.1247,0.126,0.1273,0.12869999999999998,0.1301,0.1334,0.1354,0.136,0.1393,0.1458,0.15039999999999998,0.1516,0.156,0.1604,0.1776,0.1984,0.2186,0.257,0.29309999999999997,0.1253,0.1244,0.1235,0.12269999999999999,0.12179999999999999,0.1209,0.1201,0.1193,0.1185,0.1176,0.1727,0.1691,0.1656,0.16210000000000002,0.15869999999999998,0.1555,0.1524,0.1494,0.1464,0.1435,0.1778,0.175,0.1723,0.1696,0.16699999999999998,0.16440000000000002,0.1618,0.1591,0.1566,0.15410000000000001,0.1804,0.17800000000000002,0.1757,0.17329999999999998,0.171,0.16870000000000002,0.16649999999999998,0.1643,0.16010000000000002,0.15810000000000002],\"type\":\"mesh3d\"},{\"mode\":\"markers\",\"x\":[0.11506849315068493,0.11506849315068493,0.11506849315068493,0.11506849315068493,0.11506849315068493,0.11506849315068493,0.11506849315068493,0.11506849315068493,0.11506849315068493,0.11506849315068493,0.11506849315068493,0.11506849315068493,0.11506849315068493,0.11506849315068493,0.11506849315068493,0.11506849315068493,0.11506849315068493,0.11506849315068493,0.11506849315068493,0.11506849315068493,0.11506849315068493,0.11506849315068493,0.11506849315068493,0.11506849315068493,0.11506849315068493,0.11506849315068493,0.11506849315068493,0.11506849315068493,0.11506849315068493,0.11506849315068493,0.11506849315068493,0.11506849315068493,0.11506849315068493,0.11506849315068493,0.11506849315068493,0.11506849315068493,0.11506849315068493,0.11506849315068493,0.11506849315068493,0.11506849315068493,0.11506849315068493,0.11506849315068493,0.11506849315068493,0.11506849315068493,0.11506849315068493,0.11506849315068493,0.11506849315068493,0.11506849315068493,0.11506849315068493,0.11506849315068493,0.11506849315068493,0.11506849315068493,0.11506849315068493,0.11506849315068493,0.11506849315068493,0.11506849315068493,0.11506849315068493,0.11506849315068493,0.11506849315068493,0.11506849315068493,0.11506849315068493,0.11506849315068493,0.11506849315068493,0.11506849315068493,0.11506849315068493,0.11506849315068493,0.11506849315068493,0.11506849315068493,0.11506849315068493,0.11506849315068493,0.11506849315068493,0.11506849315068493,0.11506849315068493,0.11506849315068493,0.11506849315068493,0.11506849315068493,0.11506849315068493,0.11506849315068493,0.11506849315068493,0.11506849315068493,0.11506849315068493,0.11506849315068493,0.11506849315068493,0.11506849315068493,0.11506849315068493,0.11506849315068493,0.11506849315068493,0.11506849315068493,0.11506849315068493,0.11506849315068493,0.11506849315068493,0.11506849315068493,0.11506849315068493,0.11506849315068493,0.11506849315068493,0.11506849315068493,0.11506849315068493,0.11506849315068493,0.11506849315068493,0.11506849315068493,0.11506849315068493,0.11506849315068493,0.11506849315068493,0.11506849315068493,0.11506849315068493,0.11506849315068493,0.11506849315068493,0.11506849315068493,0.11506849315068493,0.11506849315068493,0.11506849315068493,0.11506849315068493,0.11506849315068493,0.11506849315068493,0.11506849315068493,0.11506849315068493,0.11506849315068493,0.11506849315068493,0.11506849315068493,0.11506849315068493,0.11506849315068493,0.11506849315068493,0.11506849315068493,0.11506849315068493,0.11506849315068493,0.11506849315068493,0.11506849315068493,0.11506849315068493,0.11506849315068493,0.11506849315068493,0.11506849315068493,0.11506849315068493,0.11506849315068493,0.11506849315068493,0.11506849315068493,0.11506849315068493,0.11506849315068493,0.11506849315068493,0.11506849315068493,0.11506849315068493,0.11506849315068493,0.11506849315068493,0.21095890410958903,0.21095890410958903,0.21095890410958903,0.21095890410958903,0.21095890410958903,0.21095890410958903,0.21095890410958903,0.21095890410958903,0.21095890410958903,0.21095890410958903,0.3643835616438356,0.3643835616438356,0.3643835616438356,0.3643835616438356,0.3643835616438356,0.3643835616438356,0.3643835616438356,0.3643835616438356,0.3643835616438356,0.3643835616438356,0.6328767123287671,0.6328767123287671,0.6328767123287671,0.6328767123287671,0.6328767123287671,0.6328767123287671,0.6328767123287671,0.6328767123287671,0.6328767123287671,0.6328767123287671,0.8821917808219178,0.8821917808219178,0.8821917808219178,0.8821917808219178,0.8821917808219178,0.8821917808219178,0.8821917808219178,0.8821917808219178,0.8821917808219178,0.8821917808219178],\"y\":[\"4500\",\"5000\",\"5500\",\"6000\",\"6500\",\"7000\",\"7200\",\"7400\",\"7600\",\"7800\",\"8000\",\"8200\",\"8400\",\"8600\",\"8800\",\"9000\",\"9200\",\"9400\",\"9600\",\"9800\",\"10000\",\"10200\",\"10400\",\"10600\",\"10800\",\"10900\",\"11000\",\"11100\",\"11200\",\"11300\",\"11400\",\"11500\",\"11600\",\"11700\",\"11800\",\"11900\",\"12000\",\"12100\",\"12200\",\"12300\",\"12400\",\"12500\",\"12600\",\"12650\",\"12700\",\"12750\",\"12800\",\"12850\",\"12900\",\"12950\",\"13000\",\"13050\",\"13100\",\"13150\",\"13200\",\"13250\",\"13300\",\"13350\",\"13400\",\"13450\",\"13500\",\"13550\",\"13600\",\"13650\",\"13700\",\"13750\",\"13800\",\"13850\",\"13900\",\"13950\",\"14000\",\"14050\",\"14100\",\"14150\",\"14200\",\"14250\",\"14300\",\"14350\",\"14400\",\"14450\",\"14500\",\"14550\",\"14600\",\"14650\",\"14700\",\"14750\",\"14800\",\"14850\",\"14900\",\"14950\",\"15000\",\"15050\",\"15100\",\"15150\",\"15200\",\"15250\",\"15300\",\"15350\",\"15400\",\"15450\",\"15500\",\"15550\",\"15600\",\"15650\",\"15700\",\"15750\",\"15800\",\"15850\",\"15900\",\"15950\",\"16000\",\"16050\",\"16100\",\"16150\",\"16200\",\"16250\",\"16300\",\"16350\",\"16400\",\"16450\",\"16500\",\"16600\",\"16700\",\"16800\",\"16900\",\"17000\",\"17100\",\"17200\",\"17400\",\"17500\",\"17600\",\"17800\",\"18000\",\"18200\",\"18400\",\"18500\",\"18600\",\"19000\",\"19500\",\"20000\",\"21000\",\"22000\",\"15450\",\"15500\",\"15550\",\"15600\",\"15650\",\"15700\",\"15750\",\"15800\",\"15850\",\"15900\",\"15200\",\"15300\",\"15400\",\"15500\",\"15600\",\"15700\",\"15800\",\"15900\",\"16000\",\"16100\",\"15300\",\"15400\",\"15500\",\"15600\",\"15700\",\"15800\",\"15900\",\"16000\",\"16100\",\"16200\",\"15500\",\"15600\",\"15700\",\"15800\",\"15900\",\"16000\",\"16100\",\"16200\",\"16400\",\"16500\"],\"z\":[2.3406008287841336,2.5345055828589413,0.0,1.3678090609067102,1.380906644584681,1.2237725897997624,1.1811796513318442,1.1441007131727343,1.1085329540916569,1.0731597332150773,1.0380013637904102,1.0033739009294738,0.9694885602675717,0.9364101332654549,0.9041204098005808,0.872574007211048,0.8417248586225036,0.8115332650141225,0.7819652986642469,0.7529908039093268,0.7245819844032638,0.6967127341283156,0.6693584540201342,0.6424961922679566,0.6161051377189755,0.6030806368632773,0.5901676709135304,0.5773648573354446,0.5646713314982471,0.5520868939079362,0.5396121929233195,0.5272489469096473,0.5150002085767982,0.50287067221497,0.49086702144647093,0.478998310689443,0.46727636751217144,0.4557161952256337,0.4443363453485602,0.43315921823250125,0.4222112379776526,0.41152283652757576,0.40112817445188526,0.3960525471261444,0.39106452673645253,0.3861690941769963,0.3813712762483274,0.37667609152172293,0.3720884905714877,0.36761329152163846,0.3632551121812826,0.35901830035782456,0.35490686421417184,0.3509244047486485,0.34707405259718976,0.3433584113660272,0.33977950958340997,0.3363387631080393,0.33303694945675755,0.3298741950361846,0.3268499757133041,0.3239631305796293,0.3212118881949855,0.31859390408361044,0.31610630783237936,0.31374575783568054,0.3115085015565827,0.3093904391311191,0.30738718822063466,0.30549414819649084,0.30370656199640633,0.3020195742946191,0.3004282849516287,0.2989277970302504,0.29751325896380276,0.2961799007265003,0.29492306407735563,0.29373822712391173,0.2926210235819123,0.29156725719469456,0.2905729118272834,0.2896341577707197,0.28874735478888813,0.2879090524184703,0.28711598799877214,0.2863650828660208,0.28565343710057356,0.28497832316790234,0.2843371787475875,0.28372759900026423,0.2831473284815986,0.2825942528753624,0.28206639068482514,0.2815618849930642,0.2810789953779313,0.28061609004652754,0.2801716382362167,0.2797442029146439,0.2793324337990703,0.27893506070561647,0.27855088723112315,0.27817878476418056,0.2778176868170076,0.2774665836662196,0.277124517287712,0.27679057656890405,0.27646389278013994,0.27614363528608754,0.2758290074773703,0.27551924290230984,0.2752136015784828,0.2749113664637635,0.27461184006649125,0.2743143411744699,0.27401820168243696,0.2737227634976225,0.27342737550278096,0.2731313905558148,0.2728341625046023,0.27253504319498023,0.2722333794489262,0.2716197622819605,0.27098786601134894,0.2703319576172131,0.26964589794884664,0.26892300765691485,0.26815591089885654,0.26733634865176864,0.2655009512425307,0.2644618271220439,0.2633228281106458,0.26067111502307766,0.25735319986215693,0.2530655824997043,0.24728311191418686,0.2435419121603408,0.23895605091252076,0.1910700311536793,0.0,0.0,0.0,0.0,0.25248533741789747,0.2520609436873485,0.2516475599676785,0.25124439796087367,0.2508507033107689,0.2504657532685892,0.25008885444099715,0.24971934061914583,0.24935657068633765,0.24899992660114148,0.2228746938147088,0.22174151795809025,0.22066844289429038,0.21964897964398436,0.2186771070274811,0.21774723008384678,0.21685413833199252,0.21599296454503858,0.21515914446313394,0.21434837767098902,0.18568243403844475,0.18429328171860213,0.18296984479383377,0.1817059896414982,0.1804958907667073,0.179334017651041,0.17821511756358377,0.17713419522544033,0.17608649004271096,0.17506745145457364,0.16278458351599154,0.16124475395313603,0.15977034222472067,0.15835554335005833,0.15699474377036818,0.1556825202652547,0.15441363351429896,0.1531830169867748,0.1508170975362952,0.14967237070843714],\"type\":\"scatter3d\"}],                        {\"template\":{\"data\":{\"bar\":[{\"error_x\":{\"color\":\"#2a3f5f\"},\"error_y\":{\"color\":\"#2a3f5f\"},\"marker\":{\"line\":{\"color\":\"#E5ECF6\",\"width\":0.5},\"pattern\":{\"fillmode\":\"overlay\",\"size\":10,\"solidity\":0.2}},\"type\":\"bar\"}],\"barpolar\":[{\"marker\":{\"line\":{\"color\":\"#E5ECF6\",\"width\":0.5},\"pattern\":{\"fillmode\":\"overlay\",\"size\":10,\"solidity\":0.2}},\"type\":\"barpolar\"}],\"carpet\":[{\"aaxis\":{\"endlinecolor\":\"#2a3f5f\",\"gridcolor\":\"white\",\"linecolor\":\"white\",\"minorgridcolor\":\"white\",\"startlinecolor\":\"#2a3f5f\"},\"baxis\":{\"endlinecolor\":\"#2a3f5f\",\"gridcolor\":\"white\",\"linecolor\":\"white\",\"minorgridcolor\":\"white\",\"startlinecolor\":\"#2a3f5f\"},\"type\":\"carpet\"}],\"choropleth\":[{\"colorbar\":{\"outlinewidth\":0,\"ticks\":\"\"},\"type\":\"choropleth\"}],\"contour\":[{\"colorbar\":{\"outlinewidth\":0,\"ticks\":\"\"},\"colorscale\":[[0.0,\"#0d0887\"],[0.1111111111111111,\"#46039f\"],[0.2222222222222222,\"#7201a8\"],[0.3333333333333333,\"#9c179e\"],[0.4444444444444444,\"#bd3786\"],[0.5555555555555556,\"#d8576b\"],[0.6666666666666666,\"#ed7953\"],[0.7777777777777778,\"#fb9f3a\"],[0.8888888888888888,\"#fdca26\"],[1.0,\"#f0f921\"]],\"type\":\"contour\"}],\"contourcarpet\":[{\"colorbar\":{\"outlinewidth\":0,\"ticks\":\"\"},\"type\":\"contourcarpet\"}],\"heatmap\":[{\"colorbar\":{\"outlinewidth\":0,\"ticks\":\"\"},\"colorscale\":[[0.0,\"#0d0887\"],[0.1111111111111111,\"#46039f\"],[0.2222222222222222,\"#7201a8\"],[0.3333333333333333,\"#9c179e\"],[0.4444444444444444,\"#bd3786\"],[0.5555555555555556,\"#d8576b\"],[0.6666666666666666,\"#ed7953\"],[0.7777777777777778,\"#fb9f3a\"],[0.8888888888888888,\"#fdca26\"],[1.0,\"#f0f921\"]],\"type\":\"heatmap\"}],\"heatmapgl\":[{\"colorbar\":{\"outlinewidth\":0,\"ticks\":\"\"},\"colorscale\":[[0.0,\"#0d0887\"],[0.1111111111111111,\"#46039f\"],[0.2222222222222222,\"#7201a8\"],[0.3333333333333333,\"#9c179e\"],[0.4444444444444444,\"#bd3786\"],[0.5555555555555556,\"#d8576b\"],[0.6666666666666666,\"#ed7953\"],[0.7777777777777778,\"#fb9f3a\"],[0.8888888888888888,\"#fdca26\"],[1.0,\"#f0f921\"]],\"type\":\"heatmapgl\"}],\"histogram\":[{\"marker\":{\"pattern\":{\"fillmode\":\"overlay\",\"size\":10,\"solidity\":0.2}},\"type\":\"histogram\"}],\"histogram2d\":[{\"colorbar\":{\"outlinewidth\":0,\"ticks\":\"\"},\"colorscale\":[[0.0,\"#0d0887\"],[0.1111111111111111,\"#46039f\"],[0.2222222222222222,\"#7201a8\"],[0.3333333333333333,\"#9c179e\"],[0.4444444444444444,\"#bd3786\"],[0.5555555555555556,\"#d8576b\"],[0.6666666666666666,\"#ed7953\"],[0.7777777777777778,\"#fb9f3a\"],[0.8888888888888888,\"#fdca26\"],[1.0,\"#f0f921\"]],\"type\":\"histogram2d\"}],\"histogram2dcontour\":[{\"colorbar\":{\"outlinewidth\":0,\"ticks\":\"\"},\"colorscale\":[[0.0,\"#0d0887\"],[0.1111111111111111,\"#46039f\"],[0.2222222222222222,\"#7201a8\"],[0.3333333333333333,\"#9c179e\"],[0.4444444444444444,\"#bd3786\"],[0.5555555555555556,\"#d8576b\"],[0.6666666666666666,\"#ed7953\"],[0.7777777777777778,\"#fb9f3a\"],[0.8888888888888888,\"#fdca26\"],[1.0,\"#f0f921\"]],\"type\":\"histogram2dcontour\"}],\"mesh3d\":[{\"colorbar\":{\"outlinewidth\":0,\"ticks\":\"\"},\"type\":\"mesh3d\"}],\"parcoords\":[{\"line\":{\"colorbar\":{\"outlinewidth\":0,\"ticks\":\"\"}},\"type\":\"parcoords\"}],\"pie\":[{\"automargin\":true,\"type\":\"pie\"}],\"scatter\":[{\"marker\":{\"colorbar\":{\"outlinewidth\":0,\"ticks\":\"\"}},\"type\":\"scatter\"}],\"scatter3d\":[{\"line\":{\"colorbar\":{\"outlinewidth\":0,\"ticks\":\"\"}},\"marker\":{\"colorbar\":{\"outlinewidth\":0,\"ticks\":\"\"}},\"type\":\"scatter3d\"}],\"scattercarpet\":[{\"marker\":{\"colorbar\":{\"outlinewidth\":0,\"ticks\":\"\"}},\"type\":\"scattercarpet\"}],\"scattergeo\":[{\"marker\":{\"colorbar\":{\"outlinewidth\":0,\"ticks\":\"\"}},\"type\":\"scattergeo\"}],\"scattergl\":[{\"marker\":{\"colorbar\":{\"outlinewidth\":0,\"ticks\":\"\"}},\"type\":\"scattergl\"}],\"scattermapbox\":[{\"marker\":{\"colorbar\":{\"outlinewidth\":0,\"ticks\":\"\"}},\"type\":\"scattermapbox\"}],\"scatterpolar\":[{\"marker\":{\"colorbar\":{\"outlinewidth\":0,\"ticks\":\"\"}},\"type\":\"scatterpolar\"}],\"scatterpolargl\":[{\"marker\":{\"colorbar\":{\"outlinewidth\":0,\"ticks\":\"\"}},\"type\":\"scatterpolargl\"}],\"scatterternary\":[{\"marker\":{\"colorbar\":{\"outlinewidth\":0,\"ticks\":\"\"}},\"type\":\"scatterternary\"}],\"surface\":[{\"colorbar\":{\"outlinewidth\":0,\"ticks\":\"\"},\"colorscale\":[[0.0,\"#0d0887\"],[0.1111111111111111,\"#46039f\"],[0.2222222222222222,\"#7201a8\"],[0.3333333333333333,\"#9c179e\"],[0.4444444444444444,\"#bd3786\"],[0.5555555555555556,\"#d8576b\"],[0.6666666666666666,\"#ed7953\"],[0.7777777777777778,\"#fb9f3a\"],[0.8888888888888888,\"#fdca26\"],[1.0,\"#f0f921\"]],\"type\":\"surface\"}],\"table\":[{\"cells\":{\"fill\":{\"color\":\"#EBF0F8\"},\"line\":{\"color\":\"white\"}},\"header\":{\"fill\":{\"color\":\"#C8D4E3\"},\"line\":{\"color\":\"white\"}},\"type\":\"table\"}]},\"layout\":{\"annotationdefaults\":{\"arrowcolor\":\"#2a3f5f\",\"arrowhead\":0,\"arrowwidth\":1},\"autotypenumbers\":\"strict\",\"coloraxis\":{\"colorbar\":{\"outlinewidth\":0,\"ticks\":\"\"}},\"colorscale\":{\"diverging\":[[0,\"#8e0152\"],[0.1,\"#c51b7d\"],[0.2,\"#de77ae\"],[0.3,\"#f1b6da\"],[0.4,\"#fde0ef\"],[0.5,\"#f7f7f7\"],[0.6,\"#e6f5d0\"],[0.7,\"#b8e186\"],[0.8,\"#7fbc41\"],[0.9,\"#4d9221\"],[1,\"#276419\"]],\"sequential\":[[0.0,\"#0d0887\"],[0.1111111111111111,\"#46039f\"],[0.2222222222222222,\"#7201a8\"],[0.3333333333333333,\"#9c179e\"],[0.4444444444444444,\"#bd3786\"],[0.5555555555555556,\"#d8576b\"],[0.6666666666666666,\"#ed7953\"],[0.7777777777777778,\"#fb9f3a\"],[0.8888888888888888,\"#fdca26\"],[1.0,\"#f0f921\"]],\"sequentialminus\":[[0.0,\"#0d0887\"],[0.1111111111111111,\"#46039f\"],[0.2222222222222222,\"#7201a8\"],[0.3333333333333333,\"#9c179e\"],[0.4444444444444444,\"#bd3786\"],[0.5555555555555556,\"#d8576b\"],[0.6666666666666666,\"#ed7953\"],[0.7777777777777778,\"#fb9f3a\"],[0.8888888888888888,\"#fdca26\"],[1.0,\"#f0f921\"]]},\"colorway\":[\"#636efa\",\"#EF553B\",\"#00cc96\",\"#ab63fa\",\"#FFA15A\",\"#19d3f3\",\"#FF6692\",\"#B6E880\",\"#FF97FF\",\"#FECB52\"],\"font\":{\"color\":\"#2a3f5f\"},\"geo\":{\"bgcolor\":\"white\",\"lakecolor\":\"white\",\"landcolor\":\"#E5ECF6\",\"showlakes\":true,\"showland\":true,\"subunitcolor\":\"white\"},\"hoverlabel\":{\"align\":\"left\"},\"hovermode\":\"closest\",\"mapbox\":{\"style\":\"light\"},\"paper_bgcolor\":\"white\",\"plot_bgcolor\":\"#E5ECF6\",\"polar\":{\"angularaxis\":{\"gridcolor\":\"white\",\"linecolor\":\"white\",\"ticks\":\"\"},\"bgcolor\":\"#E5ECF6\",\"radialaxis\":{\"gridcolor\":\"white\",\"linecolor\":\"white\",\"ticks\":\"\"}},\"scene\":{\"xaxis\":{\"backgroundcolor\":\"#E5ECF6\",\"gridcolor\":\"white\",\"gridwidth\":2,\"linecolor\":\"white\",\"showbackground\":true,\"ticks\":\"\",\"zerolinecolor\":\"white\"},\"yaxis\":{\"backgroundcolor\":\"#E5ECF6\",\"gridcolor\":\"white\",\"gridwidth\":2,\"linecolor\":\"white\",\"showbackground\":true,\"ticks\":\"\",\"zerolinecolor\":\"white\"},\"zaxis\":{\"backgroundcolor\":\"#E5ECF6\",\"gridcolor\":\"white\",\"gridwidth\":2,\"linecolor\":\"white\",\"showbackground\":true,\"ticks\":\"\",\"zerolinecolor\":\"white\"}},\"shapedefaults\":{\"line\":{\"color\":\"#2a3f5f\"}},\"ternary\":{\"aaxis\":{\"gridcolor\":\"white\",\"linecolor\":\"white\",\"ticks\":\"\"},\"baxis\":{\"gridcolor\":\"white\",\"linecolor\":\"white\",\"ticks\":\"\"},\"bgcolor\":\"#E5ECF6\",\"caxis\":{\"gridcolor\":\"white\",\"linecolor\":\"white\",\"ticks\":\"\"}},\"title\":{\"x\":0.05},\"xaxis\":{\"automargin\":true,\"gridcolor\":\"white\",\"linecolor\":\"white\",\"ticks\":\"\",\"title\":{\"standoff\":15},\"zerolinecolor\":\"white\",\"zerolinewidth\":2},\"yaxis\":{\"automargin\":true,\"gridcolor\":\"white\",\"linecolor\":\"white\",\"ticks\":\"\",\"title\":{\"standoff\":15},\"zerolinecolor\":\"white\",\"zerolinewidth\":2}}},\"title\":{\"text\":\"Market Prices (Mesh) vs Calibrated Heston Prices (Markers)\"},\"scene\":{\"xaxis\":{\"title\":{\"text\":\"TIME (Years)\"}},\"yaxis\":{\"title\":{\"text\":\"STRIKES (Pts)\"}},\"zaxis\":{\"title\":{\"text\":\"INDEX OPTION PRICE (Pts)\"}}},\"height\":800,\"width\":800},                        {\"responsive\": true}                    ).then(function(){\n",
              "                            \n",
              "var gd = document.getElementById('db182b41-7665-46d1-baea-04af7e26f675');\n",
              "var x = new MutationObserver(function (mutations, observer) {{\n",
              "        var display = window.getComputedStyle(gd).display;\n",
              "        if (!display || display === 'none') {{\n",
              "            console.log([gd, 'removed!']);\n",
              "            Plotly.purge(gd);\n",
              "            observer.disconnect();\n",
              "        }}\n",
              "}});\n",
              "\n",
              "// Listen for the removal of the full notebook cells\n",
              "var notebookContainer = gd.closest('#notebook-container');\n",
              "if (notebookContainer) {{\n",
              "    x.observe(notebookContainer, {childList: true});\n",
              "}}\n",
              "\n",
              "// Listen for the clearing of the current output cell\n",
              "var outputEl = gd.closest('.output');\n",
              "if (outputEl) {{\n",
              "    x.observe(outputEl, {childList: true});\n",
              "}}\n",
              "\n",
              "                        })                };                            </script>        </div>\n",
              "</body>\n",
              "</html>"
            ]
          },
          "metadata": {}
        }
      ]
    }
  ]
}