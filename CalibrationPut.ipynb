{
  "nbformat": 4,
  "nbformat_minor": 0,
  "metadata": {
    "colab": {
      "provenance": []
    },
    "kernelspec": {
      "name": "python3",
      "display_name": "Python 3"
    },
    "language_info": {
      "name": "python"
    }
  },
  "cells": [
    {
      "cell_type": "code",
      "execution_count": 2,
      "metadata": {
        "id": "pmehHoJ1FXNJ"
      },
      "outputs": [],
      "source": [
        "import os\n",
        "import numpy as np\n",
        "import pandas as pd\n",
        "import matplotlib.pyplot as plt\n",
        "from scipy.integrate import quadrature\n",
        "from scipy.optimize import least_squares \n",
        "from datetime import datetime as dt\n",
        "from eod import EodHistoricalData\n",
        "from nelson_siegel_svensson import NelsonSiegelSvenssonCurve\n",
        "from nelson_siegel_svensson.calibrate import calibrate_nss_ols\n",
        "import py_vollib_vectorized"
      ]
    },
    {
      "cell_type": "code",
      "source": [
        "S0=15922"
      ],
      "metadata": {
        "id": "IdzzZBpiBjox"
      },
      "execution_count": 3,
      "outputs": []
    },
    {
      "cell_type": "code",
      "source": [
        "df1= pd.read_csv('/content/dyh23-volatility-greeks-exp-03_18_23-show-all-02-04-2023.csv')\n",
        "df2= pd.read_csv('/content/dym23-volatility-greeks-exp-04_22_23-%moneyness%-02-04-2023.csv')\n",
        "df3= pd.read_csv('/content/dym23-volatility-greeks-exp-06_17_23-%moneyness%-02-04-2023.csv')\n",
        "df4= pd.read_csv('/content/dyu23-volatility-greeks-exp-09_16_23-%moneyness%-02-04-2023.csv')\n",
        "df5= pd.read_csv('/content/dyz23-volatility-greeks-exp-12_16_23-%moneyness%-02-04-2023.csv')"
      ],
      "metadata": {
        "id": "P9J2LxDH2BfQ"
      },
      "execution_count": 4,
      "outputs": []
    },
    {
      "cell_type": "code",
      "source": [
        "df1['exp']=dt(2023, 3, 18)\n",
        "df2['exp']=dt(2023, 4, 22)\n",
        "df3['exp']=dt(2023, 6, 17)\n",
        "df4['exp']=dt(2023, 9, 23)\n",
        "df5['exp']=dt(2023, 12, 23)"
      ],
      "metadata": {
        "id": "4TDpboe-3cXG"
      },
      "execution_count": 5,
      "outputs": []
    },
    {
      "cell_type": "code",
      "source": [
        "df_call = pd.concat([df1[df1['Type']=='Call'], df2[df2['Type']=='Call'], df3[df3['Type']=='Call'], df4[df4['Type']=='Call'], df5[df5['Type']=='Call']], ignore_index=True)\n",
        "df_put = pd.concat([df1[df1['Type']=='Put'], df2[df2['Type']=='Put'], df3[df3['Type']=='Put'], df4[df4['Type']=='Put'], df5[df5['Type']=='Put']], ignore_index=True)"
      ],
      "metadata": {
        "id": "HqD1Qgml2w_l"
      },
      "execution_count": 6,
      "outputs": []
    },
    {
      "cell_type": "code",
      "source": [
        "df_call['Time']=dt(2023, 2, 4)\n",
        "df_put['Time']=dt(2023, 2, 4)"
      ],
      "metadata": {
        "id": "uM0m8dKm7CE_"
      },
      "execution_count": 7,
      "outputs": []
    },
    {
      "cell_type": "code",
      "source": [
        "df_call['tau']=(df_call['exp']-df_call['Time']).dt.days/365\n",
        "df_put['tau']=(df_put['exp']-df_put['Time']).dt.days/365"
      ],
      "metadata": {
        "id": "dmzFcpKP7ZTT"
      },
      "execution_count": 8,
      "outputs": []
    },
    {
      "cell_type": "code",
      "source": [
        "df_call['IV']=df_call['IV'].str.strip('%').to_numpy('float')\n",
        "df_put['IV']=df_put['IV'].str.strip('%').to_numpy('float')"
      ],
      "metadata": {
        "id": "h8K8WB9eiOPv"
      },
      "execution_count": 9,
      "outputs": []
    },
    {
      "cell_type": "code",
      "source": [
        "df_call.head()"
      ],
      "metadata": {
        "colab": {
          "base_uri": "https://localhost:8080/",
          "height": 221
        },
        "id": "1fMQT2ACAKNM",
        "outputId": "db430de8-b4f7-40ef-f4ab-a0bab288ab51"
      },
      "execution_count": null,
      "outputs": [
        {
          "output_type": "execute_result",
          "data": {
            "text/plain": [
              "  Strike  Type     Last      IV     Delta          Gamma          Theta  \\\n",
              "0   4500  Call  10979.5  172.50  0.994668  4.243346e-115 -4.015857e-112   \n",
              "1   5000  Call  10480.9  157.50  0.994668   5.154146e-97  -5.884828e-94   \n",
              "2   5500  Call   9982.2  143.94  0.994668   4.872158e-82  -6.592205e-79   \n",
              "3   6000  Call   9483.6  131.69  0.994668   1.627567e-69  -2.571346e-66   \n",
              "4   6500  Call   8984.9  120.41  0.994668   5.819387e-59  -1.060279e-55   \n",
              "\n",
              "            Vega   IV Skew       Time        exp Last Trade       tau  \n",
              "0  1.896728e-110  +158.26% 2023-02-04 2023-03-18        NaN  0.115068  \n",
              "1   2.303845e-92  +143.26% 2023-02-04 2023-03-18        NaN  0.115068  \n",
              "2   2.177800e-77  +129.69% 2023-02-04 2023-03-18        NaN  0.115068  \n",
              "3   7.275042e-65  +117.45% 2023-02-04 2023-03-18        NaN  0.115068  \n",
              "4   2.601200e-54  +106.16% 2023-02-04 2023-03-18        NaN  0.115068  "
            ],
            "text/html": [
              "\n",
              "  <div id=\"df-33c930aa-abba-417d-8088-e47fa12a638e\">\n",
              "    <div class=\"colab-df-container\">\n",
              "      <div>\n",
              "<style scoped>\n",
              "    .dataframe tbody tr th:only-of-type {\n",
              "        vertical-align: middle;\n",
              "    }\n",
              "\n",
              "    .dataframe tbody tr th {\n",
              "        vertical-align: top;\n",
              "    }\n",
              "\n",
              "    .dataframe thead th {\n",
              "        text-align: right;\n",
              "    }\n",
              "</style>\n",
              "<table border=\"1\" class=\"dataframe\">\n",
              "  <thead>\n",
              "    <tr style=\"text-align: right;\">\n",
              "      <th></th>\n",
              "      <th>Strike</th>\n",
              "      <th>Type</th>\n",
              "      <th>Last</th>\n",
              "      <th>IV</th>\n",
              "      <th>Delta</th>\n",
              "      <th>Gamma</th>\n",
              "      <th>Theta</th>\n",
              "      <th>Vega</th>\n",
              "      <th>IV Skew</th>\n",
              "      <th>Time</th>\n",
              "      <th>exp</th>\n",
              "      <th>Last Trade</th>\n",
              "      <th>tau</th>\n",
              "    </tr>\n",
              "  </thead>\n",
              "  <tbody>\n",
              "    <tr>\n",
              "      <th>0</th>\n",
              "      <td>4500</td>\n",
              "      <td>Call</td>\n",
              "      <td>10979.5</td>\n",
              "      <td>172.50</td>\n",
              "      <td>0.994668</td>\n",
              "      <td>4.243346e-115</td>\n",
              "      <td>-4.015857e-112</td>\n",
              "      <td>1.896728e-110</td>\n",
              "      <td>+158.26%</td>\n",
              "      <td>2023-02-04</td>\n",
              "      <td>2023-03-18</td>\n",
              "      <td>NaN</td>\n",
              "      <td>0.115068</td>\n",
              "    </tr>\n",
              "    <tr>\n",
              "      <th>1</th>\n",
              "      <td>5000</td>\n",
              "      <td>Call</td>\n",
              "      <td>10480.9</td>\n",
              "      <td>157.50</td>\n",
              "      <td>0.994668</td>\n",
              "      <td>5.154146e-97</td>\n",
              "      <td>-5.884828e-94</td>\n",
              "      <td>2.303845e-92</td>\n",
              "      <td>+143.26%</td>\n",
              "      <td>2023-02-04</td>\n",
              "      <td>2023-03-18</td>\n",
              "      <td>NaN</td>\n",
              "      <td>0.115068</td>\n",
              "    </tr>\n",
              "    <tr>\n",
              "      <th>2</th>\n",
              "      <td>5500</td>\n",
              "      <td>Call</td>\n",
              "      <td>9982.2</td>\n",
              "      <td>143.94</td>\n",
              "      <td>0.994668</td>\n",
              "      <td>4.872158e-82</td>\n",
              "      <td>-6.592205e-79</td>\n",
              "      <td>2.177800e-77</td>\n",
              "      <td>+129.69%</td>\n",
              "      <td>2023-02-04</td>\n",
              "      <td>2023-03-18</td>\n",
              "      <td>NaN</td>\n",
              "      <td>0.115068</td>\n",
              "    </tr>\n",
              "    <tr>\n",
              "      <th>3</th>\n",
              "      <td>6000</td>\n",
              "      <td>Call</td>\n",
              "      <td>9483.6</td>\n",
              "      <td>131.69</td>\n",
              "      <td>0.994668</td>\n",
              "      <td>1.627567e-69</td>\n",
              "      <td>-2.571346e-66</td>\n",
              "      <td>7.275042e-65</td>\n",
              "      <td>+117.45%</td>\n",
              "      <td>2023-02-04</td>\n",
              "      <td>2023-03-18</td>\n",
              "      <td>NaN</td>\n",
              "      <td>0.115068</td>\n",
              "    </tr>\n",
              "    <tr>\n",
              "      <th>4</th>\n",
              "      <td>6500</td>\n",
              "      <td>Call</td>\n",
              "      <td>8984.9</td>\n",
              "      <td>120.41</td>\n",
              "      <td>0.994668</td>\n",
              "      <td>5.819387e-59</td>\n",
              "      <td>-1.060279e-55</td>\n",
              "      <td>2.601200e-54</td>\n",
              "      <td>+106.16%</td>\n",
              "      <td>2023-02-04</td>\n",
              "      <td>2023-03-18</td>\n",
              "      <td>NaN</td>\n",
              "      <td>0.115068</td>\n",
              "    </tr>\n",
              "  </tbody>\n",
              "</table>\n",
              "</div>\n",
              "      <button class=\"colab-df-convert\" onclick=\"convertToInteractive('df-33c930aa-abba-417d-8088-e47fa12a638e')\"\n",
              "              title=\"Convert this dataframe to an interactive table.\"\n",
              "              style=\"display:none;\">\n",
              "        \n",
              "  <svg xmlns=\"http://www.w3.org/2000/svg\" height=\"24px\"viewBox=\"0 0 24 24\"\n",
              "       width=\"24px\">\n",
              "    <path d=\"M0 0h24v24H0V0z\" fill=\"none\"/>\n",
              "    <path d=\"M18.56 5.44l.94 2.06.94-2.06 2.06-.94-2.06-.94-.94-2.06-.94 2.06-2.06.94zm-11 1L8.5 8.5l.94-2.06 2.06-.94-2.06-.94L8.5 2.5l-.94 2.06-2.06.94zm10 10l.94 2.06.94-2.06 2.06-.94-2.06-.94-.94-2.06-.94 2.06-2.06.94z\"/><path d=\"M17.41 7.96l-1.37-1.37c-.4-.4-.92-.59-1.43-.59-.52 0-1.04.2-1.43.59L10.3 9.45l-7.72 7.72c-.78.78-.78 2.05 0 2.83L4 21.41c.39.39.9.59 1.41.59.51 0 1.02-.2 1.41-.59l7.78-7.78 2.81-2.81c.8-.78.8-2.07 0-2.86zM5.41 20L4 18.59l7.72-7.72 1.47 1.35L5.41 20z\"/>\n",
              "  </svg>\n",
              "      </button>\n",
              "      \n",
              "  <style>\n",
              "    .colab-df-container {\n",
              "      display:flex;\n",
              "      flex-wrap:wrap;\n",
              "      gap: 12px;\n",
              "    }\n",
              "\n",
              "    .colab-df-convert {\n",
              "      background-color: #E8F0FE;\n",
              "      border: none;\n",
              "      border-radius: 50%;\n",
              "      cursor: pointer;\n",
              "      display: none;\n",
              "      fill: #1967D2;\n",
              "      height: 32px;\n",
              "      padding: 0 0 0 0;\n",
              "      width: 32px;\n",
              "    }\n",
              "\n",
              "    .colab-df-convert:hover {\n",
              "      background-color: #E2EBFA;\n",
              "      box-shadow: 0px 1px 2px rgba(60, 64, 67, 0.3), 0px 1px 3px 1px rgba(60, 64, 67, 0.15);\n",
              "      fill: #174EA6;\n",
              "    }\n",
              "\n",
              "    [theme=dark] .colab-df-convert {\n",
              "      background-color: #3B4455;\n",
              "      fill: #D2E3FC;\n",
              "    }\n",
              "\n",
              "    [theme=dark] .colab-df-convert:hover {\n",
              "      background-color: #434B5C;\n",
              "      box-shadow: 0px 1px 3px 1px rgba(0, 0, 0, 0.15);\n",
              "      filter: drop-shadow(0px 1px 2px rgba(0, 0, 0, 0.3));\n",
              "      fill: #FFFFFF;\n",
              "    }\n",
              "  </style>\n",
              "\n",
              "      <script>\n",
              "        const buttonEl =\n",
              "          document.querySelector('#df-33c930aa-abba-417d-8088-e47fa12a638e button.colab-df-convert');\n",
              "        buttonEl.style.display =\n",
              "          google.colab.kernel.accessAllowed ? 'block' : 'none';\n",
              "\n",
              "        async function convertToInteractive(key) {\n",
              "          const element = document.querySelector('#df-33c930aa-abba-417d-8088-e47fa12a638e');\n",
              "          const dataTable =\n",
              "            await google.colab.kernel.invokeFunction('convertToInteractive',\n",
              "                                                     [key], {});\n",
              "          if (!dataTable) return;\n",
              "\n",
              "          const docLinkHtml = 'Like what you see? Visit the ' +\n",
              "            '<a target=\"_blank\" href=https://colab.research.google.com/notebooks/data_table.ipynb>data table notebook</a>'\n",
              "            + ' to learn more about interactive tables.';\n",
              "          element.innerHTML = '';\n",
              "          dataTable['output_type'] = 'display_data';\n",
              "          await google.colab.output.renderOutput(dataTable, element);\n",
              "          const docLink = document.createElement('div');\n",
              "          docLink.innerHTML = docLinkHtml;\n",
              "          element.appendChild(docLink);\n",
              "        }\n",
              "      </script>\n",
              "    </div>\n",
              "  </div>\n",
              "  "
            ]
          },
          "metadata": {},
          "execution_count": 10
        }
      ]
    },
    {
      "cell_type": "code",
      "source": [
        "def heston_charfunc(phi, S0, v0, kappa, theta, sigma, rho, lambd, tau, r):\n",
        "    \n",
        "    # constants\n",
        "    a = kappa*theta\n",
        "    b = kappa+lambd\n",
        "    \n",
        "    # common terms w.r.t phi\n",
        "    rspi = rho*sigma*phi*1j\n",
        "    \n",
        "    # define d parameter given phi and b\n",
        "    d = np.sqrt( (rho*sigma*phi*1j - b)**2 + (phi*1j+phi**2)*sigma**2 )\n",
        "    \n",
        "    # define g parameter given phi, b and d\n",
        "    g = (b-rspi+d)/(b-rspi-d)\n",
        "    \n",
        "    # calculate characteristic function by components\n",
        "    exp1 = np.exp(r*phi*1j*tau)\n",
        "    term2 = S0**(phi*1j) * ( (1-g*np.exp(d*tau))/(1-g) )**(-2*a/sigma**2)\n",
        "    exp2 = np.exp(a*tau*(b-rspi+d)/sigma**2 + v0*(b-rspi+d)*( (1-np.exp(d*tau))/(1-g*np.exp(d*tau)) )/sigma**2)\n",
        "    return exp1*term2*exp2"
      ],
      "metadata": {
        "id": "oN0UtUsPFsfs"
      },
      "execution_count": 10,
      "outputs": []
    },
    {
      "cell_type": "code",
      "source": [
        "#v0, kappa, theta, sigma, rho, lambd\n",
        "def integrand(phi, S0,  v0, kappa, theta, sigma, rho, lambd, tau, r, K):\n",
        "\n",
        "  args = (S0, v0, kappa, theta, sigma, rho, lambd, tau, r)\n",
        "  \n",
        "  \n",
        "  numerator = np.exp(r*tau) * heston_charfunc(phi-1j,*args) - K*heston_charfunc(phi,*args)\n",
        "  \n",
        "  denominator = 1j*phi*K**(1j*phi)\n",
        "  return numerator/denominator"
      ],
      "metadata": {
        "id": "o5vUCEIEHxGd"
      },
      "execution_count": 11,
      "outputs": []
    },
    {
      "cell_type": "code",
      "source": [
        "def vectorized_quad(integrand, S0, K, v0, kappa, theta, sigma, rho, lambd, tau, r):\n",
        "    result = np.zeros(len(K))\n",
        "    for i in range(len(K)):\n",
        "        t = tau[i]\n",
        "        result[i], _ = quadrature(integrand, 0, 100, maxiter = 25, args=(S0, v0, kappa, theta, sigma, rho, lambd, t, r[i], K[i]))\n",
        "    return result"
      ],
      "metadata": {
        "id": "DiqkLkqiervh"
      },
      "execution_count": 12,
      "outputs": []
    },
    {
      "cell_type": "code",
      "source": [
        "def heston_price(S0, K, v0, kappa, theta, sigma, rho, lambd, tau, r):\n",
        "\n",
        "  \n",
        "  \n",
        "  real_integral = np.real(vectorized_quad(integrand, S0, K, v0, kappa, theta, sigma, rho, lambd, tau, r) )\n",
        "    \n",
        "  return (S0 - K*np.exp(-r*tau))/2 + real_integral/np.pi + K*np.exp(-r*tau)-S0"
      ],
      "metadata": {
        "id": "_7QRDQZaFtJm"
      },
      "execution_count": 24,
      "outputs": []
    },
    {
      "cell_type": "markdown",
      "source": [
        "Where I found the rates for the Germany Governments bonds\n",
        "http://www.worldgovernmentbonds.com/country/germany/"
      ],
      "metadata": {
        "id": "iPqTK4lgBIUF"
      }
    },
    {
      "cell_type": "code",
      "source": [
        "rates = {1/12:\t2.440,\t\n",
        "3/12:\t2.5782,\t\n",
        "6/12:\t2.725,\t\n",
        "9/12:\t2.940,\t\n",
        "1:\t2.919,\t\n",
        "2:\t2.765,\t\n",
        "3:  2.516,\t\n",
        "4:\t2.409,\t\n",
        "5:\t2.399,\t\n",
        "6:\t2.319,\t\n",
        "7:\t2.303,\t\n",
        "8:\t2.303,\t\n",
        "9:\t2.313,\t\n",
        "10:\t2.362,\t\n",
        "15:\t2.439,\t\n",
        "20:\t2.410,\t\n",
        "25:\t2.328,\t\n",
        "30:\t2.320}\t"
      ],
      "metadata": {
        "id": "aSVWecDMYwg_"
      },
      "execution_count": 14,
      "outputs": []
    },
    {
      "cell_type": "code",
      "source": [
        "mat = []\n",
        "rate = []\n",
        "for i, j in rates.items():\n",
        "  mat.append(i)\n",
        "  rate.append(j/100)\n",
        "mat = np.array(mat)\n",
        "rate = np.array(rate)"
      ],
      "metadata": {
        "id": "nBTWHdfwDhRd"
      },
      "execution_count": 15,
      "outputs": []
    },
    {
      "cell_type": "code",
      "source": [
        "curve_fit, status = calibrate_nss_ols(mat, rate) \n",
        "curve_fit"
      ],
      "metadata": {
        "colab": {
          "base_uri": "https://localhost:8080/"
        },
        "id": "l-Va0kZ5CX0E",
        "outputId": "b7ec0cf0-cc3c-4e55-a1dc-83af5629fc56"
      },
      "execution_count": 16,
      "outputs": [
        {
          "output_type": "execute_result",
          "data": {
            "text/plain": [
              "NelsonSiegelSvenssonCurve(beta0=0.027281114404616363, beta1=-0.0008170676412227167, beta2=0.014071560272008411, beta3=-0.023836160555950073, tau1=2.0, tau2=5.0)"
            ]
          },
          "metadata": {},
          "execution_count": 16
        }
      ]
    },
    {
      "cell_type": "code",
      "source": [
        "df_call['r']= df_call['tau'].apply(curve_fit)\n",
        "df_put['r']= df_put['tau'].apply(curve_fit)\n",
        " # initial asset price VALUES to test the function and possible itial values\n",
        "K = df_put['Strike'].to_numpy('float') # strike\n",
        "\n",
        "tau = df_put['tau']#df_call['tau'] # time to maturity\n",
        "r = df_put['r']"
      ],
      "metadata": {
        "id": "RBiKgRkMETWT"
      },
      "execution_count": 17,
      "outputs": []
    },
    {
      "cell_type": "code",
      "source": [
        "a = heston_price(S0, K, v0, kappa, theta, sigma, rho, lambd, tau, r)"
      ],
      "metadata": {
        "colab": {
          "base_uri": "https://localhost:8080/"
        },
        "id": "10bEM_0X-jXi",
        "outputId": "6acdc96d-ee3e-4d93-8bf2-da1152f69370"
      },
      "execution_count": null,
      "outputs": [
        {
          "output_type": "stream",
          "name": "stderr",
          "text": [
            "<ipython-input-13-7b73f4590402>:5: ComplexWarning:\n",
            "\n",
            "Casting complex values to real discards the imaginary part\n",
            "\n"
          ]
        }
      ]
    },
    {
      "cell_type": "code",
      "source": [
        "a.isna().sum()"
      ],
      "metadata": {
        "colab": {
          "base_uri": "https://localhost:8080/"
        },
        "id": "0jZBelRds33p",
        "outputId": "df207675-b051-4728-c19d-7e4027e0a475"
      },
      "execution_count": null,
      "outputs": [
        {
          "output_type": "execute_result",
          "data": {
            "text/plain": [
              "0"
            ]
          },
          "metadata": {},
          "execution_count": 58
        }
      ]
    },
    {
      "cell_type": "code",
      "source": [
        "a[a<0]"
      ],
      "metadata": {
        "colab": {
          "base_uri": "https://localhost:8080/"
        },
        "id": "pF6Y_wGVCcdD",
        "outputId": "aa1286cd-9c0d-4e3e-ce46-25f5561663fc"
      },
      "execution_count": null,
      "outputs": [
        {
          "output_type": "execute_result",
          "data": {
            "text/plain": [
              "Series([], dtype: float64)"
            ]
          },
          "metadata": {},
          "execution_count": 59
        }
      ]
    },
    {
      "cell_type": "code",
      "source": [
        "iv=df_put['IV']/100"
      ],
      "metadata": {
        "id": "ezRNLhqjmX7i"
      },
      "execution_count": 19,
      "outputs": []
    },
    {
      "cell_type": "code",
      "source": [
        "def heston_ivol(x):\n",
        "  v0, kappa, theta, sigma, rho, lambd = [param for param in x]\n",
        "  P = heston_price(S0, K, v0, kappa, theta, sigma, rho, lambd, tau, r)\n",
        "  impl = py_vollib_vectorized.vectorized_implied_volatility(P, S0, K, tau, r, flag = ['p'], q=0, model='black_scholes',return_as='numpy', on_error='ignore')\n",
        "  diff = iv - impl\n",
        "  return diff\n"
      ],
      "metadata": {
        "id": "mYAumKwOI1tH"
      },
      "execution_count": 18,
      "outputs": []
    },
    {
      "cell_type": "code",
      "source": [
        "b=heston_ivol([v0, kappa, theta, sigma, rho, lambd])"
      ],
      "metadata": {
        "colab": {
          "base_uri": "https://localhost:8080/"
        },
        "id": "G1od14croQuK",
        "outputId": "6f3afda7-cf56-4bdd-8347-fefc977ed0c5"
      },
      "execution_count": null,
      "outputs": [
        {
          "output_type": "stream",
          "name": "stderr",
          "text": [
            "<ipython-input-13-7b73f4590402>:5: ComplexWarning:\n",
            "\n",
            "Casting complex values to real discards the imaginary part\n",
            "\n"
          ]
        }
      ]
    },
    {
      "cell_type": "code",
      "source": [
        "def calibrate_heston(df, S0, x, r):\n",
        "    \n",
        "  K=df['Strike']\n",
        "  tau=df['tau']\n",
        "  iv = df['IV']/100\n",
        "  r=df['r']\n",
        "  S0=S0\n",
        "\n",
        "  #market_ivol = heston_ivol(S0, K, v0, kappa, theta, sigma, rho, lambd, tau, r, iv)\n",
        "  res = least_squares(heston_ivol, x0=np.array(x), verbose=0, max_nfev=100, method='lm')\n",
        "  return res.x"
      ],
      "metadata": {
        "id": "-KkkryRBzniW"
      },
      "execution_count": 25,
      "outputs": []
    },
    {
      "cell_type": "code",
      "source": [
        "#v0, kappa, theta, sigma, rho, lambd\n",
        "v0_dict = {'a': 0.1838, 'b': 0.0400, 'c':0.1500, 'd': 0.0231, 'e':0.0654}\n",
        "kappa_dict = {'a': 6.5482, 'b': 1.1500, 'c': 3.0000, 'd': 1.3784, 'e': 0.6067}\n",
        "theta_dict = {'a': 0.0731, 'b': 0.0400, 'c': 0.0500, 'd': 0.2319, 'e': 0.0707}\n",
        "sigma_dict = {'a': 2.3012, 'b': 0.2000, 'c': 0.5000, 'd':1.0359, 'e': 0.2928}\n",
        "rho_dict = {'a': -0.4176, 'b': -0.4000, 'c': -0.5000, 'd': -0.2051, 'e': -0.7571}\n",
        "lambd_dict = {'a':0, 'b':0, 'c':0, 'd':0, 'e':0}\n"
      ],
      "metadata": {
        "id": "fQnlIzseRAJs"
      },
      "execution_count": 26,
      "outputs": []
    },
    {
      "cell_type": "code",
      "source": [
        "params={}\n",
        "for i in v0_dict.keys():\n",
        "  \n",
        "  params[i]=calibrate_heston(df_put, S0, [v0_dict[i], kappa_dict[i], theta_dict[i], sigma_dict[i], rho_dict[i], lambd_dict[i]], r)"
      ],
      "metadata": {
        "id": "ZTgKJKRN_H5V"
      },
      "execution_count": null,
      "outputs": []
    },
    {
      "cell_type": "code",
      "source": [
        "params['a']"
      ],
      "metadata": {
        "colab": {
          "base_uri": "https://localhost:8080/"
        },
        "id": "OPQCl_ZnABfS",
        "outputId": "fb0c4d8c-51cd-4154-bacf-084cc837e5b8"
      },
      "execution_count": 28,
      "outputs": [
        {
          "output_type": "execute_result",
          "data": {
            "text/plain": [
              "array([4.59415716e-01, 2.21761166e+01, 1.28448769e-03, 1.09321710e-01,\n",
              "       1.37031920e+00, 1.56147632e+01])"
            ]
          },
          "metadata": {},
          "execution_count": 28
        }
      ]
    },
    {
      "cell_type": "code",
      "source": [
        "params['b']"
      ],
      "metadata": {
        "colab": {
          "base_uri": "https://localhost:8080/"
        },
        "id": "RJH_SCwsACIx",
        "outputId": "391dacb4-5bac-47f9-ebc2-341b0e192b78"
      },
      "execution_count": 29,
      "outputs": [
        {
          "output_type": "execute_result",
          "data": {
            "text/plain": [
              "array([ 0.1072635 ,  1.15881954, -0.10824569,  0.14290759, -0.37484974,\n",
              "        0.00789902])"
            ]
          },
          "metadata": {},
          "execution_count": 29
        }
      ]
    },
    {
      "cell_type": "code",
      "source": [
        "params['c']"
      ],
      "metadata": {
        "colab": {
          "base_uri": "https://localhost:8080/"
        },
        "id": "lNzia0fcCsvu",
        "outputId": "cb969db6-3b16-4f9d-e1dd-152caf19df34"
      },
      "execution_count": 30,
      "outputs": [
        {
          "output_type": "execute_result",
          "data": {
            "text/plain": [
              "array([ 0.1205534 ,  3.02506064, -0.04752856,  0.12505951, -0.35316273,\n",
              "        0.02944916])"
            ]
          },
          "metadata": {},
          "execution_count": 30
        }
      ]
    },
    {
      "cell_type": "code",
      "source": [
        "params['d']"
      ],
      "metadata": {
        "colab": {
          "base_uri": "https://localhost:8080/"
        },
        "id": "8-4b8Nl2Cwgq",
        "outputId": "4534a901-6498-4537-a17e-318696ab1bb3"
      },
      "execution_count": 31,
      "outputs": [
        {
          "output_type": "execute_result",
          "data": {
            "text/plain": [
              "array([ 0.10689703,  1.41315015, -0.10502918,  0.07116143,  0.15383682,\n",
              "        0.06715762])"
            ]
          },
          "metadata": {},
          "execution_count": 31
        }
      ]
    },
    {
      "cell_type": "code",
      "source": [
        "params['e']"
      ],
      "metadata": {
        "colab": {
          "base_uri": "https://localhost:8080/"
        },
        "id": "S15m6Y2qCyS5",
        "outputId": "1a8af084-8dd1-4eed-bf0b-9fbc52342c68"
      },
      "execution_count": 32,
      "outputs": [
        {
          "output_type": "execute_result",
          "data": {
            "text/plain": [
              "array([ 0.1614243 , 18.25808615,  0.10135218, -0.62784279, -1.7754437 ,\n",
              "        7.46237681])"
            ]
          },
          "metadata": {},
          "execution_count": 32
        }
      ]
    },
    {
      "cell_type": "code",
      "source": [
        "err = {}\n",
        "for i in params.keys():\n",
        "  err[i]=(heston_ivol(params[i].tolist())**2).sum()/K.shape[0]"
      ],
      "metadata": {
        "id": "hqVlPD4GC1Ax",
        "colab": {
          "base_uri": "https://localhost:8080/"
        },
        "outputId": "a15f66ad-2e53-4579-9908-d8981a5bc5f2"
      },
      "execution_count": 33,
      "outputs": [
        {
          "output_type": "stream",
          "name": "stderr",
          "text": [
            "<ipython-input-12-7b73f4590402>:5: ComplexWarning:\n",
            "\n",
            "Casting complex values to real discards the imaginary part\n",
            "\n"
          ]
        }
      ]
    },
    {
      "cell_type": "code",
      "source": [
        "err"
      ],
      "metadata": {
        "colab": {
          "base_uri": "https://localhost:8080/"
        },
        "id": "TwwvgYVNDsC1",
        "outputId": "bd1ed8f6-0d8f-4a85-e302-4239cacba73b"
      },
      "execution_count": 34,
      "outputs": [
        {
          "output_type": "execute_result",
          "data": {
            "text/plain": [
              "{'a': 0.05017240253212596,\n",
              " 'b': 0.051212116112885286,\n",
              " 'c': 0.05114459095955435,\n",
              " 'd': 0.052959684980672175,\n",
              " 'e': 0.048344266632188895}"
            ]
          },
          "metadata": {},
          "execution_count": 34
        }
      ]
    },
    {
      "cell_type": "code",
      "source": [
        "def calcImpl(x):\n",
        "  v0, kappa, theta, sigma, rho, lambd = [param for param in x]\n",
        "  P = heston_price(S0, K, v0, kappa, theta, sigma, rho, lambd, tau, r)\n",
        "  impl = py_vollib_vectorized.vectorized_implied_volatility(P, S0, K, tau, r, flag = ['p'], q=0, model='black_scholes',return_as='numpy', on_error='ignore')\n",
        "  return impl"
      ],
      "metadata": {
        "id": "4m40d2wCFWIn"
      },
      "execution_count": 20,
      "outputs": []
    },
    {
      "cell_type": "code",
      "source": [
        "df_put['predIV']=calcImpl(params['a'])"
      ],
      "metadata": {
        "id": "wjx5QWbmF0Oi"
      },
      "execution_count": null,
      "outputs": []
    },
    {
      "cell_type": "code",
      "source": [
        "import plotly.graph_objects as go\n",
        "from plotly.graph_objs import Surface\n",
        "\n",
        "fig = go.Figure(data=[go.Mesh3d(x=df_put['tau'], y=df_put['Strike'], z=df_put['IV']/100, color='mediumblue', opacity=0.55)])\n",
        "fig.add_scatter3d(x=df_put['tau'], y=df_put['Strike'], z=df_put['predIV'], mode='markers')\n",
        "fig.update_layout(\n",
        "    title_text='Market Prices (Mesh) vs Calibrated Heston Prices (Markers)',\n",
        "    scene = dict(xaxis_title='TIME (Years)',\n",
        "                    yaxis_title='STRIKES (Pts)',\n",
        "                    zaxis_title='INDEX OPTION PRICE (Pts)'),\n",
        "    height=800,\n",
        "    width=800\n",
        ")\n",
        "fig.show()"
      ],
      "metadata": {
        "colab": {
          "base_uri": "https://localhost:8080/",
          "height": 838
        },
        "id": "JSzPam9BDvnf",
        "outputId": "09bb7da4-8381-482f-b69e-4044bd6b84ca"
      },
      "execution_count": 39,
      "outputs": [
        {
          "output_type": "display_data",
          "data": {
            "text/html": [
              "<html>\n",
              "<head><meta charset=\"utf-8\" /></head>\n",
              "<body>\n",
              "    <div>            <script src=\"https://cdnjs.cloudflare.com/ajax/libs/mathjax/2.7.5/MathJax.js?config=TeX-AMS-MML_SVG\"></script><script type=\"text/javascript\">if (window.MathJax) {MathJax.Hub.Config({SVG: {font: \"STIX-Web\"}});}</script>                <script type=\"text/javascript\">window.PlotlyConfig = {MathJaxConfig: 'local'};</script>\n",
              "        <script src=\"https://cdn.plot.ly/plotly-2.8.3.min.js\"></script>                <div id=\"1094abeb-3010-4c7d-b60f-f703bc93ea79\" class=\"plotly-graph-div\" style=\"height:800px; width:800px;\"></div>            <script type=\"text/javascript\">                                    window.PLOTLYENV=window.PLOTLYENV || {};                                    if (document.getElementById(\"1094abeb-3010-4c7d-b60f-f703bc93ea79\")) {                    Plotly.newPlot(                        \"1094abeb-3010-4c7d-b60f-f703bc93ea79\",                        [{\"color\":\"mediumblue\",\"opacity\":0.55,\"x\":[0.11506849315068493,0.11506849315068493,0.11506849315068493,0.11506849315068493,0.11506849315068493,0.11506849315068493,0.11506849315068493,0.11506849315068493,0.11506849315068493,0.11506849315068493,0.11506849315068493,0.11506849315068493,0.11506849315068493,0.11506849315068493,0.11506849315068493,0.11506849315068493,0.11506849315068493,0.11506849315068493,0.11506849315068493,0.11506849315068493,0.11506849315068493,0.11506849315068493,0.11506849315068493,0.11506849315068493,0.11506849315068493,0.11506849315068493,0.11506849315068493,0.11506849315068493,0.11506849315068493,0.11506849315068493,0.11506849315068493,0.11506849315068493,0.11506849315068493,0.11506849315068493,0.11506849315068493,0.11506849315068493,0.11506849315068493,0.11506849315068493,0.11506849315068493,0.11506849315068493,0.11506849315068493,0.11506849315068493,0.11506849315068493,0.11506849315068493,0.11506849315068493,0.11506849315068493,0.11506849315068493,0.11506849315068493,0.11506849315068493,0.11506849315068493,0.11506849315068493,0.11506849315068493,0.11506849315068493,0.11506849315068493,0.11506849315068493,0.11506849315068493,0.11506849315068493,0.11506849315068493,0.11506849315068493,0.11506849315068493,0.11506849315068493,0.11506849315068493,0.11506849315068493,0.11506849315068493,0.11506849315068493,0.11506849315068493,0.11506849315068493,0.11506849315068493,0.11506849315068493,0.11506849315068493,0.11506849315068493,0.11506849315068493,0.11506849315068493,0.11506849315068493,0.11506849315068493,0.11506849315068493,0.11506849315068493,0.11506849315068493,0.11506849315068493,0.11506849315068493,0.11506849315068493,0.11506849315068493,0.11506849315068493,0.11506849315068493,0.11506849315068493,0.11506849315068493,0.11506849315068493,0.11506849315068493,0.11506849315068493,0.11506849315068493,0.11506849315068493,0.11506849315068493,0.11506849315068493,0.11506849315068493,0.11506849315068493,0.11506849315068493,0.11506849315068493,0.11506849315068493,0.11506849315068493,0.11506849315068493,0.11506849315068493,0.11506849315068493,0.11506849315068493,0.11506849315068493,0.11506849315068493,0.11506849315068493,0.11506849315068493,0.11506849315068493,0.11506849315068493,0.11506849315068493,0.11506849315068493,0.11506849315068493,0.11506849315068493,0.11506849315068493,0.11506849315068493,0.11506849315068493,0.11506849315068493,0.11506849315068493,0.11506849315068493,0.11506849315068493,0.11506849315068493,0.11506849315068493,0.11506849315068493,0.11506849315068493,0.11506849315068493,0.11506849315068493,0.11506849315068493,0.11506849315068493,0.11506849315068493,0.11506849315068493,0.11506849315068493,0.11506849315068493,0.11506849315068493,0.11506849315068493,0.11506849315068493,0.11506849315068493,0.11506849315068493,0.11506849315068493,0.11506849315068493,0.11506849315068493,0.11506849315068493,0.11506849315068493,0.21095890410958903,0.21095890410958903,0.21095890410958903,0.21095890410958903,0.21095890410958903,0.21095890410958903,0.21095890410958903,0.21095890410958903,0.21095890410958903,0.21095890410958903,0.3643835616438356,0.3643835616438356,0.3643835616438356,0.3643835616438356,0.3643835616438356,0.3643835616438356,0.3643835616438356,0.3643835616438356,0.3643835616438356,0.3643835616438356,0.6328767123287671,0.6328767123287671,0.6328767123287671,0.6328767123287671,0.6328767123287671,0.6328767123287671,0.6328767123287671,0.6328767123287671,0.6328767123287671,0.6328767123287671,0.8821917808219178,0.8821917808219178,0.8821917808219178,0.8821917808219178,0.8821917808219178,0.8821917808219178,0.8821917808219178,0.8821917808219178,0.8821917808219178,0.8821917808219178],\"y\":[\"4500\",\"5000\",\"5500\",\"6000\",\"6500\",\"7000\",\"7200\",\"7400\",\"7600\",\"7800\",\"8000\",\"8200\",\"8400\",\"8600\",\"8800\",\"9000\",\"9200\",\"9400\",\"9600\",\"9800\",\"10000\",\"10200\",\"10400\",\"10600\",\"10800\",\"10900\",\"11000\",\"11100\",\"11200\",\"11300\",\"11400\",\"11500\",\"11600\",\"11700\",\"11800\",\"11900\",\"12000\",\"12100\",\"12200\",\"12300\",\"12400\",\"12500\",\"12600\",\"12650\",\"12700\",\"12750\",\"12800\",\"12850\",\"12900\",\"12950\",\"13000\",\"13050\",\"13100\",\"13150\",\"13200\",\"13250\",\"13300\",\"13350\",\"13400\",\"13450\",\"13500\",\"13550\",\"13600\",\"13650\",\"13700\",\"13750\",\"13800\",\"13850\",\"13900\",\"13950\",\"14000\",\"14050\",\"14100\",\"14150\",\"14200\",\"14250\",\"14300\",\"14350\",\"14400\",\"14450\",\"14500\",\"14550\",\"14600\",\"14650\",\"14700\",\"14750\",\"14800\",\"14850\",\"14900\",\"14950\",\"15000\",\"15050\",\"15100\",\"15150\",\"15200\",\"15250\",\"15300\",\"15350\",\"15400\",\"15450\",\"15500\",\"15550\",\"15600\",\"15650\",\"15700\",\"15750\",\"15800\",\"15850\",\"15900\",\"15950\",\"16000\",\"16050\",\"16100\",\"16150\",\"16200\",\"16250\",\"16300\",\"16350\",\"16400\",\"16450\",\"16500\",\"16600\",\"16700\",\"16800\",\"16900\",\"17000\",\"17100\",\"17200\",\"17400\",\"17500\",\"17600\",\"17800\",\"18000\",\"18200\",\"18400\",\"18500\",\"18600\",\"19000\",\"19500\",\"20000\",\"21000\",\"22000\",\"15450\",\"15500\",\"15550\",\"15600\",\"15650\",\"15700\",\"15750\",\"15800\",\"15850\",\"15900\",\"15200\",\"15300\",\"15400\",\"15500\",\"15600\",\"15700\",\"15800\",\"15900\",\"16000\",\"16100\",\"15300\",\"15400\",\"15500\",\"15600\",\"15700\",\"15800\",\"15900\",\"16000\",\"16100\",\"16200\",\"15500\",\"15600\",\"15700\",\"15800\",\"15900\",\"16000\",\"16100\",\"16200\",\"16400\",\"16500\"],\"z\":[1.0070999999999999,0.9233,0.8477,0.7786,0.7151000000000001,0.6564,0.634,0.6123,0.5911,0.5704,0.5503,0.5564,0.5364,0.5324,0.5335,0.5213,0.5139,0.5038,0.49219999999999997,0.4825,0.47119999999999995,0.4608,0.4489,0.436,0.42369999999999997,0.4178,0.41159999999999997,0.4052,0.3995,0.3936,0.3873,0.38079999999999997,0.3741,0.3679,0.36210000000000003,0.3553,0.3489,0.3423,0.33590000000000003,0.3292,0.3224,0.3161,0.3091,0.3059,0.30260000000000004,0.2992,0.2958,0.2923,0.289,0.2857,0.2826,0.2793,0.276,0.2729,0.2696,0.26649999999999996,0.2633,0.2602,0.25730000000000003,0.25429999999999997,0.25129999999999997,0.2483,0.24539999999999998,0.2425,0.2396,0.23670000000000002,0.23379999999999998,0.231,0.2281,0.22519999999999998,0.2224,0.2195,0.21660000000000001,0.2138,0.2109,0.20800000000000002,0.2051,0.2023,0.19949999999999998,0.1966,0.1938,0.191,0.1881,0.18539999999999998,0.1826,0.17989999999999998,0.1772,0.1745,0.17190000000000003,0.16920000000000002,0.1666,0.16399999999999998,0.16140000000000002,0.1589,0.1564,0.154,0.1516,0.1493,0.147,0.1447,0.1424,0.1402,0.1381,0.1361,0.1343,0.1325,0.1309,0.1293,0.12789999999999999,0.1266,0.12560000000000002,0.1246,0.12390000000000001,0.1234,0.12300000000000001,0.12279999999999999,0.1229,0.1231,0.12359999999999999,0.1243,0.1251,0.1273,0.1301,0.133,0.1367,0.1411,0.1458,0.15109999999999998,0.1635,0.17,0.1769,0.19140000000000001,0.20600000000000002,0.22089999999999999,0.2357,0.243,0.2503,0.27940000000000004,0.31489999999999996,0.35,0.4171,0.48109999999999997,0.17010000000000003,0.16879999999999998,0.16760000000000003,0.1666,0.1656,0.1648,0.1641,0.1635,0.163,0.16260000000000002,0.1718,0.1684,0.16510000000000002,0.1617,0.1586,0.1555,0.15259999999999999,0.14980000000000002,0.147,0.14429999999999998,0.17679999999999998,0.1743,0.1718,0.1693,0.16690000000000002,0.16449999999999998,0.162,0.15960000000000002,0.1573,0.155,0.1794,0.1773,0.1752,0.17300000000000001,0.171,0.1689,0.16690000000000002,0.1649,0.1612,0.1594],\"type\":\"mesh3d\"},{\"mode\":\"markers\",\"x\":[0.11506849315068493,0.11506849315068493,0.11506849315068493,0.11506849315068493,0.11506849315068493,0.11506849315068493,0.11506849315068493,0.11506849315068493,0.11506849315068493,0.11506849315068493,0.11506849315068493,0.11506849315068493,0.11506849315068493,0.11506849315068493,0.11506849315068493,0.11506849315068493,0.11506849315068493,0.11506849315068493,0.11506849315068493,0.11506849315068493,0.11506849315068493,0.11506849315068493,0.11506849315068493,0.11506849315068493,0.11506849315068493,0.11506849315068493,0.11506849315068493,0.11506849315068493,0.11506849315068493,0.11506849315068493,0.11506849315068493,0.11506849315068493,0.11506849315068493,0.11506849315068493,0.11506849315068493,0.11506849315068493,0.11506849315068493,0.11506849315068493,0.11506849315068493,0.11506849315068493,0.11506849315068493,0.11506849315068493,0.11506849315068493,0.11506849315068493,0.11506849315068493,0.11506849315068493,0.11506849315068493,0.11506849315068493,0.11506849315068493,0.11506849315068493,0.11506849315068493,0.11506849315068493,0.11506849315068493,0.11506849315068493,0.11506849315068493,0.11506849315068493,0.11506849315068493,0.11506849315068493,0.11506849315068493,0.11506849315068493,0.11506849315068493,0.11506849315068493,0.11506849315068493,0.11506849315068493,0.11506849315068493,0.11506849315068493,0.11506849315068493,0.11506849315068493,0.11506849315068493,0.11506849315068493,0.11506849315068493,0.11506849315068493,0.11506849315068493,0.11506849315068493,0.11506849315068493,0.11506849315068493,0.11506849315068493,0.11506849315068493,0.11506849315068493,0.11506849315068493,0.11506849315068493,0.11506849315068493,0.11506849315068493,0.11506849315068493,0.11506849315068493,0.11506849315068493,0.11506849315068493,0.11506849315068493,0.11506849315068493,0.11506849315068493,0.11506849315068493,0.11506849315068493,0.11506849315068493,0.11506849315068493,0.11506849315068493,0.11506849315068493,0.11506849315068493,0.11506849315068493,0.11506849315068493,0.11506849315068493,0.11506849315068493,0.11506849315068493,0.11506849315068493,0.11506849315068493,0.11506849315068493,0.11506849315068493,0.11506849315068493,0.11506849315068493,0.11506849315068493,0.11506849315068493,0.11506849315068493,0.11506849315068493,0.11506849315068493,0.11506849315068493,0.11506849315068493,0.11506849315068493,0.11506849315068493,0.11506849315068493,0.11506849315068493,0.11506849315068493,0.11506849315068493,0.11506849315068493,0.11506849315068493,0.11506849315068493,0.11506849315068493,0.11506849315068493,0.11506849315068493,0.11506849315068493,0.11506849315068493,0.11506849315068493,0.11506849315068493,0.11506849315068493,0.11506849315068493,0.11506849315068493,0.11506849315068493,0.11506849315068493,0.11506849315068493,0.11506849315068493,0.11506849315068493,0.11506849315068493,0.11506849315068493,0.11506849315068493,0.21095890410958903,0.21095890410958903,0.21095890410958903,0.21095890410958903,0.21095890410958903,0.21095890410958903,0.21095890410958903,0.21095890410958903,0.21095890410958903,0.21095890410958903,0.3643835616438356,0.3643835616438356,0.3643835616438356,0.3643835616438356,0.3643835616438356,0.3643835616438356,0.3643835616438356,0.3643835616438356,0.3643835616438356,0.3643835616438356,0.6328767123287671,0.6328767123287671,0.6328767123287671,0.6328767123287671,0.6328767123287671,0.6328767123287671,0.6328767123287671,0.6328767123287671,0.6328767123287671,0.6328767123287671,0.8821917808219178,0.8821917808219178,0.8821917808219178,0.8821917808219178,0.8821917808219178,0.8821917808219178,0.8821917808219178,0.8821917808219178,0.8821917808219178,0.8821917808219178],\"y\":[\"4500\",\"5000\",\"5500\",\"6000\",\"6500\",\"7000\",\"7200\",\"7400\",\"7600\",\"7800\",\"8000\",\"8200\",\"8400\",\"8600\",\"8800\",\"9000\",\"9200\",\"9400\",\"9600\",\"9800\",\"10000\",\"10200\",\"10400\",\"10600\",\"10800\",\"10900\",\"11000\",\"11100\",\"11200\",\"11300\",\"11400\",\"11500\",\"11600\",\"11700\",\"11800\",\"11900\",\"12000\",\"12100\",\"12200\",\"12300\",\"12400\",\"12500\",\"12600\",\"12650\",\"12700\",\"12750\",\"12800\",\"12850\",\"12900\",\"12950\",\"13000\",\"13050\",\"13100\",\"13150\",\"13200\",\"13250\",\"13300\",\"13350\",\"13400\",\"13450\",\"13500\",\"13550\",\"13600\",\"13650\",\"13700\",\"13750\",\"13800\",\"13850\",\"13900\",\"13950\",\"14000\",\"14050\",\"14100\",\"14150\",\"14200\",\"14250\",\"14300\",\"14350\",\"14400\",\"14450\",\"14500\",\"14550\",\"14600\",\"14650\",\"14700\",\"14750\",\"14800\",\"14850\",\"14900\",\"14950\",\"15000\",\"15050\",\"15100\",\"15150\",\"15200\",\"15250\",\"15300\",\"15350\",\"15400\",\"15450\",\"15500\",\"15550\",\"15600\",\"15650\",\"15700\",\"15750\",\"15800\",\"15850\",\"15900\",\"15950\",\"16000\",\"16050\",\"16100\",\"16150\",\"16200\",\"16250\",\"16300\",\"16350\",\"16400\",\"16450\",\"16500\",\"16600\",\"16700\",\"16800\",\"16900\",\"17000\",\"17100\",\"17200\",\"17400\",\"17500\",\"17600\",\"17800\",\"18000\",\"18200\",\"18400\",\"18500\",\"18600\",\"19000\",\"19500\",\"20000\",\"21000\",\"22000\",\"15450\",\"15500\",\"15550\",\"15600\",\"15650\",\"15700\",\"15750\",\"15800\",\"15850\",\"15900\",\"15200\",\"15300\",\"15400\",\"15500\",\"15600\",\"15700\",\"15800\",\"15900\",\"16000\",\"16100\",\"15300\",\"15400\",\"15500\",\"15600\",\"15700\",\"15800\",\"15900\",\"16000\",\"16100\",\"16200\",\"15500\",\"15600\",\"15700\",\"15800\",\"15900\",\"16000\",\"16100\",\"16200\",\"16400\",\"16500\"],\"z\":[1.131626065599971,2.2894724108998945,1.5196648260294237,1.3298826114860558,1.3320683925269352,1.2319113276394515,1.1892162710263263,1.1486077430651949,1.1100903445148662,1.0732382013021415,1.0376446364479048,1.0030449329884827,0.9692962359734473,0.9363265139476107,0.9040952660667707,0.8725723429221321,0.8417293905273633,0.8115376645672642,0.7819682374965123,0.7529927370130891,0.7245840194505966,0.6967167814940141,0.6693683658601083,0.6425201386413486,0.6161599030169104,0.6031616677599572,0.5902858708567761,0.5775349027263224,0.5649126855588755,0.5524249897651424,0.5400797797944918,0.5278875782822572,0.5158618313920221,0.5040192508365852,0.4923800995739705,0.48096837910978,0.46981186777925094,0.45894195316853265,0.4483932006902153,0.43820260774134423,0.428408512516273,0.419049161046351,0.4101609851052277,0.4059040102779117,0.4017767020640378,0.3977822556859086,0.3939234044547087,0.39020237425513526,0.3866208460759562,0.3831799278907766,0.3798801368693951,0.3767213925132673,0.3737030208824222,0.3708237696451393,0.36808183326476107,0.3654748872686384,0.3630001302446456,0.3606543319976613,0.3584338861789989,0.3563348656763824,0.35435307911179403,0.35248412692724135,0.35072345572548996,0.3490664097562614,0.34750827867946193,0.34604434097899367,0.34466990263065933,0.34338033083470654,0.3421710828019101,0.3410377297280691,0.33997597620473907,0.33898167539616186,0.3380508403657036,0.33717965196459365,0.33636446370492334,0.3356018040322356,0.3348883763948327,0.3342210574801471,0.33359689395682113,0.33301309802645473,0.33246704205360283,0.3319562525077203,0.33147840341769264,0.33103130950858545,0.33061291916233126,0.33022130731872784,0.32985466841101546,0.3295113094108504,0.329189643040863,0.3288881811987971,0.32860552862527115,0.328340376837268,0.3280914983412653,0.3278577411332769,0.3276380234877064,0.32743132903267,0.327236702106191,0.32705324338512615,0.3268801057768328,0.3267164905623097,0.3265616437785625,0.3264148528275544,0.32627544329869546,0.32614277599189556,0.32601624412829505,0.32589527073604074,0.3257793061988299,0.3256678259553762,0.3255603283383812,0.325456332542108,0.32535537670808096,0.325257016119043,0.3251608214916272,0.3250663773587881,0.32497328053338326,0.324881138644779,0.32478956874064363,0.3246981959465184,0.3246066521759946,0.3245145748846277,0.3244216058609607,0.3242315743899226,0.3240337345114411,0.32382525887129315,0.3236032801260342,0.32336485462540965,0.3231069248235295,0.32282627950746373,0.322182966903011,0.3218126987330335,0.3214043994810723,0.3204542574177323,0.319287923173498,0.31784892534616405,0.3160635989526341,0.3150113592899234,0.31383262757787556,0.3074114226155201,0.29220132731554915,0.2380887535598481,0.0,0.0,0.2463682881461471,0.24605708496374834,0.24575751217192576,0.24546868447985432,0.24518975896119657,0.24491993209157256,0.24465843691145087,0.244404540311938,0.2441575404397242,0.2439167642164987,0.19526328920541838,0.19408766578654266,0.19299727777145773,0.1919818438505677,0.19103189686190686,0.19013871699345827,0.18929425964356222,0.18849108089765096,0.18772226263391,0.18698133850161236,0.1564052344998533,0.15476763587494824,0.1532331076922005,0.1517910224521682,0.1504311869316582,0.14914386601689258,0.14791978494520394,0.1467501136910024,0.14562643676312687,0.14454071107998417,0.1358191380601427,0.13402148289769142,0.13234816722346615,0.1307867908900721,0.12932506124784554,0.12795090964576655,0.1266525652515263,0.12541859127539154,0.123099673058324,0.12199342574510383],\"type\":\"scatter3d\"}],                        {\"template\":{\"data\":{\"bar\":[{\"error_x\":{\"color\":\"#2a3f5f\"},\"error_y\":{\"color\":\"#2a3f5f\"},\"marker\":{\"line\":{\"color\":\"#E5ECF6\",\"width\":0.5},\"pattern\":{\"fillmode\":\"overlay\",\"size\":10,\"solidity\":0.2}},\"type\":\"bar\"}],\"barpolar\":[{\"marker\":{\"line\":{\"color\":\"#E5ECF6\",\"width\":0.5},\"pattern\":{\"fillmode\":\"overlay\",\"size\":10,\"solidity\":0.2}},\"type\":\"barpolar\"}],\"carpet\":[{\"aaxis\":{\"endlinecolor\":\"#2a3f5f\",\"gridcolor\":\"white\",\"linecolor\":\"white\",\"minorgridcolor\":\"white\",\"startlinecolor\":\"#2a3f5f\"},\"baxis\":{\"endlinecolor\":\"#2a3f5f\",\"gridcolor\":\"white\",\"linecolor\":\"white\",\"minorgridcolor\":\"white\",\"startlinecolor\":\"#2a3f5f\"},\"type\":\"carpet\"}],\"choropleth\":[{\"colorbar\":{\"outlinewidth\":0,\"ticks\":\"\"},\"type\":\"choropleth\"}],\"contour\":[{\"colorbar\":{\"outlinewidth\":0,\"ticks\":\"\"},\"colorscale\":[[0.0,\"#0d0887\"],[0.1111111111111111,\"#46039f\"],[0.2222222222222222,\"#7201a8\"],[0.3333333333333333,\"#9c179e\"],[0.4444444444444444,\"#bd3786\"],[0.5555555555555556,\"#d8576b\"],[0.6666666666666666,\"#ed7953\"],[0.7777777777777778,\"#fb9f3a\"],[0.8888888888888888,\"#fdca26\"],[1.0,\"#f0f921\"]],\"type\":\"contour\"}],\"contourcarpet\":[{\"colorbar\":{\"outlinewidth\":0,\"ticks\":\"\"},\"type\":\"contourcarpet\"}],\"heatmap\":[{\"colorbar\":{\"outlinewidth\":0,\"ticks\":\"\"},\"colorscale\":[[0.0,\"#0d0887\"],[0.1111111111111111,\"#46039f\"],[0.2222222222222222,\"#7201a8\"],[0.3333333333333333,\"#9c179e\"],[0.4444444444444444,\"#bd3786\"],[0.5555555555555556,\"#d8576b\"],[0.6666666666666666,\"#ed7953\"],[0.7777777777777778,\"#fb9f3a\"],[0.8888888888888888,\"#fdca26\"],[1.0,\"#f0f921\"]],\"type\":\"heatmap\"}],\"heatmapgl\":[{\"colorbar\":{\"outlinewidth\":0,\"ticks\":\"\"},\"colorscale\":[[0.0,\"#0d0887\"],[0.1111111111111111,\"#46039f\"],[0.2222222222222222,\"#7201a8\"],[0.3333333333333333,\"#9c179e\"],[0.4444444444444444,\"#bd3786\"],[0.5555555555555556,\"#d8576b\"],[0.6666666666666666,\"#ed7953\"],[0.7777777777777778,\"#fb9f3a\"],[0.8888888888888888,\"#fdca26\"],[1.0,\"#f0f921\"]],\"type\":\"heatmapgl\"}],\"histogram\":[{\"marker\":{\"pattern\":{\"fillmode\":\"overlay\",\"size\":10,\"solidity\":0.2}},\"type\":\"histogram\"}],\"histogram2d\":[{\"colorbar\":{\"outlinewidth\":0,\"ticks\":\"\"},\"colorscale\":[[0.0,\"#0d0887\"],[0.1111111111111111,\"#46039f\"],[0.2222222222222222,\"#7201a8\"],[0.3333333333333333,\"#9c179e\"],[0.4444444444444444,\"#bd3786\"],[0.5555555555555556,\"#d8576b\"],[0.6666666666666666,\"#ed7953\"],[0.7777777777777778,\"#fb9f3a\"],[0.8888888888888888,\"#fdca26\"],[1.0,\"#f0f921\"]],\"type\":\"histogram2d\"}],\"histogram2dcontour\":[{\"colorbar\":{\"outlinewidth\":0,\"ticks\":\"\"},\"colorscale\":[[0.0,\"#0d0887\"],[0.1111111111111111,\"#46039f\"],[0.2222222222222222,\"#7201a8\"],[0.3333333333333333,\"#9c179e\"],[0.4444444444444444,\"#bd3786\"],[0.5555555555555556,\"#d8576b\"],[0.6666666666666666,\"#ed7953\"],[0.7777777777777778,\"#fb9f3a\"],[0.8888888888888888,\"#fdca26\"],[1.0,\"#f0f921\"]],\"type\":\"histogram2dcontour\"}],\"mesh3d\":[{\"colorbar\":{\"outlinewidth\":0,\"ticks\":\"\"},\"type\":\"mesh3d\"}],\"parcoords\":[{\"line\":{\"colorbar\":{\"outlinewidth\":0,\"ticks\":\"\"}},\"type\":\"parcoords\"}],\"pie\":[{\"automargin\":true,\"type\":\"pie\"}],\"scatter\":[{\"marker\":{\"colorbar\":{\"outlinewidth\":0,\"ticks\":\"\"}},\"type\":\"scatter\"}],\"scatter3d\":[{\"line\":{\"colorbar\":{\"outlinewidth\":0,\"ticks\":\"\"}},\"marker\":{\"colorbar\":{\"outlinewidth\":0,\"ticks\":\"\"}},\"type\":\"scatter3d\"}],\"scattercarpet\":[{\"marker\":{\"colorbar\":{\"outlinewidth\":0,\"ticks\":\"\"}},\"type\":\"scattercarpet\"}],\"scattergeo\":[{\"marker\":{\"colorbar\":{\"outlinewidth\":0,\"ticks\":\"\"}},\"type\":\"scattergeo\"}],\"scattergl\":[{\"marker\":{\"colorbar\":{\"outlinewidth\":0,\"ticks\":\"\"}},\"type\":\"scattergl\"}],\"scattermapbox\":[{\"marker\":{\"colorbar\":{\"outlinewidth\":0,\"ticks\":\"\"}},\"type\":\"scattermapbox\"}],\"scatterpolar\":[{\"marker\":{\"colorbar\":{\"outlinewidth\":0,\"ticks\":\"\"}},\"type\":\"scatterpolar\"}],\"scatterpolargl\":[{\"marker\":{\"colorbar\":{\"outlinewidth\":0,\"ticks\":\"\"}},\"type\":\"scatterpolargl\"}],\"scatterternary\":[{\"marker\":{\"colorbar\":{\"outlinewidth\":0,\"ticks\":\"\"}},\"type\":\"scatterternary\"}],\"surface\":[{\"colorbar\":{\"outlinewidth\":0,\"ticks\":\"\"},\"colorscale\":[[0.0,\"#0d0887\"],[0.1111111111111111,\"#46039f\"],[0.2222222222222222,\"#7201a8\"],[0.3333333333333333,\"#9c179e\"],[0.4444444444444444,\"#bd3786\"],[0.5555555555555556,\"#d8576b\"],[0.6666666666666666,\"#ed7953\"],[0.7777777777777778,\"#fb9f3a\"],[0.8888888888888888,\"#fdca26\"],[1.0,\"#f0f921\"]],\"type\":\"surface\"}],\"table\":[{\"cells\":{\"fill\":{\"color\":\"#EBF0F8\"},\"line\":{\"color\":\"white\"}},\"header\":{\"fill\":{\"color\":\"#C8D4E3\"},\"line\":{\"color\":\"white\"}},\"type\":\"table\"}]},\"layout\":{\"annotationdefaults\":{\"arrowcolor\":\"#2a3f5f\",\"arrowhead\":0,\"arrowwidth\":1},\"autotypenumbers\":\"strict\",\"coloraxis\":{\"colorbar\":{\"outlinewidth\":0,\"ticks\":\"\"}},\"colorscale\":{\"diverging\":[[0,\"#8e0152\"],[0.1,\"#c51b7d\"],[0.2,\"#de77ae\"],[0.3,\"#f1b6da\"],[0.4,\"#fde0ef\"],[0.5,\"#f7f7f7\"],[0.6,\"#e6f5d0\"],[0.7,\"#b8e186\"],[0.8,\"#7fbc41\"],[0.9,\"#4d9221\"],[1,\"#276419\"]],\"sequential\":[[0.0,\"#0d0887\"],[0.1111111111111111,\"#46039f\"],[0.2222222222222222,\"#7201a8\"],[0.3333333333333333,\"#9c179e\"],[0.4444444444444444,\"#bd3786\"],[0.5555555555555556,\"#d8576b\"],[0.6666666666666666,\"#ed7953\"],[0.7777777777777778,\"#fb9f3a\"],[0.8888888888888888,\"#fdca26\"],[1.0,\"#f0f921\"]],\"sequentialminus\":[[0.0,\"#0d0887\"],[0.1111111111111111,\"#46039f\"],[0.2222222222222222,\"#7201a8\"],[0.3333333333333333,\"#9c179e\"],[0.4444444444444444,\"#bd3786\"],[0.5555555555555556,\"#d8576b\"],[0.6666666666666666,\"#ed7953\"],[0.7777777777777778,\"#fb9f3a\"],[0.8888888888888888,\"#fdca26\"],[1.0,\"#f0f921\"]]},\"colorway\":[\"#636efa\",\"#EF553B\",\"#00cc96\",\"#ab63fa\",\"#FFA15A\",\"#19d3f3\",\"#FF6692\",\"#B6E880\",\"#FF97FF\",\"#FECB52\"],\"font\":{\"color\":\"#2a3f5f\"},\"geo\":{\"bgcolor\":\"white\",\"lakecolor\":\"white\",\"landcolor\":\"#E5ECF6\",\"showlakes\":true,\"showland\":true,\"subunitcolor\":\"white\"},\"hoverlabel\":{\"align\":\"left\"},\"hovermode\":\"closest\",\"mapbox\":{\"style\":\"light\"},\"paper_bgcolor\":\"white\",\"plot_bgcolor\":\"#E5ECF6\",\"polar\":{\"angularaxis\":{\"gridcolor\":\"white\",\"linecolor\":\"white\",\"ticks\":\"\"},\"bgcolor\":\"#E5ECF6\",\"radialaxis\":{\"gridcolor\":\"white\",\"linecolor\":\"white\",\"ticks\":\"\"}},\"scene\":{\"xaxis\":{\"backgroundcolor\":\"#E5ECF6\",\"gridcolor\":\"white\",\"gridwidth\":2,\"linecolor\":\"white\",\"showbackground\":true,\"ticks\":\"\",\"zerolinecolor\":\"white\"},\"yaxis\":{\"backgroundcolor\":\"#E5ECF6\",\"gridcolor\":\"white\",\"gridwidth\":2,\"linecolor\":\"white\",\"showbackground\":true,\"ticks\":\"\",\"zerolinecolor\":\"white\"},\"zaxis\":{\"backgroundcolor\":\"#E5ECF6\",\"gridcolor\":\"white\",\"gridwidth\":2,\"linecolor\":\"white\",\"showbackground\":true,\"ticks\":\"\",\"zerolinecolor\":\"white\"}},\"shapedefaults\":{\"line\":{\"color\":\"#2a3f5f\"}},\"ternary\":{\"aaxis\":{\"gridcolor\":\"white\",\"linecolor\":\"white\",\"ticks\":\"\"},\"baxis\":{\"gridcolor\":\"white\",\"linecolor\":\"white\",\"ticks\":\"\"},\"bgcolor\":\"#E5ECF6\",\"caxis\":{\"gridcolor\":\"white\",\"linecolor\":\"white\",\"ticks\":\"\"}},\"title\":{\"x\":0.05},\"xaxis\":{\"automargin\":true,\"gridcolor\":\"white\",\"linecolor\":\"white\",\"ticks\":\"\",\"title\":{\"standoff\":15},\"zerolinecolor\":\"white\",\"zerolinewidth\":2},\"yaxis\":{\"automargin\":true,\"gridcolor\":\"white\",\"linecolor\":\"white\",\"ticks\":\"\",\"title\":{\"standoff\":15},\"zerolinecolor\":\"white\",\"zerolinewidth\":2}}},\"title\":{\"text\":\"Market Prices (Mesh) vs Calibrated Heston Prices (Markers)\"},\"scene\":{\"xaxis\":{\"title\":{\"text\":\"TIME (Years)\"}},\"yaxis\":{\"title\":{\"text\":\"STRIKES (Pts)\"}},\"zaxis\":{\"title\":{\"text\":\"INDEX OPTION PRICE (Pts)\"}}},\"height\":800,\"width\":800},                        {\"responsive\": true}                    ).then(function(){\n",
              "                            \n",
              "var gd = document.getElementById('1094abeb-3010-4c7d-b60f-f703bc93ea79');\n",
              "var x = new MutationObserver(function (mutations, observer) {{\n",
              "        var display = window.getComputedStyle(gd).display;\n",
              "        if (!display || display === 'none') {{\n",
              "            console.log([gd, 'removed!']);\n",
              "            Plotly.purge(gd);\n",
              "            observer.disconnect();\n",
              "        }}\n",
              "}});\n",
              "\n",
              "// Listen for the removal of the full notebook cells\n",
              "var notebookContainer = gd.closest('#notebook-container');\n",
              "if (notebookContainer) {{\n",
              "    x.observe(notebookContainer, {childList: true});\n",
              "}}\n",
              "\n",
              "// Listen for the clearing of the current output cell\n",
              "var outputEl = gd.closest('.output');\n",
              "if (outputEl) {{\n",
              "    x.observe(outputEl, {childList: true});\n",
              "}}\n",
              "\n",
              "                        })                };                            </script>        </div>\n",
              "</body>\n",
              "</html>"
            ]
          },
          "metadata": {}
        }
      ]
    },
    {
      "cell_type": "code",
      "source": [
        "def calibrate_heston(df, S0, x, r):\n",
        "    \n",
        "  K=df['Strike']\n",
        "  tau=df['tau']\n",
        "  iv = df['IV']/100\n",
        "  r=df['r']\n",
        "  S0=S0\n",
        "\n",
        "  #market_ivol = heston_ivol(S0, K, v0, kappa, theta, sigma, rho, lambd, tau, r, iv)\n",
        "  res = least_squares(heston_ivol, x0=np.array(x), verbose=0, max_nfev=100, method='trf',\n",
        "                      bounds=([0, 1e-3, 1e-3, 1e-2, -1, -1], [np.inf, np.inf, np.inf, np.inf, 0, np.inf]))\n",
        "  return res.x"
      ],
      "metadata": {
        "id": "Nv-6ZQfTzEEg"
      },
      "execution_count": 40,
      "outputs": []
    },
    {
      "cell_type": "code",
      "source": [
        "params_trf={}\n",
        "for i in v0_dict.keys():\n",
        "  try:\n",
        "    params_trf[i]=calibrate_heston(df_put, S0, [v0_dict[i], kappa_dict[i], theta_dict[i], sigma_dict[i], rho_dict[i], lambd_dict[i]], r)\n",
        "  except:\n",
        "    params_trf[i]='not avaible'"
      ],
      "metadata": {
        "id": "473TXHm8GIb9"
      },
      "execution_count": null,
      "outputs": []
    },
    {
      "cell_type": "code",
      "source": [
        "err_tfr = {}\n",
        "for i in params_trf.keys():\n",
        "  if params_trf[i]!='not avaible':\n",
        "\n",
        "    err_tfr[i]=(heston_ivol(params_trf[i].tolist())**2).sum()/K.shape[0]"
      ],
      "metadata": {
        "id": "EML2t-zyzoLY"
      },
      "execution_count": null,
      "outputs": []
    },
    {
      "cell_type": "code",
      "source": [
        "params_trf"
      ],
      "metadata": {
        "colab": {
          "base_uri": "https://localhost:8080/"
        },
        "id": "BuF6UCFIzrZ_",
        "outputId": "fcf5eeff-612f-48d5-b027-009ea35a7f95"
      },
      "execution_count": 53,
      "outputs": [
        {
          "output_type": "execute_result",
          "data": {
            "text/plain": [
              "{'a': array([ 3.11124119e-01,  2.20153976e+01,  5.06478378e-03,  5.48331459e-01,\n",
              "        -1.91585687e-01,  5.95924568e+00]),\n",
              " 'b': array([ 1.17087664e-01,  3.08266191e+00,  1.00000005e-03,  1.66510356e-01,\n",
              "        -2.55128557e-01,  7.13704790e-01]),\n",
              " 'c': array([ 1.39595877e-01,  5.80301341e+00,  1.00000499e-03,  9.05140915e-02,\n",
              "        -4.09346798e-01,  1.44764346e+00]),\n",
              " 'd': array([ 1.28229689e-01,  3.86690825e+00,  1.00028180e-03,  1.12044169e-01,\n",
              "        -3.39758014e-01,  1.69229079e+00]),\n",
              " 'e': array([ 1.15296066e-01,  1.72783523e+00,  1.00000375e-03,  1.08195110e-01,\n",
              "        -3.39401631e-01,  1.78998004e+00])}"
            ]
          },
          "metadata": {},
          "execution_count": 53
        }
      ]
    },
    {
      "cell_type": "code",
      "source": [
        "err_tfr"
      ],
      "metadata": {
        "colab": {
          "base_uri": "https://localhost:8080/"
        },
        "id": "uPBncIKqztye",
        "outputId": "4f66c072-e403-456d-b275-de966046d656"
      },
      "execution_count": 55,
      "outputs": [
        {
          "output_type": "execute_result",
          "data": {
            "text/plain": [
              "{'a': 0.04984925150303156,\n",
              " 'b': 0.05119214511292639,\n",
              " 'c': 0.05050913628939209,\n",
              " 'd': 0.050745611428641355,\n",
              " 'e': 0.0512739024991142}"
            ]
          },
          "metadata": {},
          "execution_count": 55
        }
      ]
    },
    {
      "cell_type": "code",
      "source": [
        "df_put['predIV']=calcImpl(params_trf['a'])"
      ],
      "metadata": {
        "colab": {
          "base_uri": "https://localhost:8080/"
        },
        "id": "xmK8r41lzvna",
        "outputId": "260972ce-a16d-4629-e4b6-585403b7021a"
      },
      "execution_count": 56,
      "outputs": [
        {
          "output_type": "stream",
          "name": "stderr",
          "text": [
            "<ipython-input-12-7b73f4590402>:5: ComplexWarning:\n",
            "\n",
            "Casting complex values to real discards the imaginary part\n",
            "\n"
          ]
        }
      ]
    },
    {
      "cell_type": "code",
      "source": [
        "import plotly.graph_objects as go\n",
        "from plotly.graph_objs import Surface\n",
        "\n",
        "fig = go.Figure(data=[go.Mesh3d(x=df_put['tau'], y=df_put['Strike'], z=df_put['IV']/100, color='mediumblue', opacity=0.55)])\n",
        "fig.add_scatter3d(x=df_put['tau'], y=df_put['Strike'], z=df_put['predIV'], mode='markers')\n",
        "fig.update_layout(\n",
        "    title_text='Market Prices (Mesh) vs Calibrated Heston Prices (Markers)',\n",
        "    scene = dict(xaxis_title='TIME (Years)',\n",
        "                    yaxis_title='STRIKES (Pts)',\n",
        "                    zaxis_title='INDEX OPTION PRICE (Pts)'),\n",
        "    height=800,\n",
        "    width=800\n",
        ")\n",
        "fig.show()"
      ],
      "metadata": {
        "colab": {
          "base_uri": "https://localhost:8080/",
          "height": 838
        },
        "id": "Q_ks6PjSzxAi",
        "outputId": "22b0156e-38fa-4626-a114-3bd41e07640a"
      },
      "execution_count": 57,
      "outputs": [
        {
          "output_type": "display_data",
          "data": {
            "text/html": [
              "<html>\n",
              "<head><meta charset=\"utf-8\" /></head>\n",
              "<body>\n",
              "    <div>            <script src=\"https://cdnjs.cloudflare.com/ajax/libs/mathjax/2.7.5/MathJax.js?config=TeX-AMS-MML_SVG\"></script><script type=\"text/javascript\">if (window.MathJax) {MathJax.Hub.Config({SVG: {font: \"STIX-Web\"}});}</script>                <script type=\"text/javascript\">window.PlotlyConfig = {MathJaxConfig: 'local'};</script>\n",
              "        <script src=\"https://cdn.plot.ly/plotly-2.8.3.min.js\"></script>                <div id=\"cb12a6d3-9e01-488b-b741-fe3de9887770\" class=\"plotly-graph-div\" style=\"height:800px; width:800px;\"></div>            <script type=\"text/javascript\">                                    window.PLOTLYENV=window.PLOTLYENV || {};                                    if (document.getElementById(\"cb12a6d3-9e01-488b-b741-fe3de9887770\")) {                    Plotly.newPlot(                        \"cb12a6d3-9e01-488b-b741-fe3de9887770\",                        [{\"color\":\"mediumblue\",\"opacity\":0.55,\"x\":[0.11506849315068493,0.11506849315068493,0.11506849315068493,0.11506849315068493,0.11506849315068493,0.11506849315068493,0.11506849315068493,0.11506849315068493,0.11506849315068493,0.11506849315068493,0.11506849315068493,0.11506849315068493,0.11506849315068493,0.11506849315068493,0.11506849315068493,0.11506849315068493,0.11506849315068493,0.11506849315068493,0.11506849315068493,0.11506849315068493,0.11506849315068493,0.11506849315068493,0.11506849315068493,0.11506849315068493,0.11506849315068493,0.11506849315068493,0.11506849315068493,0.11506849315068493,0.11506849315068493,0.11506849315068493,0.11506849315068493,0.11506849315068493,0.11506849315068493,0.11506849315068493,0.11506849315068493,0.11506849315068493,0.11506849315068493,0.11506849315068493,0.11506849315068493,0.11506849315068493,0.11506849315068493,0.11506849315068493,0.11506849315068493,0.11506849315068493,0.11506849315068493,0.11506849315068493,0.11506849315068493,0.11506849315068493,0.11506849315068493,0.11506849315068493,0.11506849315068493,0.11506849315068493,0.11506849315068493,0.11506849315068493,0.11506849315068493,0.11506849315068493,0.11506849315068493,0.11506849315068493,0.11506849315068493,0.11506849315068493,0.11506849315068493,0.11506849315068493,0.11506849315068493,0.11506849315068493,0.11506849315068493,0.11506849315068493,0.11506849315068493,0.11506849315068493,0.11506849315068493,0.11506849315068493,0.11506849315068493,0.11506849315068493,0.11506849315068493,0.11506849315068493,0.11506849315068493,0.11506849315068493,0.11506849315068493,0.11506849315068493,0.11506849315068493,0.11506849315068493,0.11506849315068493,0.11506849315068493,0.11506849315068493,0.11506849315068493,0.11506849315068493,0.11506849315068493,0.11506849315068493,0.11506849315068493,0.11506849315068493,0.11506849315068493,0.11506849315068493,0.11506849315068493,0.11506849315068493,0.11506849315068493,0.11506849315068493,0.11506849315068493,0.11506849315068493,0.11506849315068493,0.11506849315068493,0.11506849315068493,0.11506849315068493,0.11506849315068493,0.11506849315068493,0.11506849315068493,0.11506849315068493,0.11506849315068493,0.11506849315068493,0.11506849315068493,0.11506849315068493,0.11506849315068493,0.11506849315068493,0.11506849315068493,0.11506849315068493,0.11506849315068493,0.11506849315068493,0.11506849315068493,0.11506849315068493,0.11506849315068493,0.11506849315068493,0.11506849315068493,0.11506849315068493,0.11506849315068493,0.11506849315068493,0.11506849315068493,0.11506849315068493,0.11506849315068493,0.11506849315068493,0.11506849315068493,0.11506849315068493,0.11506849315068493,0.11506849315068493,0.11506849315068493,0.11506849315068493,0.11506849315068493,0.11506849315068493,0.11506849315068493,0.11506849315068493,0.11506849315068493,0.11506849315068493,0.11506849315068493,0.11506849315068493,0.11506849315068493,0.21095890410958903,0.21095890410958903,0.21095890410958903,0.21095890410958903,0.21095890410958903,0.21095890410958903,0.21095890410958903,0.21095890410958903,0.21095890410958903,0.21095890410958903,0.3643835616438356,0.3643835616438356,0.3643835616438356,0.3643835616438356,0.3643835616438356,0.3643835616438356,0.3643835616438356,0.3643835616438356,0.3643835616438356,0.3643835616438356,0.6328767123287671,0.6328767123287671,0.6328767123287671,0.6328767123287671,0.6328767123287671,0.6328767123287671,0.6328767123287671,0.6328767123287671,0.6328767123287671,0.6328767123287671,0.8821917808219178,0.8821917808219178,0.8821917808219178,0.8821917808219178,0.8821917808219178,0.8821917808219178,0.8821917808219178,0.8821917808219178,0.8821917808219178,0.8821917808219178],\"y\":[\"4500\",\"5000\",\"5500\",\"6000\",\"6500\",\"7000\",\"7200\",\"7400\",\"7600\",\"7800\",\"8000\",\"8200\",\"8400\",\"8600\",\"8800\",\"9000\",\"9200\",\"9400\",\"9600\",\"9800\",\"10000\",\"10200\",\"10400\",\"10600\",\"10800\",\"10900\",\"11000\",\"11100\",\"11200\",\"11300\",\"11400\",\"11500\",\"11600\",\"11700\",\"11800\",\"11900\",\"12000\",\"12100\",\"12200\",\"12300\",\"12400\",\"12500\",\"12600\",\"12650\",\"12700\",\"12750\",\"12800\",\"12850\",\"12900\",\"12950\",\"13000\",\"13050\",\"13100\",\"13150\",\"13200\",\"13250\",\"13300\",\"13350\",\"13400\",\"13450\",\"13500\",\"13550\",\"13600\",\"13650\",\"13700\",\"13750\",\"13800\",\"13850\",\"13900\",\"13950\",\"14000\",\"14050\",\"14100\",\"14150\",\"14200\",\"14250\",\"14300\",\"14350\",\"14400\",\"14450\",\"14500\",\"14550\",\"14600\",\"14650\",\"14700\",\"14750\",\"14800\",\"14850\",\"14900\",\"14950\",\"15000\",\"15050\",\"15100\",\"15150\",\"15200\",\"15250\",\"15300\",\"15350\",\"15400\",\"15450\",\"15500\",\"15550\",\"15600\",\"15650\",\"15700\",\"15750\",\"15800\",\"15850\",\"15900\",\"15950\",\"16000\",\"16050\",\"16100\",\"16150\",\"16200\",\"16250\",\"16300\",\"16350\",\"16400\",\"16450\",\"16500\",\"16600\",\"16700\",\"16800\",\"16900\",\"17000\",\"17100\",\"17200\",\"17400\",\"17500\",\"17600\",\"17800\",\"18000\",\"18200\",\"18400\",\"18500\",\"18600\",\"19000\",\"19500\",\"20000\",\"21000\",\"22000\",\"15450\",\"15500\",\"15550\",\"15600\",\"15650\",\"15700\",\"15750\",\"15800\",\"15850\",\"15900\",\"15200\",\"15300\",\"15400\",\"15500\",\"15600\",\"15700\",\"15800\",\"15900\",\"16000\",\"16100\",\"15300\",\"15400\",\"15500\",\"15600\",\"15700\",\"15800\",\"15900\",\"16000\",\"16100\",\"16200\",\"15500\",\"15600\",\"15700\",\"15800\",\"15900\",\"16000\",\"16100\",\"16200\",\"16400\",\"16500\"],\"z\":[1.0070999999999999,0.9233,0.8477,0.7786,0.7151000000000001,0.6564,0.634,0.6123,0.5911,0.5704,0.5503,0.5564,0.5364,0.5324,0.5335,0.5213,0.5139,0.5038,0.49219999999999997,0.4825,0.47119999999999995,0.4608,0.4489,0.436,0.42369999999999997,0.4178,0.41159999999999997,0.4052,0.3995,0.3936,0.3873,0.38079999999999997,0.3741,0.3679,0.36210000000000003,0.3553,0.3489,0.3423,0.33590000000000003,0.3292,0.3224,0.3161,0.3091,0.3059,0.30260000000000004,0.2992,0.2958,0.2923,0.289,0.2857,0.2826,0.2793,0.276,0.2729,0.2696,0.26649999999999996,0.2633,0.2602,0.25730000000000003,0.25429999999999997,0.25129999999999997,0.2483,0.24539999999999998,0.2425,0.2396,0.23670000000000002,0.23379999999999998,0.231,0.2281,0.22519999999999998,0.2224,0.2195,0.21660000000000001,0.2138,0.2109,0.20800000000000002,0.2051,0.2023,0.19949999999999998,0.1966,0.1938,0.191,0.1881,0.18539999999999998,0.1826,0.17989999999999998,0.1772,0.1745,0.17190000000000003,0.16920000000000002,0.1666,0.16399999999999998,0.16140000000000002,0.1589,0.1564,0.154,0.1516,0.1493,0.147,0.1447,0.1424,0.1402,0.1381,0.1361,0.1343,0.1325,0.1309,0.1293,0.12789999999999999,0.1266,0.12560000000000002,0.1246,0.12390000000000001,0.1234,0.12300000000000001,0.12279999999999999,0.1229,0.1231,0.12359999999999999,0.1243,0.1251,0.1273,0.1301,0.133,0.1367,0.1411,0.1458,0.15109999999999998,0.1635,0.17,0.1769,0.19140000000000001,0.20600000000000002,0.22089999999999999,0.2357,0.243,0.2503,0.27940000000000004,0.31489999999999996,0.35,0.4171,0.48109999999999997,0.17010000000000003,0.16879999999999998,0.16760000000000003,0.1666,0.1656,0.1648,0.1641,0.1635,0.163,0.16260000000000002,0.1718,0.1684,0.16510000000000002,0.1617,0.1586,0.1555,0.15259999999999999,0.14980000000000002,0.147,0.14429999999999998,0.17679999999999998,0.1743,0.1718,0.1693,0.16690000000000002,0.16449999999999998,0.162,0.15960000000000002,0.1573,0.155,0.1794,0.1773,0.1752,0.17300000000000001,0.171,0.1689,0.16690000000000002,0.1649,0.1612,0.1594],\"type\":\"mesh3d\"},{\"mode\":\"markers\",\"x\":[0.11506849315068493,0.11506849315068493,0.11506849315068493,0.11506849315068493,0.11506849315068493,0.11506849315068493,0.11506849315068493,0.11506849315068493,0.11506849315068493,0.11506849315068493,0.11506849315068493,0.11506849315068493,0.11506849315068493,0.11506849315068493,0.11506849315068493,0.11506849315068493,0.11506849315068493,0.11506849315068493,0.11506849315068493,0.11506849315068493,0.11506849315068493,0.11506849315068493,0.11506849315068493,0.11506849315068493,0.11506849315068493,0.11506849315068493,0.11506849315068493,0.11506849315068493,0.11506849315068493,0.11506849315068493,0.11506849315068493,0.11506849315068493,0.11506849315068493,0.11506849315068493,0.11506849315068493,0.11506849315068493,0.11506849315068493,0.11506849315068493,0.11506849315068493,0.11506849315068493,0.11506849315068493,0.11506849315068493,0.11506849315068493,0.11506849315068493,0.11506849315068493,0.11506849315068493,0.11506849315068493,0.11506849315068493,0.11506849315068493,0.11506849315068493,0.11506849315068493,0.11506849315068493,0.11506849315068493,0.11506849315068493,0.11506849315068493,0.11506849315068493,0.11506849315068493,0.11506849315068493,0.11506849315068493,0.11506849315068493,0.11506849315068493,0.11506849315068493,0.11506849315068493,0.11506849315068493,0.11506849315068493,0.11506849315068493,0.11506849315068493,0.11506849315068493,0.11506849315068493,0.11506849315068493,0.11506849315068493,0.11506849315068493,0.11506849315068493,0.11506849315068493,0.11506849315068493,0.11506849315068493,0.11506849315068493,0.11506849315068493,0.11506849315068493,0.11506849315068493,0.11506849315068493,0.11506849315068493,0.11506849315068493,0.11506849315068493,0.11506849315068493,0.11506849315068493,0.11506849315068493,0.11506849315068493,0.11506849315068493,0.11506849315068493,0.11506849315068493,0.11506849315068493,0.11506849315068493,0.11506849315068493,0.11506849315068493,0.11506849315068493,0.11506849315068493,0.11506849315068493,0.11506849315068493,0.11506849315068493,0.11506849315068493,0.11506849315068493,0.11506849315068493,0.11506849315068493,0.11506849315068493,0.11506849315068493,0.11506849315068493,0.11506849315068493,0.11506849315068493,0.11506849315068493,0.11506849315068493,0.11506849315068493,0.11506849315068493,0.11506849315068493,0.11506849315068493,0.11506849315068493,0.11506849315068493,0.11506849315068493,0.11506849315068493,0.11506849315068493,0.11506849315068493,0.11506849315068493,0.11506849315068493,0.11506849315068493,0.11506849315068493,0.11506849315068493,0.11506849315068493,0.11506849315068493,0.11506849315068493,0.11506849315068493,0.11506849315068493,0.11506849315068493,0.11506849315068493,0.11506849315068493,0.11506849315068493,0.11506849315068493,0.11506849315068493,0.11506849315068493,0.11506849315068493,0.11506849315068493,0.11506849315068493,0.11506849315068493,0.21095890410958903,0.21095890410958903,0.21095890410958903,0.21095890410958903,0.21095890410958903,0.21095890410958903,0.21095890410958903,0.21095890410958903,0.21095890410958903,0.21095890410958903,0.3643835616438356,0.3643835616438356,0.3643835616438356,0.3643835616438356,0.3643835616438356,0.3643835616438356,0.3643835616438356,0.3643835616438356,0.3643835616438356,0.3643835616438356,0.6328767123287671,0.6328767123287671,0.6328767123287671,0.6328767123287671,0.6328767123287671,0.6328767123287671,0.6328767123287671,0.6328767123287671,0.6328767123287671,0.6328767123287671,0.8821917808219178,0.8821917808219178,0.8821917808219178,0.8821917808219178,0.8821917808219178,0.8821917808219178,0.8821917808219178,0.8821917808219178,0.8821917808219178,0.8821917808219178],\"y\":[\"4500\",\"5000\",\"5500\",\"6000\",\"6500\",\"7000\",\"7200\",\"7400\",\"7600\",\"7800\",\"8000\",\"8200\",\"8400\",\"8600\",\"8800\",\"9000\",\"9200\",\"9400\",\"9600\",\"9800\",\"10000\",\"10200\",\"10400\",\"10600\",\"10800\",\"10900\",\"11000\",\"11100\",\"11200\",\"11300\",\"11400\",\"11500\",\"11600\",\"11700\",\"11800\",\"11900\",\"12000\",\"12100\",\"12200\",\"12300\",\"12400\",\"12500\",\"12600\",\"12650\",\"12700\",\"12750\",\"12800\",\"12850\",\"12900\",\"12950\",\"13000\",\"13050\",\"13100\",\"13150\",\"13200\",\"13250\",\"13300\",\"13350\",\"13400\",\"13450\",\"13500\",\"13550\",\"13600\",\"13650\",\"13700\",\"13750\",\"13800\",\"13850\",\"13900\",\"13950\",\"14000\",\"14050\",\"14100\",\"14150\",\"14200\",\"14250\",\"14300\",\"14350\",\"14400\",\"14450\",\"14500\",\"14550\",\"14600\",\"14650\",\"14700\",\"14750\",\"14800\",\"14850\",\"14900\",\"14950\",\"15000\",\"15050\",\"15100\",\"15150\",\"15200\",\"15250\",\"15300\",\"15350\",\"15400\",\"15450\",\"15500\",\"15550\",\"15600\",\"15650\",\"15700\",\"15750\",\"15800\",\"15850\",\"15900\",\"15950\",\"16000\",\"16050\",\"16100\",\"16150\",\"16200\",\"16250\",\"16300\",\"16350\",\"16400\",\"16450\",\"16500\",\"16600\",\"16700\",\"16800\",\"16900\",\"17000\",\"17100\",\"17200\",\"17400\",\"17500\",\"17600\",\"17800\",\"18000\",\"18200\",\"18400\",\"18500\",\"18600\",\"19000\",\"19500\",\"20000\",\"21000\",\"22000\",\"15450\",\"15500\",\"15550\",\"15600\",\"15650\",\"15700\",\"15750\",\"15800\",\"15850\",\"15900\",\"15200\",\"15300\",\"15400\",\"15500\",\"15600\",\"15700\",\"15800\",\"15900\",\"16000\",\"16100\",\"15300\",\"15400\",\"15500\",\"15600\",\"15700\",\"15800\",\"15900\",\"16000\",\"16100\",\"16200\",\"15500\",\"15600\",\"15700\",\"15800\",\"15900\",\"16000\",\"16100\",\"16200\",\"16400\",\"16500\"],\"z\":[1.012612524006087,2.498144678947296,0.8626004282078307,1.2512432051993858,1.366460160648537,1.2321837901002088,1.1856894072823703,1.1453355730513124,1.1082623463485028,1.0725886379162994,1.0375965910224116,1.0031860153962593,0.9694358312707178,0.9364135405393011,0.9041365408775511,0.8725872090758882,0.8417331789372717,0.8115394471894547,0.7819732567697439,0.7530053884724247,0.7246103981783122,0.6967669957697669,0.6694590175233561,0.6426771742316794,0.6164217011883621,0.6034949102534498,0.5907060173579289,0.5780595312952068,0.565561423034911,0.5532193141003151,0.5410426643027321,0.5290429486130438,0.5172338095677117,0.5056311678879133,0.4942532702417068,0.4831206498166969,0.47225597338186465,0.4616837488617338,0.4514298713808814,0.4415209945057732,0.43198372785614986,0.42284368229153063,0.4141244079115622,0.4099290846496102,0.4058462947138338,0.40187792105650444,0.3980255258456132,0.3942903276516821,0.3906731832085712,0.38717457427728064,0.38379459999386406,0.3805329749136178,0.3773890327836286,0.37436173589386285,0.37144968968320136,0.36865116212118415,0.3659641072555005,0.36338619221677626,0.3609148269078109,0.3585471955765147,0.3562802894772137,0.35411093986217,0.3520358506068293,0.35005162985424243,0.34815482015876303,0.34634192671067326,0.34460944332605176,0.34295387598525456,0.3413717637947159,0.33985969732838445,0.33841433437440044,0.3370324131699988,0.33571076325207594,0.3344463140839395,0.3332361016409945,0.3320772731509551,0.33096709018946247,0.3299029303304425,0.32888228754434307,0.327902771527421,0.32696210613253973,0.32605812705782844,0.32518877893453324,0.3243521119400261,0.3235462780471731,0.3227695270067608,0.3220202021463635,0.3212967360565521,0.3205976462240635,0.3199215306613888,0.3192670635732397,0.31863299109235443,0.3180181271102251,0.31742134922234627,0.31684159480243024,0.316277857215734,0.31572918217793156,0.3151946642629816,0.314673443560823,0.31416470248377765,0.31366766271875685,0.3131815823211239,0.31270575294494035,0.31223949720356914,0.3117821661539238,0.3113331368972322,0.310891810288858,0.31045760874944095,0.3100299741695175,0.30960836589968843,0.30919225881827045,0.30878114146848806,0.308374514257083,0.3079718877063394,0.3075727807514073,0.30717671907484967,0.30678323347016945,0.3063918582260748,0.30600212952297756,0.30561358383313686,0.30522575631547316,0.3044503801228317,0.30367219371012794,0.3028872617167669,0.30209146235729384,0.3012804237559001,0.3004494529036983,0.29959345477394955,0.29778340668625036,0.2968162226056979,0.295797448563357,0.2935680247634922,0.2910053949102439,0.28798538146720626,0.28432774292787555,0.28217865608226744,0.27975446604511933,0.2655753807922478,0.17492807386694184,0.0,0.0,0.0,0.24333209750161075,0.24275432664326266,0.2421897836098165,0.24163762876293626,0.24109705454013083,0.2405672832310554,0.24004756479735892,0.2395371747373768,0.23903541199572803,0.23854159691670349,0.19824258072880502,0.1966928041956345,0.1952248505651861,0.19383006263875394,0.19250031464752504,0.19122797407067665,0.1900058567215099,0.18882717700303886,0.18768549469339918,0.18657465913197668,0.16335822815526144,0.16153618419418905,0.15980258584440507,0.15814928912803874,0.15656839451952412,0.15505225670670986,0.1535934816390265,0.15218491240758747,0.15081960528392746,0.14949079694487682,0.14619987214235672,0.14428911335141423,0.14246041171660184,0.14070657374128787,0.13902046906090662,0.13739505014784573,0.1358233600402987,0.13429852852466828,0.131362293246764,0.12993739294411372],\"type\":\"scatter3d\"}],                        {\"template\":{\"data\":{\"bar\":[{\"error_x\":{\"color\":\"#2a3f5f\"},\"error_y\":{\"color\":\"#2a3f5f\"},\"marker\":{\"line\":{\"color\":\"#E5ECF6\",\"width\":0.5},\"pattern\":{\"fillmode\":\"overlay\",\"size\":10,\"solidity\":0.2}},\"type\":\"bar\"}],\"barpolar\":[{\"marker\":{\"line\":{\"color\":\"#E5ECF6\",\"width\":0.5},\"pattern\":{\"fillmode\":\"overlay\",\"size\":10,\"solidity\":0.2}},\"type\":\"barpolar\"}],\"carpet\":[{\"aaxis\":{\"endlinecolor\":\"#2a3f5f\",\"gridcolor\":\"white\",\"linecolor\":\"white\",\"minorgridcolor\":\"white\",\"startlinecolor\":\"#2a3f5f\"},\"baxis\":{\"endlinecolor\":\"#2a3f5f\",\"gridcolor\":\"white\",\"linecolor\":\"white\",\"minorgridcolor\":\"white\",\"startlinecolor\":\"#2a3f5f\"},\"type\":\"carpet\"}],\"choropleth\":[{\"colorbar\":{\"outlinewidth\":0,\"ticks\":\"\"},\"type\":\"choropleth\"}],\"contour\":[{\"colorbar\":{\"outlinewidth\":0,\"ticks\":\"\"},\"colorscale\":[[0.0,\"#0d0887\"],[0.1111111111111111,\"#46039f\"],[0.2222222222222222,\"#7201a8\"],[0.3333333333333333,\"#9c179e\"],[0.4444444444444444,\"#bd3786\"],[0.5555555555555556,\"#d8576b\"],[0.6666666666666666,\"#ed7953\"],[0.7777777777777778,\"#fb9f3a\"],[0.8888888888888888,\"#fdca26\"],[1.0,\"#f0f921\"]],\"type\":\"contour\"}],\"contourcarpet\":[{\"colorbar\":{\"outlinewidth\":0,\"ticks\":\"\"},\"type\":\"contourcarpet\"}],\"heatmap\":[{\"colorbar\":{\"outlinewidth\":0,\"ticks\":\"\"},\"colorscale\":[[0.0,\"#0d0887\"],[0.1111111111111111,\"#46039f\"],[0.2222222222222222,\"#7201a8\"],[0.3333333333333333,\"#9c179e\"],[0.4444444444444444,\"#bd3786\"],[0.5555555555555556,\"#d8576b\"],[0.6666666666666666,\"#ed7953\"],[0.7777777777777778,\"#fb9f3a\"],[0.8888888888888888,\"#fdca26\"],[1.0,\"#f0f921\"]],\"type\":\"heatmap\"}],\"heatmapgl\":[{\"colorbar\":{\"outlinewidth\":0,\"ticks\":\"\"},\"colorscale\":[[0.0,\"#0d0887\"],[0.1111111111111111,\"#46039f\"],[0.2222222222222222,\"#7201a8\"],[0.3333333333333333,\"#9c179e\"],[0.4444444444444444,\"#bd3786\"],[0.5555555555555556,\"#d8576b\"],[0.6666666666666666,\"#ed7953\"],[0.7777777777777778,\"#fb9f3a\"],[0.8888888888888888,\"#fdca26\"],[1.0,\"#f0f921\"]],\"type\":\"heatmapgl\"}],\"histogram\":[{\"marker\":{\"pattern\":{\"fillmode\":\"overlay\",\"size\":10,\"solidity\":0.2}},\"type\":\"histogram\"}],\"histogram2d\":[{\"colorbar\":{\"outlinewidth\":0,\"ticks\":\"\"},\"colorscale\":[[0.0,\"#0d0887\"],[0.1111111111111111,\"#46039f\"],[0.2222222222222222,\"#7201a8\"],[0.3333333333333333,\"#9c179e\"],[0.4444444444444444,\"#bd3786\"],[0.5555555555555556,\"#d8576b\"],[0.6666666666666666,\"#ed7953\"],[0.7777777777777778,\"#fb9f3a\"],[0.8888888888888888,\"#fdca26\"],[1.0,\"#f0f921\"]],\"type\":\"histogram2d\"}],\"histogram2dcontour\":[{\"colorbar\":{\"outlinewidth\":0,\"ticks\":\"\"},\"colorscale\":[[0.0,\"#0d0887\"],[0.1111111111111111,\"#46039f\"],[0.2222222222222222,\"#7201a8\"],[0.3333333333333333,\"#9c179e\"],[0.4444444444444444,\"#bd3786\"],[0.5555555555555556,\"#d8576b\"],[0.6666666666666666,\"#ed7953\"],[0.7777777777777778,\"#fb9f3a\"],[0.8888888888888888,\"#fdca26\"],[1.0,\"#f0f921\"]],\"type\":\"histogram2dcontour\"}],\"mesh3d\":[{\"colorbar\":{\"outlinewidth\":0,\"ticks\":\"\"},\"type\":\"mesh3d\"}],\"parcoords\":[{\"line\":{\"colorbar\":{\"outlinewidth\":0,\"ticks\":\"\"}},\"type\":\"parcoords\"}],\"pie\":[{\"automargin\":true,\"type\":\"pie\"}],\"scatter\":[{\"marker\":{\"colorbar\":{\"outlinewidth\":0,\"ticks\":\"\"}},\"type\":\"scatter\"}],\"scatter3d\":[{\"line\":{\"colorbar\":{\"outlinewidth\":0,\"ticks\":\"\"}},\"marker\":{\"colorbar\":{\"outlinewidth\":0,\"ticks\":\"\"}},\"type\":\"scatter3d\"}],\"scattercarpet\":[{\"marker\":{\"colorbar\":{\"outlinewidth\":0,\"ticks\":\"\"}},\"type\":\"scattercarpet\"}],\"scattergeo\":[{\"marker\":{\"colorbar\":{\"outlinewidth\":0,\"ticks\":\"\"}},\"type\":\"scattergeo\"}],\"scattergl\":[{\"marker\":{\"colorbar\":{\"outlinewidth\":0,\"ticks\":\"\"}},\"type\":\"scattergl\"}],\"scattermapbox\":[{\"marker\":{\"colorbar\":{\"outlinewidth\":0,\"ticks\":\"\"}},\"type\":\"scattermapbox\"}],\"scatterpolar\":[{\"marker\":{\"colorbar\":{\"outlinewidth\":0,\"ticks\":\"\"}},\"type\":\"scatterpolar\"}],\"scatterpolargl\":[{\"marker\":{\"colorbar\":{\"outlinewidth\":0,\"ticks\":\"\"}},\"type\":\"scatterpolargl\"}],\"scatterternary\":[{\"marker\":{\"colorbar\":{\"outlinewidth\":0,\"ticks\":\"\"}},\"type\":\"scatterternary\"}],\"surface\":[{\"colorbar\":{\"outlinewidth\":0,\"ticks\":\"\"},\"colorscale\":[[0.0,\"#0d0887\"],[0.1111111111111111,\"#46039f\"],[0.2222222222222222,\"#7201a8\"],[0.3333333333333333,\"#9c179e\"],[0.4444444444444444,\"#bd3786\"],[0.5555555555555556,\"#d8576b\"],[0.6666666666666666,\"#ed7953\"],[0.7777777777777778,\"#fb9f3a\"],[0.8888888888888888,\"#fdca26\"],[1.0,\"#f0f921\"]],\"type\":\"surface\"}],\"table\":[{\"cells\":{\"fill\":{\"color\":\"#EBF0F8\"},\"line\":{\"color\":\"white\"}},\"header\":{\"fill\":{\"color\":\"#C8D4E3\"},\"line\":{\"color\":\"white\"}},\"type\":\"table\"}]},\"layout\":{\"annotationdefaults\":{\"arrowcolor\":\"#2a3f5f\",\"arrowhead\":0,\"arrowwidth\":1},\"autotypenumbers\":\"strict\",\"coloraxis\":{\"colorbar\":{\"outlinewidth\":0,\"ticks\":\"\"}},\"colorscale\":{\"diverging\":[[0,\"#8e0152\"],[0.1,\"#c51b7d\"],[0.2,\"#de77ae\"],[0.3,\"#f1b6da\"],[0.4,\"#fde0ef\"],[0.5,\"#f7f7f7\"],[0.6,\"#e6f5d0\"],[0.7,\"#b8e186\"],[0.8,\"#7fbc41\"],[0.9,\"#4d9221\"],[1,\"#276419\"]],\"sequential\":[[0.0,\"#0d0887\"],[0.1111111111111111,\"#46039f\"],[0.2222222222222222,\"#7201a8\"],[0.3333333333333333,\"#9c179e\"],[0.4444444444444444,\"#bd3786\"],[0.5555555555555556,\"#d8576b\"],[0.6666666666666666,\"#ed7953\"],[0.7777777777777778,\"#fb9f3a\"],[0.8888888888888888,\"#fdca26\"],[1.0,\"#f0f921\"]],\"sequentialminus\":[[0.0,\"#0d0887\"],[0.1111111111111111,\"#46039f\"],[0.2222222222222222,\"#7201a8\"],[0.3333333333333333,\"#9c179e\"],[0.4444444444444444,\"#bd3786\"],[0.5555555555555556,\"#d8576b\"],[0.6666666666666666,\"#ed7953\"],[0.7777777777777778,\"#fb9f3a\"],[0.8888888888888888,\"#fdca26\"],[1.0,\"#f0f921\"]]},\"colorway\":[\"#636efa\",\"#EF553B\",\"#00cc96\",\"#ab63fa\",\"#FFA15A\",\"#19d3f3\",\"#FF6692\",\"#B6E880\",\"#FF97FF\",\"#FECB52\"],\"font\":{\"color\":\"#2a3f5f\"},\"geo\":{\"bgcolor\":\"white\",\"lakecolor\":\"white\",\"landcolor\":\"#E5ECF6\",\"showlakes\":true,\"showland\":true,\"subunitcolor\":\"white\"},\"hoverlabel\":{\"align\":\"left\"},\"hovermode\":\"closest\",\"mapbox\":{\"style\":\"light\"},\"paper_bgcolor\":\"white\",\"plot_bgcolor\":\"#E5ECF6\",\"polar\":{\"angularaxis\":{\"gridcolor\":\"white\",\"linecolor\":\"white\",\"ticks\":\"\"},\"bgcolor\":\"#E5ECF6\",\"radialaxis\":{\"gridcolor\":\"white\",\"linecolor\":\"white\",\"ticks\":\"\"}},\"scene\":{\"xaxis\":{\"backgroundcolor\":\"#E5ECF6\",\"gridcolor\":\"white\",\"gridwidth\":2,\"linecolor\":\"white\",\"showbackground\":true,\"ticks\":\"\",\"zerolinecolor\":\"white\"},\"yaxis\":{\"backgroundcolor\":\"#E5ECF6\",\"gridcolor\":\"white\",\"gridwidth\":2,\"linecolor\":\"white\",\"showbackground\":true,\"ticks\":\"\",\"zerolinecolor\":\"white\"},\"zaxis\":{\"backgroundcolor\":\"#E5ECF6\",\"gridcolor\":\"white\",\"gridwidth\":2,\"linecolor\":\"white\",\"showbackground\":true,\"ticks\":\"\",\"zerolinecolor\":\"white\"}},\"shapedefaults\":{\"line\":{\"color\":\"#2a3f5f\"}},\"ternary\":{\"aaxis\":{\"gridcolor\":\"white\",\"linecolor\":\"white\",\"ticks\":\"\"},\"baxis\":{\"gridcolor\":\"white\",\"linecolor\":\"white\",\"ticks\":\"\"},\"bgcolor\":\"#E5ECF6\",\"caxis\":{\"gridcolor\":\"white\",\"linecolor\":\"white\",\"ticks\":\"\"}},\"title\":{\"x\":0.05},\"xaxis\":{\"automargin\":true,\"gridcolor\":\"white\",\"linecolor\":\"white\",\"ticks\":\"\",\"title\":{\"standoff\":15},\"zerolinecolor\":\"white\",\"zerolinewidth\":2},\"yaxis\":{\"automargin\":true,\"gridcolor\":\"white\",\"linecolor\":\"white\",\"ticks\":\"\",\"title\":{\"standoff\":15},\"zerolinecolor\":\"white\",\"zerolinewidth\":2}}},\"title\":{\"text\":\"Market Prices (Mesh) vs Calibrated Heston Prices (Markers)\"},\"scene\":{\"xaxis\":{\"title\":{\"text\":\"TIME (Years)\"}},\"yaxis\":{\"title\":{\"text\":\"STRIKES (Pts)\"}},\"zaxis\":{\"title\":{\"text\":\"INDEX OPTION PRICE (Pts)\"}}},\"height\":800,\"width\":800},                        {\"responsive\": true}                    ).then(function(){\n",
              "                            \n",
              "var gd = document.getElementById('cb12a6d3-9e01-488b-b741-fe3de9887770');\n",
              "var x = new MutationObserver(function (mutations, observer) {{\n",
              "        var display = window.getComputedStyle(gd).display;\n",
              "        if (!display || display === 'none') {{\n",
              "            console.log([gd, 'removed!']);\n",
              "            Plotly.purge(gd);\n",
              "            observer.disconnect();\n",
              "        }}\n",
              "}});\n",
              "\n",
              "// Listen for the removal of the full notebook cells\n",
              "var notebookContainer = gd.closest('#notebook-container');\n",
              "if (notebookContainer) {{\n",
              "    x.observe(notebookContainer, {childList: true});\n",
              "}}\n",
              "\n",
              "// Listen for the clearing of the current output cell\n",
              "var outputEl = gd.closest('.output');\n",
              "if (outputEl) {{\n",
              "    x.observe(outputEl, {childList: true});\n",
              "}}\n",
              "\n",
              "                        })                };                            </script>        </div>\n",
              "</body>\n",
              "</html>"
            ]
          },
          "metadata": {}
        }
      ]
    },
    {
      "cell_type": "code",
      "source": [],
      "metadata": {
        "id": "MT6Pv2yzzz-A"
      },
      "execution_count": null,
      "outputs": []
    }
  ]
}